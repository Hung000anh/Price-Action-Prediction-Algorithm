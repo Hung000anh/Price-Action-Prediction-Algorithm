{
 "cells": [
  {
   "cell_type": "code",
   "execution_count": 1,
   "id": "b9a191c7",
   "metadata": {},
   "outputs": [],
   "source": [
    "import os\n",
    "import pandas as pd\n",
    "from price_loaders.tradingview import load_asset_price\n",
    "import numpy as np\n",
    "\n",
    "def save_to_csv(data, folder, filename):\n",
    "    filepath = os.path.join(folder, filename)\n",
    "    data.to_csv(filepath, index=False)\n",
    "    print(f\"Lưu dữ liệu thành công vào {filepath}\")"
   ]
  },
  {
   "cell_type": "code",
   "execution_count": 2,
   "id": "25467ff1",
   "metadata": {},
   "outputs": [],
   "source": [
    "\n",
    "\n",
    "# eu_gdp_growth                   = load_asset_price(\"EUGDPYY\", 80, \"3M\", None) \n",
    "# eu_interest_rate                = load_asset_price(\"EUINTR\", 240, \"1M\", None) \n",
    "# eu_inflation_rate               = load_asset_price(\"EUIRYY\", 240, \"1M\", None)\n",
    "# eu_consumer_price_index         = load_asset_price(\"EUCPI\", 240, \"1M\", None)\n",
    "# eu_producer_price_index         = load_asset_price(\"EUPPI\", 240, \"1M\", None)\n",
    "# eu_unemployment_rate            = load_asset_price(\"EUUR\", 240, \"1M\", None)\n",
    "# eu_trade_balance                = load_asset_price(\"EUBOT\", 240, \"1M\", None)\n",
    "# eu_gov_debt                     = load_asset_price(\"EUGDG\", 10, \"12M\", None)\n",
    "# eu_consumer_confidence_index    = load_asset_price(\"EUCCI\", 240, \"1M\", None)\n",
    "# eu_retail_sales                 = load_asset_price(\"EURSMM\", 2,\"1M\", None)\n",
    "# eu_money_supply                 = load_asset_price(\"EUM2\", 2,\"1M\", None)\n",
    "\n"
   ]
  },
  {
   "cell_type": "code",
   "execution_count": 3,
   "id": "1124ed72",
   "metadata": {},
   "outputs": [],
   "source": [
    "#EURUSD\n",
    "eurusd_D = load_asset_price(\"EURUSD\", 7560, \"1D\", None)  # ~30 năm ngày\n",
    "eurusd_W = load_asset_price(\"EURUSD\", 1560, \"1W\", None)  # ~30 năm tuần\n",
    "eurusd_M = load_asset_price(\"EURUSD\", 360, \"1M\", None)   # ~30 năm tháng"
   ]
  },
  {
   "cell_type": "code",
   "execution_count": 4,
   "id": "805fdb2c",
   "metadata": {},
   "outputs": [
    {
     "data": {
      "application/vnd.plotly.v1+json": {
       "config": {
        "plotlyServerURL": "https://plot.ly"
       },
       "data": [
        {
         "colorbar": {
          "title": {
           "text": "% Change"
          }
         },
         "colorscale": [
          [
           0,
           "rgb(165,0,38)"
          ],
          [
           0.1,
           "rgb(215,48,39)"
          ],
          [
           0.2,
           "rgb(244,109,67)"
          ],
          [
           0.3,
           "rgb(253,174,97)"
          ],
          [
           0.4,
           "rgb(254,224,139)"
          ],
          [
           0.5,
           "rgb(255,255,191)"
          ],
          [
           0.6,
           "rgb(217,239,139)"
          ],
          [
           0.7,
           "rgb(166,217,106)"
          ],
          [
           0.8,
           "rgb(102,189,99)"
          ],
          [
           0.9,
           "rgb(26,152,80)"
          ],
          [
           1,
           "rgb(0,104,55)"
          ]
         ],
         "hovertemplate": "Year: %{y}<br>Month: %{x}<br>Change: %{z:.2f}%",
         "type": "heatmap",
         "x": [
          "Jan",
          "Feb",
          "Mar",
          "Apr",
          "May",
          "Jun",
          "Jul",
          "Aug",
          "Sep",
          "Oct",
          "Nov",
          "Dec"
         ],
         "y": [
          "2015",
          "2016",
          "2017",
          "2018",
          "2019",
          "2020",
          "2021",
          "2022",
          "2023",
          "2024",
          "2025"
         ],
         "z": {
          "bdata": "AAAAAAAA+H/YJU2V3ZLovwTyFpIMaRDAFsAhDp5YEkCkhoMQqpAAwNS5Ejkb4fU/GE8YtMzy9r/2u4zVsZIAQPhYtXMqL9O/4uO2WPoC+b85YhyzGNoPwKBm5apmvgZAWGQuCesH1L9gcHfpDpfZP8GjSvzqiBJA6PAbNaVo4z8Zqafq6gkGwHC6Z4UcJMu/AHSVlfCL4T/gAlywXIe4v1jkqubvK+Y/v8Lc92AYAsCmMJEgaKIMwIBCo/sg+uS/XFxTVIJEBUDuBicaFV4AwBgWmXQWY+g/spXqFJsVAkBuRUW3HEwJQJwCXur55/g/Fo/d/3C3DUCICdcTg1LiPyx+BecLJeq/NkeuRnp19r905rsyArIBQKA4OfyINOs/qM2dYT03C0BqQ6J6Xlv8v0SBUPpmvvA/1DSB62iY/7901pJz5aoJwGAD8Dg8nbK/wBGZj4VhtD9YghbihLfovwAgonV7a5M/aaJ7hzkSBMAA5Tcg7/esP2g5MOLo7PE/APDFtblrjj+8oqeV/Tflv+RdKgN9mfW/AAXY/LQrk7/YovoklHrav8wqndwsgvw/XTlhneucBMDs/kEOODLpv8Rcw7KJTOq/nvumQqGlAkB+X6ROInzzv1Ah+c1uDf4/UAovbZct8r/Mody3xyHkvwArgRM4gaM/cCRrvBJm5r8os+ThiMT1P0R4Nn4rCvM/77p2uo9PE0A8R1Ob2dX1PxI0sx6WFv2/8FhqjM875L/OKSRPsBwDQPpIK5MnoANARFTvPhW+5b/8+sepQZDgv09nctcPiQbAULls/fOEA0AwIKPolaT7P0F27ATlDgjAgIv91O4uuD8IXDShJ+3fv45ghe9whP+/QPC6+bjYv7/ONOeG3+r+v9BIy3GD2tk/Vqd7pa0j9b+QOYtaqsbBvxSbs6yrifW/iY5VT8H7EsCA9B6+it78P63LzMLsegLAR47eX0moA8AGd1TxjEn7v8ivbvcg/APA+ML1D5os6T8o8E3jt2EVQDrBqYF8lgZAfAk8biQb+D9FvgxvhDwFwDgTH201cARAxENVPty0+T+M59/ts88HwH6uaQV0igBAMNpbWMGE6T8ynVa2xVH2v8HWa+M44APAAFRraFJecz/259HFfYEHQLjOsz65ZvY/1Fbc2JzR/79AuAhITkq+v6DKWK6Ht8K/0AoWYW9j8r9MTQZxeFH7PyoxGZfFKfS/ZP723Scm8T9cx4GbTzwAQPjQXfe41+k/ueqXNRIQAsAyb8tU0LYGwFzHypp7lQDAACjnl4HBhT+gFGKgMgDGPytyPx0iABFAIhruEnH4EkAAmF7gdCHFP4A6Nkv/Dg9AyABvtQTG9b8AAAAAAAD4fwAAAAAAAPh/AAAAAAAA+H8AAAAAAAD4fwAAAAAAAPh/",
          "dtype": "f8",
          "shape": "11, 12"
         }
        },
        {
         "marker": {
          "color": "blue"
         },
         "name": "Average % Change",
         "type": "bar",
         "x": [
          "Jan",
          "Feb",
          "Mar",
          "Apr",
          "May",
          "Jun",
          "Jul",
          "Aug",
          "Sep",
          "Oct",
          "Nov",
          "Dec"
         ],
         "y": {
          "bdata": "ZlaMz3iSyz9Jsn8s8mnpv8DJzU4RgNQ/jfgh3lpE5j+ADCjQP2vBv51HLVPB/tw/TM9IgLM60z+QCum5rg60P0BNxykpaO2/Qq16GXdq6L/mszNp2y6vvyrUJQKaq/E/",
          "dtype": "f8"
         },
         "yaxis": "y2"
        },
        {
         "marker": {
          "color": "orange"
         },
         "name": "Std Dev",
         "type": "bar",
         "x": [
          "Jan",
          "Feb",
          "Mar",
          "Apr",
          "May",
          "Jun",
          "Jul",
          "Aug",
          "Sep",
          "Oct",
          "Nov",
          "Dec"
         ],
         "y": {
          "bdata": "8mcK3mM4/D9FEiHD4PHuP/Yg0XHm6QVAVuCphtiwBkBgJ1jAhj8CQJhOzMm8ZABAsPUFySi6AkDrvKbbkOf1P0XAXaAYwfM/dXAKPdLE+D8D58ZoFEIJQM34bcSsJfk/",
          "dtype": "f8"
         },
         "yaxis": "y2"
        },
        {
         "marker": {
          "color": "green"
         },
         "name": "% Positive",
         "type": "bar",
         "x": [
          "Jan",
          "Feb",
          "Mar",
          "Apr",
          "May",
          "Jun",
          "Jul",
          "Aug",
          "Sep",
          "Oct",
          "Nov",
          "Dec"
         ],
         "y": {
          "bdata": "AAAAAAAASUAvuuiiiy4yQEUXXXTRRUtARRdddNFFS0BFF1100UVLQEUXXXTRRUtA0UUXXXTRT0AAAAAAAABEQAAAAAAAAD5AAAAAAAAAPkAAAAAAAABJQAAAAAAAAFRA",
          "dtype": "f8"
         },
         "yaxis": "y2"
        }
       ],
       "layout": {
        "barmode": "group",
        "height": 700,
        "legend": {
         "orientation": "h",
         "x": 1,
         "xanchor": "right",
         "y": 1.05,
         "yanchor": "bottom"
        },
        "margin": {
         "t": 50
        },
        "template": {
         "data": {
          "bar": [
           {
            "error_x": {
             "color": "#2a3f5f"
            },
            "error_y": {
             "color": "#2a3f5f"
            },
            "marker": {
             "line": {
              "color": "#E5ECF6",
              "width": 0.5
             },
             "pattern": {
              "fillmode": "overlay",
              "size": 10,
              "solidity": 0.2
             }
            },
            "type": "bar"
           }
          ],
          "barpolar": [
           {
            "marker": {
             "line": {
              "color": "#E5ECF6",
              "width": 0.5
             },
             "pattern": {
              "fillmode": "overlay",
              "size": 10,
              "solidity": 0.2
             }
            },
            "type": "barpolar"
           }
          ],
          "carpet": [
           {
            "aaxis": {
             "endlinecolor": "#2a3f5f",
             "gridcolor": "white",
             "linecolor": "white",
             "minorgridcolor": "white",
             "startlinecolor": "#2a3f5f"
            },
            "baxis": {
             "endlinecolor": "#2a3f5f",
             "gridcolor": "white",
             "linecolor": "white",
             "minorgridcolor": "white",
             "startlinecolor": "#2a3f5f"
            },
            "type": "carpet"
           }
          ],
          "choropleth": [
           {
            "colorbar": {
             "outlinewidth": 0,
             "ticks": ""
            },
            "type": "choropleth"
           }
          ],
          "contour": [
           {
            "colorbar": {
             "outlinewidth": 0,
             "ticks": ""
            },
            "colorscale": [
             [
              0,
              "#0d0887"
             ],
             [
              0.1111111111111111,
              "#46039f"
             ],
             [
              0.2222222222222222,
              "#7201a8"
             ],
             [
              0.3333333333333333,
              "#9c179e"
             ],
             [
              0.4444444444444444,
              "#bd3786"
             ],
             [
              0.5555555555555556,
              "#d8576b"
             ],
             [
              0.6666666666666666,
              "#ed7953"
             ],
             [
              0.7777777777777778,
              "#fb9f3a"
             ],
             [
              0.8888888888888888,
              "#fdca26"
             ],
             [
              1,
              "#f0f921"
             ]
            ],
            "type": "contour"
           }
          ],
          "contourcarpet": [
           {
            "colorbar": {
             "outlinewidth": 0,
             "ticks": ""
            },
            "type": "contourcarpet"
           }
          ],
          "heatmap": [
           {
            "colorbar": {
             "outlinewidth": 0,
             "ticks": ""
            },
            "colorscale": [
             [
              0,
              "#0d0887"
             ],
             [
              0.1111111111111111,
              "#46039f"
             ],
             [
              0.2222222222222222,
              "#7201a8"
             ],
             [
              0.3333333333333333,
              "#9c179e"
             ],
             [
              0.4444444444444444,
              "#bd3786"
             ],
             [
              0.5555555555555556,
              "#d8576b"
             ],
             [
              0.6666666666666666,
              "#ed7953"
             ],
             [
              0.7777777777777778,
              "#fb9f3a"
             ],
             [
              0.8888888888888888,
              "#fdca26"
             ],
             [
              1,
              "#f0f921"
             ]
            ],
            "type": "heatmap"
           }
          ],
          "histogram": [
           {
            "marker": {
             "pattern": {
              "fillmode": "overlay",
              "size": 10,
              "solidity": 0.2
             }
            },
            "type": "histogram"
           }
          ],
          "histogram2d": [
           {
            "colorbar": {
             "outlinewidth": 0,
             "ticks": ""
            },
            "colorscale": [
             [
              0,
              "#0d0887"
             ],
             [
              0.1111111111111111,
              "#46039f"
             ],
             [
              0.2222222222222222,
              "#7201a8"
             ],
             [
              0.3333333333333333,
              "#9c179e"
             ],
             [
              0.4444444444444444,
              "#bd3786"
             ],
             [
              0.5555555555555556,
              "#d8576b"
             ],
             [
              0.6666666666666666,
              "#ed7953"
             ],
             [
              0.7777777777777778,
              "#fb9f3a"
             ],
             [
              0.8888888888888888,
              "#fdca26"
             ],
             [
              1,
              "#f0f921"
             ]
            ],
            "type": "histogram2d"
           }
          ],
          "histogram2dcontour": [
           {
            "colorbar": {
             "outlinewidth": 0,
             "ticks": ""
            },
            "colorscale": [
             [
              0,
              "#0d0887"
             ],
             [
              0.1111111111111111,
              "#46039f"
             ],
             [
              0.2222222222222222,
              "#7201a8"
             ],
             [
              0.3333333333333333,
              "#9c179e"
             ],
             [
              0.4444444444444444,
              "#bd3786"
             ],
             [
              0.5555555555555556,
              "#d8576b"
             ],
             [
              0.6666666666666666,
              "#ed7953"
             ],
             [
              0.7777777777777778,
              "#fb9f3a"
             ],
             [
              0.8888888888888888,
              "#fdca26"
             ],
             [
              1,
              "#f0f921"
             ]
            ],
            "type": "histogram2dcontour"
           }
          ],
          "mesh3d": [
           {
            "colorbar": {
             "outlinewidth": 0,
             "ticks": ""
            },
            "type": "mesh3d"
           }
          ],
          "parcoords": [
           {
            "line": {
             "colorbar": {
              "outlinewidth": 0,
              "ticks": ""
             }
            },
            "type": "parcoords"
           }
          ],
          "pie": [
           {
            "automargin": true,
            "type": "pie"
           }
          ],
          "scatter": [
           {
            "fillpattern": {
             "fillmode": "overlay",
             "size": 10,
             "solidity": 0.2
            },
            "type": "scatter"
           }
          ],
          "scatter3d": [
           {
            "line": {
             "colorbar": {
              "outlinewidth": 0,
              "ticks": ""
             }
            },
            "marker": {
             "colorbar": {
              "outlinewidth": 0,
              "ticks": ""
             }
            },
            "type": "scatter3d"
           }
          ],
          "scattercarpet": [
           {
            "marker": {
             "colorbar": {
              "outlinewidth": 0,
              "ticks": ""
             }
            },
            "type": "scattercarpet"
           }
          ],
          "scattergeo": [
           {
            "marker": {
             "colorbar": {
              "outlinewidth": 0,
              "ticks": ""
             }
            },
            "type": "scattergeo"
           }
          ],
          "scattergl": [
           {
            "marker": {
             "colorbar": {
              "outlinewidth": 0,
              "ticks": ""
             }
            },
            "type": "scattergl"
           }
          ],
          "scattermap": [
           {
            "marker": {
             "colorbar": {
              "outlinewidth": 0,
              "ticks": ""
             }
            },
            "type": "scattermap"
           }
          ],
          "scattermapbox": [
           {
            "marker": {
             "colorbar": {
              "outlinewidth": 0,
              "ticks": ""
             }
            },
            "type": "scattermapbox"
           }
          ],
          "scatterpolar": [
           {
            "marker": {
             "colorbar": {
              "outlinewidth": 0,
              "ticks": ""
             }
            },
            "type": "scatterpolar"
           }
          ],
          "scatterpolargl": [
           {
            "marker": {
             "colorbar": {
              "outlinewidth": 0,
              "ticks": ""
             }
            },
            "type": "scatterpolargl"
           }
          ],
          "scatterternary": [
           {
            "marker": {
             "colorbar": {
              "outlinewidth": 0,
              "ticks": ""
             }
            },
            "type": "scatterternary"
           }
          ],
          "surface": [
           {
            "colorbar": {
             "outlinewidth": 0,
             "ticks": ""
            },
            "colorscale": [
             [
              0,
              "#0d0887"
             ],
             [
              0.1111111111111111,
              "#46039f"
             ],
             [
              0.2222222222222222,
              "#7201a8"
             ],
             [
              0.3333333333333333,
              "#9c179e"
             ],
             [
              0.4444444444444444,
              "#bd3786"
             ],
             [
              0.5555555555555556,
              "#d8576b"
             ],
             [
              0.6666666666666666,
              "#ed7953"
             ],
             [
              0.7777777777777778,
              "#fb9f3a"
             ],
             [
              0.8888888888888888,
              "#fdca26"
             ],
             [
              1,
              "#f0f921"
             ]
            ],
            "type": "surface"
           }
          ],
          "table": [
           {
            "cells": {
             "fill": {
              "color": "#EBF0F8"
             },
             "line": {
              "color": "white"
             }
            },
            "header": {
             "fill": {
              "color": "#C8D4E3"
             },
             "line": {
              "color": "white"
             }
            },
            "type": "table"
           }
          ]
         },
         "layout": {
          "annotationdefaults": {
           "arrowcolor": "#2a3f5f",
           "arrowhead": 0,
           "arrowwidth": 1
          },
          "autotypenumbers": "strict",
          "coloraxis": {
           "colorbar": {
            "outlinewidth": 0,
            "ticks": ""
           }
          },
          "colorscale": {
           "diverging": [
            [
             0,
             "#8e0152"
            ],
            [
             0.1,
             "#c51b7d"
            ],
            [
             0.2,
             "#de77ae"
            ],
            [
             0.3,
             "#f1b6da"
            ],
            [
             0.4,
             "#fde0ef"
            ],
            [
             0.5,
             "#f7f7f7"
            ],
            [
             0.6,
             "#e6f5d0"
            ],
            [
             0.7,
             "#b8e186"
            ],
            [
             0.8,
             "#7fbc41"
            ],
            [
             0.9,
             "#4d9221"
            ],
            [
             1,
             "#276419"
            ]
           ],
           "sequential": [
            [
             0,
             "#0d0887"
            ],
            [
             0.1111111111111111,
             "#46039f"
            ],
            [
             0.2222222222222222,
             "#7201a8"
            ],
            [
             0.3333333333333333,
             "#9c179e"
            ],
            [
             0.4444444444444444,
             "#bd3786"
            ],
            [
             0.5555555555555556,
             "#d8576b"
            ],
            [
             0.6666666666666666,
             "#ed7953"
            ],
            [
             0.7777777777777778,
             "#fb9f3a"
            ],
            [
             0.8888888888888888,
             "#fdca26"
            ],
            [
             1,
             "#f0f921"
            ]
           ],
           "sequentialminus": [
            [
             0,
             "#0d0887"
            ],
            [
             0.1111111111111111,
             "#46039f"
            ],
            [
             0.2222222222222222,
             "#7201a8"
            ],
            [
             0.3333333333333333,
             "#9c179e"
            ],
            [
             0.4444444444444444,
             "#bd3786"
            ],
            [
             0.5555555555555556,
             "#d8576b"
            ],
            [
             0.6666666666666666,
             "#ed7953"
            ],
            [
             0.7777777777777778,
             "#fb9f3a"
            ],
            [
             0.8888888888888888,
             "#fdca26"
            ],
            [
             1,
             "#f0f921"
            ]
           ]
          },
          "colorway": [
           "#636efa",
           "#EF553B",
           "#00cc96",
           "#ab63fa",
           "#FFA15A",
           "#19d3f3",
           "#FF6692",
           "#B6E880",
           "#FF97FF",
           "#FECB52"
          ],
          "font": {
           "color": "#2a3f5f"
          },
          "geo": {
           "bgcolor": "white",
           "lakecolor": "white",
           "landcolor": "#E5ECF6",
           "showlakes": true,
           "showland": true,
           "subunitcolor": "white"
          },
          "hoverlabel": {
           "align": "left"
          },
          "hovermode": "closest",
          "mapbox": {
           "style": "light"
          },
          "paper_bgcolor": "white",
          "plot_bgcolor": "#E5ECF6",
          "polar": {
           "angularaxis": {
            "gridcolor": "white",
            "linecolor": "white",
            "ticks": ""
           },
           "bgcolor": "#E5ECF6",
           "radialaxis": {
            "gridcolor": "white",
            "linecolor": "white",
            "ticks": ""
           }
          },
          "scene": {
           "xaxis": {
            "backgroundcolor": "#E5ECF6",
            "gridcolor": "white",
            "gridwidth": 2,
            "linecolor": "white",
            "showbackground": true,
            "ticks": "",
            "zerolinecolor": "white"
           },
           "yaxis": {
            "backgroundcolor": "#E5ECF6",
            "gridcolor": "white",
            "gridwidth": 2,
            "linecolor": "white",
            "showbackground": true,
            "ticks": "",
            "zerolinecolor": "white"
           },
           "zaxis": {
            "backgroundcolor": "#E5ECF6",
            "gridcolor": "white",
            "gridwidth": 2,
            "linecolor": "white",
            "showbackground": true,
            "ticks": "",
            "zerolinecolor": "white"
           }
          },
          "shapedefaults": {
           "line": {
            "color": "#2a3f5f"
           }
          },
          "ternary": {
           "aaxis": {
            "gridcolor": "white",
            "linecolor": "white",
            "ticks": ""
           },
           "baxis": {
            "gridcolor": "white",
            "linecolor": "white",
            "ticks": ""
           },
           "bgcolor": "#E5ECF6",
           "caxis": {
            "gridcolor": "white",
            "linecolor": "white",
            "ticks": ""
           }
          },
          "title": {
           "x": 0.05
          },
          "xaxis": {
           "automargin": true,
           "gridcolor": "white",
           "linecolor": "white",
           "ticks": "",
           "title": {
            "standoff": 15
           },
           "zerolinecolor": "white",
           "zerolinewidth": 2
          },
          "yaxis": {
           "automargin": true,
           "gridcolor": "white",
           "linecolor": "white",
           "ticks": "",
           "title": {
            "standoff": 15
           },
           "zerolinecolor": "white",
           "zerolinewidth": 2
          }
         }
        },
        "title": {
         "text": "Seasonal Monthly Changes since 2015"
        },
        "yaxis": {
         "domain": [
          0.3,
          1
         ],
         "title": {
          "text": "Yearly Monthly % Change"
         }
        },
        "yaxis2": {
         "anchor": "x",
         "domain": [
          0,
          0.25
         ],
         "title": {
          "text": "Stats"
         }
        }
       }
      }
     },
     "metadata": {},
     "output_type": "display_data"
    },
    {
     "name": "stdout",
     "output_type": "stream",
     "text": [
      "   Month  Average % Change   Std Dev  % Positive\n",
      "0    Jan          0.215407  1.763767   50.000000\n",
      "1    Feb         -0.794183  0.967026   18.181818\n",
      "2    Mar          0.320317  2.739209   54.545455\n",
      "3    Apr          0.695844  2.836350   54.545455\n",
      "4    May         -0.136085  2.281019   54.545455\n",
      "5    Jun          0.453049  2.049188   54.545455\n",
      "6    Jul          0.300458  2.340898   63.636364\n",
      "7    Aug          0.078349  1.369035   40.000000\n",
      "8    Sep         -0.918965  1.234643   30.000000\n",
      "9    Oct         -0.762996  1.548052   30.000000\n",
      "10   Nov         -0.060904  3.157265   50.000000\n",
      "11   Dec          1.104395  1.571698   80.000000\n"
     ]
    }
   ],
   "source": [
    "import pandas as pd\n",
    "import numpy as np\n",
    "import plotly.express as px\n",
    "import plotly.graph_objects as go\n",
    "\n",
    "def seasonality_monthly(df, start_year=2015, ignore_months=None):\n",
    "    \"\"\"\n",
    "    Tính seasonal tendency theo tháng từng năm và vẽ heatmap cùng thống kê.\n",
    "\n",
    "    Parameters:\n",
    "    - df: DataFrame có 'time' (datetime), 'close' (float)\n",
    "    - start_year: năm bắt đầu tính toán (bao gồm)\n",
    "    - ignore_months: list các tháng dạng 'YYYY-MM' để loại bỏ (vd: ['2020-03', '2021-07'])\n",
    "\n",
    "    Returns:\n",
    "    - heatmap figure, stats DataFrame\n",
    "    \"\"\"\n",
    "    # Xử lý datetime\n",
    "    df['time'] = pd.to_datetime(df['time'])\n",
    "    df = df[df['time'].dt.year >= start_year].copy()\n",
    "\n",
    "    # Loại bỏ tháng bị ignore nếu có\n",
    "    if ignore_months:\n",
    "        ignore_months = set(ignore_months)\n",
    "        df['year_month'] = df['time'].dt.strftime('%Y-%m')\n",
    "        df = df[~df['year_month'].isin(ignore_months)]\n",
    "\n",
    "    # Sắp xếp theo thời gian\n",
    "    df = df.sort_values('time').reset_index(drop=True)\n",
    "\n",
    "    # Tính % thay đổi tháng so với tháng trước\n",
    "    df['pct_change'] = df['close'].pct_change() * 100\n",
    "\n",
    "    # Tạo cột năm và tháng\n",
    "    df['year'] = df['time'].dt.year\n",
    "    df['month'] = df['time'].dt.month\n",
    "\n",
    "    # Tạo ma trận: index là năm, columns là tháng, giá trị là % change\n",
    "    pivot = df.pivot(index='year', columns='month', values='pct_change')\n",
    "\n",
    "    # Thống kê từng tháng theo năm: trung bình, độ lệch chuẩn, % positive\n",
    "    monthly_avg = pivot.mean(axis=0)\n",
    "    monthly_std = pivot.std(axis=0)\n",
    "    monthly_pos_pct = (pivot > 0).sum(axis=0) / pivot.count(axis=0) * 100\n",
    "\n",
    "    # Tạo heatmap\n",
    "    month_names = ['Jan', 'Feb', 'Mar', 'Apr', 'May', 'Jun',\n",
    "                   'Jul', 'Aug', 'Sep', 'Oct', 'Nov', 'Dec']\n",
    "\n",
    "    fig = go.Figure(data=go.Heatmap(\n",
    "        z=pivot.values,\n",
    "        x=month_names,\n",
    "        y=pivot.index.astype(str),\n",
    "        colorscale='RdYlGn',\n",
    "        colorbar=dict(title='% Change'),\n",
    "        hovertemplate='Year: %{y}<br>Month: %{x}<br>Change: %{z:.2f}%' \n",
    "    ))\n",
    "\n",
    "    # Vẽ thêm các thống kê bên dưới heatmap dưới dạng biểu đồ cột\n",
    "    fig.add_trace(go.Bar(\n",
    "        x=month_names,\n",
    "        y=monthly_avg,\n",
    "        name='Average % Change',\n",
    "        marker_color='blue',\n",
    "        yaxis='y2'\n",
    "    ))\n",
    "    fig.add_trace(go.Bar(\n",
    "        x=month_names,\n",
    "        y=monthly_std,\n",
    "        name='Std Dev',\n",
    "        marker_color='orange',\n",
    "        yaxis='y2'\n",
    "    ))\n",
    "    fig.add_trace(go.Bar(\n",
    "        x=month_names,\n",
    "        y=monthly_pos_pct,\n",
    "        name='% Positive',\n",
    "        marker_color='green',\n",
    "        yaxis='y2'\n",
    "    ))\n",
    "\n",
    "    # Cấu hình trục y thứ 2 để vẽ thống kê\n",
    "    fig.update_layout(\n",
    "        title=f'Seasonal Monthly Changes since {start_year}',\n",
    "        yaxis=dict(title='Yearly Monthly % Change', domain=[0.3, 1]),\n",
    "        yaxis2=dict(title='Stats', domain=[0, 0.25], anchor='x'),\n",
    "        barmode='group',\n",
    "        height=700,\n",
    "        legend=dict(orientation='h', yanchor='bottom', y=1.05, xanchor='right', x=1),\n",
    "        margin=dict(t=50)\n",
    "    )\n",
    "\n",
    "    # Dữ liệu thống kê trả về\n",
    "    stats_df = pd.DataFrame({\n",
    "        'Month': month_names,\n",
    "        'Average % Change': monthly_avg.values,\n",
    "        'Std Dev': monthly_std.values,\n",
    "        '% Positive': monthly_pos_pct.values\n",
    "    })\n",
    "\n",
    "    return fig, stats_df\n",
    "\n",
    "# Ví dụ sử dụng:\n",
    "import pandas as pd\n",
    "\n",
    "# Giả sử eurusd_D là DataFrame của bạn, đã có cột time dạng datetime với timezone\n",
    "\n",
    "\n",
    "fig, stats = seasonality_monthly(eurusd_M, start_year=2015)\n",
    "fig.show()\n",
    "print(stats)\n"
   ]
  },
  {
   "cell_type": "code",
   "execution_count": 5,
   "id": "71614256",
   "metadata": {},
   "outputs": [],
   "source": [
    "import numpy as np\n",
    "import pandas as pd\n",
    "import plotly.graph_objects as go\n",
    "\n",
    "def calculate_swing_high_low(df, timeframe='D'):\n",
    "    \"\"\"\n",
    "    Tính swing high/low và lọc đỉnh/đáy hợp lệ theo logic đã cho.\n",
    "    Trả về df với 2 cột mới: 'valid_swing_high', 'valid_swing_low' (bool).\n",
    "    \"\"\"\n",
    "    df = df.reset_index(drop=True)\n",
    "\n",
    "    if(timeframe == 'D'):\n",
    "        window = 5\n",
    "    elif(timeframe == 'W'):\n",
    "        window = 4\n",
    "    elif(timeframe == 'M'):\n",
    "        window = 3\n",
    "    else:\n",
    "        raise ValueError(\"Invalid timeframe\")\n",
    "    highs = df['high']\n",
    "    lows = df['low']\n",
    "\n",
    "    swing_highs = []\n",
    "    swing_lows = []\n",
    "    n = len(df)\n",
    "\n",
    "    # Tìm điểm swing high/low thô\n",
    "    for i in range(n):\n",
    "        start = max(i - window, 0)\n",
    "        end = min(i + window + 1, n)\n",
    "\n",
    "        max_around = highs[start:i].max() if i > start else -np.inf\n",
    "        max_around = max(max_around, highs[i+1:end].max() if i+1 < end else -np.inf)\n",
    "\n",
    "        min_around = lows[start:i].min() if i > start else np.inf\n",
    "        min_around = min(min_around, lows[i+1:end].min() if i+1 < end else np.inf)\n",
    "\n",
    "        swing_highs.append(highs[i] > max_around)\n",
    "        swing_lows.append(lows[i] < min_around)\n",
    "\n",
    "    df['swing_high'] = swing_highs\n",
    "    df['swing_low'] = swing_lows\n",
    "\n",
    "    swing_high_indices = df.index[df['swing_high']].tolist()\n",
    "    swing_low_indices = df.index[df['swing_low']].tolist()\n",
    "\n",
    "    # Hàm kiểm tra swing high hợp lệ\n",
    "    def is_valid_swing_high(sh_idx):\n",
    "        lows_before = [idx for idx in swing_low_indices if idx < sh_idx]\n",
    "        lows_after = [idx for idx in swing_low_indices if idx > sh_idx]\n",
    "        if not lows_before or not lows_after:\n",
    "            return False\n",
    "        low_before_idx = max(lows_before)\n",
    "        low_after_idx = min(lows_after)\n",
    "        high_price = df.at[sh_idx, 'high']\n",
    "        low_before_price = df.at[low_before_idx, 'low']\n",
    "        low_after_price = df.at[low_after_idx, 'low']\n",
    "        return low_before_price < high_price and low_after_price < high_price\n",
    "\n",
    "    # Hàm kiểm tra swing low hợp lệ\n",
    "    def is_valid_swing_low(sl_idx):\n",
    "        highs_before = [idx for idx in swing_high_indices if idx < sl_idx]\n",
    "        highs_after = [idx for idx in swing_high_indices if idx > sl_idx]\n",
    "        if not highs_before or not highs_after:\n",
    "            return False\n",
    "        high_before_idx = max(highs_before)\n",
    "        high_after_idx = min(highs_after)\n",
    "        low_price = df.at[sl_idx, 'low']\n",
    "        high_before_price = df.at[high_before_idx, 'high']\n",
    "        high_after_price = df.at[high_after_idx, 'high']\n",
    "        return high_before_price > low_price and high_after_price > low_price\n",
    "\n",
    "    valid_swing_highs = [(idx, is_valid_swing_high(idx)) for idx in swing_high_indices]\n",
    "    valid_swing_lows = [(idx, is_valid_swing_low(idx)) for idx in swing_low_indices]\n",
    "\n",
    "    df['valid_swing_high'] = False\n",
    "    for idx, valid in valid_swing_highs:\n",
    "        df.at[idx, 'valid_swing_high'] = valid\n",
    "\n",
    "    df['valid_swing_low'] = False\n",
    "    for idx, valid in valid_swing_lows:\n",
    "        df.at[idx, 'valid_swing_low'] = valid\n",
    "\n",
    "    # Lọc loại bỏ các đỉnh liên tiếp không hợp lệ\n",
    "    def filter_consecutive_highs():\n",
    "        valid_highs = df.index[df['valid_swing_high']].tolist()\n",
    "        valid_lows = df.index[df['valid_swing_low']].tolist()\n",
    "        filtered_highs = []\n",
    "\n",
    "        i = 0\n",
    "        while i < len(valid_highs):\n",
    "            curr_high = valid_highs[i]\n",
    "\n",
    "            if i == len(valid_highs) - 1:\n",
    "                filtered_highs.append(curr_high)\n",
    "                break\n",
    "\n",
    "            next_high = valid_highs[i + 1]\n",
    "            lows_between = [low for low in valid_lows if curr_high < low < next_high]\n",
    "\n",
    "            if lows_between:\n",
    "                filtered_highs.append(curr_high)\n",
    "                i += 1\n",
    "            else:\n",
    "                curr_high_price = df.at[curr_high, 'high']\n",
    "                next_high_price = df.at[next_high, 'high']\n",
    "\n",
    "                if curr_high_price > next_high_price:\n",
    "                    filtered_highs.append(curr_high)\n",
    "                    i += 2  # bỏ next_high\n",
    "                else:\n",
    "                    i += 1  # bỏ curr_high, giữ next_high\n",
    "\n",
    "        if valid_highs[-1] not in filtered_highs:\n",
    "            filtered_highs.append(valid_highs[-1])\n",
    "\n",
    "        df['valid_swing_high'] = False\n",
    "        df.loc[filtered_highs, 'valid_swing_high'] = True\n",
    "\n",
    "    # Lọc loại bỏ các đáy liên tiếp không hợp lệ\n",
    "    def filter_consecutive_lows():\n",
    "        valid_lows = df.index[df['valid_swing_low']].tolist()\n",
    "        valid_highs = df.index[df['valid_swing_high']].tolist()\n",
    "        filtered_lows = []\n",
    "\n",
    "        i = 0\n",
    "        while i < len(valid_lows):\n",
    "            curr_low = valid_lows[i]\n",
    "\n",
    "            if i == len(valid_lows) - 1:\n",
    "                filtered_lows.append(curr_low)\n",
    "                break\n",
    "\n",
    "            next_low = valid_lows[i + 1]\n",
    "            highs_between = [high for high in valid_highs if curr_low < high < next_low]\n",
    "\n",
    "            if highs_between:\n",
    "                filtered_lows.append(curr_low)\n",
    "                i += 1\n",
    "            else:\n",
    "                curr_low_price = df.at[curr_low, 'low']\n",
    "                next_low_price = df.at[next_low, 'low']\n",
    "\n",
    "                if curr_low_price < next_low_price:\n",
    "                    filtered_lows.append(curr_low)\n",
    "                    i += 2  # bỏ next_low\n",
    "                else:\n",
    "                    i += 1  # bỏ curr_low, giữ next_low\n",
    "\n",
    "        if valid_lows[-1] not in filtered_lows:\n",
    "            filtered_lows.append(valid_lows[-1])\n",
    "\n",
    "        df['valid_swing_low'] = False\n",
    "        df.loc[filtered_lows, 'valid_swing_low'] = True\n",
    "\n",
    "    filter_consecutive_highs()\n",
    "    filter_consecutive_lows()\n",
    "\n",
    "    return df\n",
    "\n",
    "\n",
    "def calculate_moving_averages(df, windows=[30, 60, 90]):\n",
    "    \"\"\"\n",
    "    Tính các đường MA với list windows (mặc định 30, 60, 90).\n",
    "    Trả về df với các cột MA tương ứng.\n",
    "    \"\"\"\n",
    "    for w in windows:\n",
    "        df[f'MA{w}'] = df['close'].rolling(window=w).mean()\n",
    "    return df\n"
   ]
  },
  {
   "cell_type": "code",
   "execution_count": 6,
   "id": "85c3c933",
   "metadata": {},
   "outputs": [],
   "source": [
    "# Tính swing high/low hợp lệ\n",
    "eurusd_D = calculate_swing_high_low(eurusd_D, timeframe='D')\n",
    "# Tính các đường MA\n",
    "eurusd_D = calculate_moving_averages(eurusd_D, windows=[30, 60, 90])\n",
    "eurusd_D['time'] = pd.to_datetime(eurusd_D['time'])\n"
   ]
  },
  {
   "cell_type": "code",
   "execution_count": 7,
   "id": "4730f6a2",
   "metadata": {},
   "outputs": [],
   "source": [
    "# Tính swing high/low hợp lệ\n",
    "eurusd_W = calculate_swing_high_low(eurusd_W, timeframe='W')\n",
    "# Tính các đường MA\n",
    "eurusd_W = calculate_moving_averages(eurusd_W, windows=[30, 60, 90])\n",
    "eurusd_W['time'] = pd.to_datetime(eurusd_W['time'])"
   ]
  },
  {
   "cell_type": "code",
   "execution_count": 8,
   "id": "68f63e1b",
   "metadata": {},
   "outputs": [],
   "source": [
    "# Tính swing high/low hợp lệ\n",
    "eurusd_M = calculate_swing_high_low(eurusd_M, timeframe='M')\n",
    "# Tính các đường MA\n",
    "eurusd_M = calculate_moving_averages(eurusd_M, windows=[30, 60, 90])\n",
    "eurusd_M['time'] = pd.to_datetime(eurusd_M['time'])"
   ]
  },
  {
   "cell_type": "code",
   "execution_count": 9,
   "id": "df783562",
   "metadata": {},
   "outputs": [],
   "source": [
    "max_date = eurusd_D['time'].max()"
   ]
  },
  {
   "cell_type": "code",
   "execution_count": null,
   "id": "4c0be6a0",
   "metadata": {},
   "outputs": [],
   "source": [
    "\n",
    "def plot_candlestick(\n",
    "    df,\n",
    "    title=\"EURUSD Candlestick Chart\",\n",
    "    show_volume=False,\n",
    "    show_swings=False,\n",
    "    timeframe='D',  # D / W / M\n",
    "    start_date=None,\n",
    "    end_date=None\n",
    "):\n",
    "    \"\"\"\n",
    "    Vẽ biểu đồ nến cho EURUSD với các đường MA và tuỳ chọn volume + swing points.\n",
    "    \n",
    "    Args:\n",
    "        df: DataFrame phải chứa các cột: time, open, high, low, close, MA30/60/90 (optional), volume (optional)\n",
    "        title: Tiêu đề biểu đồ\n",
    "        show_volume: Nếu True sẽ vẽ volume (dưới)\n",
    "        show_swings: Nếu True sẽ vẽ các điểm swing high/low\n",
    "        timeframe: 'D', 'W', 'M' (D: daily, weekly, monthly)\n",
    "        start_date: chuỗi dạng 'YYYY-MM-DD' hoặc datetime để lọc ngày bắt đầu\n",
    "        end_date: chuỗi dạng 'YYYY-MM-DD' hoặc datetime để lọc ngày kết thúc\n",
    "    \"\"\"\n",
    "\n",
    "    # Lọc dữ liệu theo ngày nếu có\n",
    "    if start_date:\n",
    "        start_date = pd.to_datetime(start_date).tz_localize(df['time'].dt.tz)\n",
    "    if end_date:\n",
    "        end_date = pd.to_datetime(end_date).tz_localize(df['time'].dt.tz)\n",
    "\n",
    "    # Lọc theo ngày nếu có\n",
    "    if start_date or end_date:\n",
    "        df = df.copy()\n",
    "        if start_date:\n",
    "            df = df[df['time'] >= start_date]\n",
    "        if end_date:\n",
    "            df = df[df['time'] <= end_date]\n",
    "\n",
    "    fig = go.Figure()\n",
    "\n",
    "    # Candlestick\n",
    "    fig.add_trace(go.Candlestick(\n",
    "        x=df['time'],\n",
    "        open=df['open'],\n",
    "        high=df['high'],\n",
    "        low=df['low'],\n",
    "        close=df['close'],\n",
    "        increasing_line_color='green',\n",
    "        decreasing_line_color='black',\n",
    "        name=f'{timeframe} Candlestick'\n",
    "    ))\n",
    "\n",
    "    # MA lines\n",
    "    for ma, color in zip(['MA30', 'MA60', 'MA90'], ['blue', 'orange', 'green']):\n",
    "        if ma in df.columns:\n",
    "            fig.add_trace(go.Scatter(\n",
    "                x=df['time'],\n",
    "                y=df[ma],\n",
    "                mode='lines',\n",
    "                line=dict(color=color, width=1.5),\n",
    "                name=ma\n",
    "            ))\n",
    "\n",
    "    # Swing High / Low\n",
    "    if show_swings:\n",
    "        if 'valid_swing_high' in df.columns:\n",
    "            valid_sh = df[df['valid_swing_high']]\n",
    "            fig.add_trace(go.Scatter(\n",
    "                x=valid_sh['time'],\n",
    "                y=valid_sh['high'],\n",
    "                mode='markers',\n",
    "                marker=dict(color='purple', size=10, symbol='star-triangle-up'),\n",
    "                name='Swing High'\n",
    "            ))\n",
    "        if 'valid_swing_low' in df.columns:\n",
    "            valid_sl = df[df['valid_swing_low']]\n",
    "            fig.add_trace(go.Scatter(\n",
    "                x=valid_sl['time'],\n",
    "                y=valid_sl['low'],\n",
    "                mode='markers',\n",
    "                marker=dict(color='brown', size=10, symbol='star-triangle-down'),\n",
    "                name='Swing Low'\n",
    "            ))\n",
    "\n",
    "    # Volume\n",
    "    if show_volume and 'volume' in df.columns:\n",
    "        volume_colors = ['green' if c >= o else 'black' for o, c in zip(df['open'], df['close'])]\n",
    "        fig.add_trace(go.Bar(\n",
    "            x=df['time'],\n",
    "            y=df['volume'],\n",
    "            name='Volume',\n",
    "            marker_color=volume_colors,\n",
    "            yaxis='y2',\n",
    "            opacity=0.6\n",
    "        ))\n",
    "\n",
    "    # Layout\n",
    "    fig.update_layout(\n",
    "        title=title,\n",
    "        xaxis=dict(\n",
    "            domain=[0, 1],\n",
    "            rangeselector=dict(\n",
    "                buttons=list([\n",
    "                    dict(count=1, label=\"1Y\", step=\"year\", stepmode=\"backward\"),\n",
    "                    dict(count=2, label=\"2Y\", step=\"year\", stepmode=\"backward\"),\n",
    "                    dict(count=5, label=\"5Y\", step=\"year\", stepmode=\"backward\"),\n",
    "                    dict(count=10, label=\"10Y\", step=\"year\", stepmode=\"backward\"),\n",
    "                    dict(count=20, label=\"20Y\", step=\"year\", stepmode=\"backward\"),\n",
    "                    dict(step=\"all\")\n",
    "                ])\n",
    "            ),\n",
    "            rangeslider=dict(visible=True),\n",
    "            type=\"date\"\n",
    "        ),\n",
    "        yaxis=dict(\n",
    "            title='Price',\n",
    "            domain=[0.3, 1] if show_volume else [0, 1],\n",
    "            autorange=True\n",
    "        ),\n",
    "        yaxis2=dict(\n",
    "            title='Volume',\n",
    "            domain=[0, 0.25],\n",
    "            autorange=True,\n",
    "            showgrid=False\n",
    "        ) if show_volume else None,\n",
    "        xaxis_rangeslider_visible=False,\n",
    "        template='plotly_white',\n",
    "        height=500,\n",
    "        width=1000,\n",
    "        legend=dict(orientation='h', yanchor='bottom', y=1.02, xanchor='right', x=1)\n",
    "    )\n",
    "\n",
    "    fig.show()\n",
    "\n",
    "\n",
    "\n",
    "def plot_seasonal_tendency(df):\n",
    "    df = df.copy()\n",
    "    df['time'] = pd.to_datetime(df['time'])\n",
    "    max_year = df['time'].dt.year.max()\n",
    "    \n",
    "    # Tính pct_change trên toàn bộ df, theo thứ tự thời gian\n",
    "    df = df.sort_values('time').reset_index(drop=True)\n",
    "    df['pct_change'] = df['close'].pct_change() * 100\n",
    "\n",
    "    periods = [\n",
    "        (max_year - 20, 'Last 20 Years'),\n",
    "        (max_year - 10, 'Last 10 Years'),\n",
    "        (max_year - 5,  'Last 5 Years'),\n",
    "        (max_year - 2,  'Last 2 Years')\n",
    "    ]\n",
    "\n",
    "    month_names = ['Jan', 'Feb', 'Mar', 'Apr', 'May', 'Jun',\n",
    "                   'Jul', 'Aug', 'Sep', 'Oct', 'Nov', 'Dec']\n",
    "\n",
    "    data = []\n",
    "\n",
    "    for start_year, label in periods:\n",
    "        temp_df = df[df['time'].dt.year >= start_year].copy()\n",
    "        temp_df['year'] = temp_df['time'].dt.year\n",
    "        temp_df['month'] = temp_df['time'].dt.month\n",
    "\n",
    "        pivot = temp_df.pivot(index='year', columns='month', values='pct_change')\n",
    "\n",
    "        monthly_avg = pivot.mean(axis=0)\n",
    "\n",
    "        for month_idx, avg_val in monthly_avg.items():\n",
    "            data.append({\n",
    "                'Month': month_names[month_idx - 1],\n",
    "                'Average % Change': avg_val,\n",
    "                'Period': label\n",
    "            })\n",
    "\n",
    "    df_plot = pd.DataFrame(data)\n",
    "\n",
    "    fig = px.line(df_plot, x='Month', y='Average % Change', color='Period',\n",
    "                  title='Seasonal Tendency by Month',\n",
    "                  markers=True,\n",
    "                  labels={'Average % Change': '% Change'})\n",
    "\n",
    "    fig.update_layout(\n",
    "        yaxis_tickformat='.2f',\n",
    "        template='plotly_white',\n",
    "        height=500,\n",
    "        width=1000,\n",
    "        legend=dict(orientation='h', yanchor='bottom', y=1.02, xanchor='right', x=1)\n",
    "    )\n",
    "\n",
    "    fig.show()\n"
   ]
  },
  {
   "cell_type": "code",
   "execution_count": 12,
   "id": "3e79ab85",
   "metadata": {},
   "outputs": [
    {
     "name": "stdout",
     "output_type": "stream",
     "text": [
      "legacy_fut\n",
      "Selected: COT Legacy report. Futures only.\n",
      "Stored the extracted file FUT86_16.txt in the working directory.\n",
      "Selected: legacy_fut\n",
      "Downloaded single year data from: 2017\n",
      "Stored the file annual.txt in the working directory.\n",
      "Selected: legacy_fut\n",
      "Downloaded single year data from: 2018\n",
      "Stored the file annual.txt in the working directory.\n",
      "Selected: legacy_fut\n",
      "Downloaded single year data from: 2019\n",
      "Stored the file annual.txt in the working directory.\n",
      "Selected: legacy_fut\n",
      "Downloaded single year data from: 2020\n",
      "Stored the file annual.txt in the working directory.\n",
      "Selected: legacy_fut\n",
      "Downloaded single year data from: 2021\n",
      "Stored the file annual.txt in the working directory.\n",
      "Selected: legacy_fut\n",
      "Downloaded single year data from: 2022\n",
      "Stored the file annual.txt in the working directory.\n",
      "Selected: legacy_fut\n",
      "Downloaded single year data from: 2023\n",
      "Stored the file annual.txt in the working directory.\n",
      "Selected: legacy_fut\n",
      "Downloaded single year data from: 2024\n",
      "Stored the file annual.txt in the working directory.\n",
      "Selected: legacy_fut\n",
      "Downloaded single year data from: 2025\n",
      "Stored the file annual.txt in the working directory.\n",
      "legacy_futopt\n",
      "Selected: COT Legacy report. Futures and Options.\n",
      "Stored the extracted file Com95_16.txt in the working directory.\n",
      "Selected: legacy_futopt\n",
      "Downloaded single year data from: 2017\n",
      "Stored the file annualof.txt in the working directory.\n",
      "Selected: legacy_futopt\n",
      "Downloaded single year data from: 2018\n",
      "Stored the file annualof.txt in the working directory.\n",
      "Selected: legacy_futopt\n",
      "Downloaded single year data from: 2019\n",
      "Stored the file annualof.txt in the working directory.\n",
      "Selected: legacy_futopt\n",
      "Downloaded single year data from: 2020\n",
      "Stored the file annualof.txt in the working directory.\n",
      "Selected: legacy_futopt\n",
      "Downloaded single year data from: 2021\n",
      "Stored the file annualof.txt in the working directory.\n",
      "Selected: legacy_futopt\n",
      "Downloaded single year data from: 2022\n",
      "Stored the file annualof.txt in the working directory.\n",
      "Selected: legacy_futopt\n",
      "Downloaded single year data from: 2023\n",
      "Stored the file annualof.txt in the working directory.\n",
      "Selected: legacy_futopt\n",
      "Downloaded single year data from: 2024\n",
      "Stored the file annualof.txt in the working directory.\n",
      "Selected: legacy_futopt\n",
      "Downloaded single year data from: 2025\n",
      "Stored the file annualof.txt in the working directory.\n",
      "supplemental_futopt\n",
      "Selected: COT Sumpplemental report. Futures and Options.\n",
      "Stored the extracted file CIT06_16.txt in the working directory.\n",
      "Selected: supplemental_futopt\n",
      "Downloaded single year data from: 2017\n",
      "Stored the file annualci.txt in the working directory.\n",
      "Selected: supplemental_futopt\n",
      "Downloaded single year data from: 2018\n",
      "Stored the file annualci.txt in the working directory.\n",
      "Selected: supplemental_futopt\n",
      "Downloaded single year data from: 2019\n",
      "Stored the file annualci.txt in the working directory.\n",
      "Selected: supplemental_futopt\n",
      "Downloaded single year data from: 2020\n",
      "Stored the file annualci.txt in the working directory.\n",
      "Selected: supplemental_futopt\n",
      "Downloaded single year data from: 2021\n",
      "Stored the file annualci.txt in the working directory.\n",
      "Selected: supplemental_futopt\n",
      "Downloaded single year data from: 2022\n",
      "Stored the file annualci.txt in the working directory.\n",
      "Selected: supplemental_futopt\n",
      "Downloaded single year data from: 2023\n",
      "Stored the file annualci.txt in the working directory.\n",
      "Selected: supplemental_futopt\n",
      "Downloaded single year data from: 2024\n",
      "Stored the file annualci.txt in the working directory.\n",
      "Selected: supplemental_futopt\n",
      "Downloaded single year data from: 2025\n",
      "Stored the file annualci.txt in the working directory.\n",
      "disaggregated_fut\n",
      "Selected: COT Disaggregated report. Futures only.\n",
      "Stored the extracted file F_Disagg06_16.txt in the working directory.\n",
      "Selected: disaggregated_fut\n",
      "Downloaded single year data from: 2017\n",
      "Stored the file f_year.txt in the working directory.\n",
      "Selected: disaggregated_fut\n",
      "Downloaded single year data from: 2018\n",
      "Stored the file f_year.txt in the working directory.\n",
      "Selected: disaggregated_fut\n",
      "Downloaded single year data from: 2019\n",
      "Stored the file f_year.txt in the working directory.\n",
      "Selected: disaggregated_fut\n",
      "Downloaded single year data from: 2020\n",
      "Stored the file f_year.txt in the working directory.\n",
      "Selected: disaggregated_fut\n",
      "Downloaded single year data from: 2021\n",
      "Stored the file f_year.txt in the working directory.\n",
      "Selected: disaggregated_fut\n",
      "Downloaded single year data from: 2022\n",
      "Stored the file f_year.txt in the working directory.\n",
      "Selected: disaggregated_fut\n",
      "Downloaded single year data from: 2023\n",
      "Stored the file f_year.txt in the working directory.\n",
      "Selected: disaggregated_fut\n",
      "Downloaded single year data from: 2024\n",
      "Stored the file f_year.txt in the working directory.\n",
      "Selected: disaggregated_fut\n",
      "Downloaded single year data from: 2025\n",
      "Stored the file f_year.txt in the working directory.\n",
      "disaggregated_futopt\n",
      "Selected: COT Disaggregated report. Futures and Options.\n",
      "Stored the extracted file C_Disagg06_16.txt in the working directory.\n",
      "Selected: disaggregated_futopt\n",
      "Downloaded single year data from: 2017\n",
      "Stored the file c_year.txt in the working directory.\n",
      "Selected: disaggregated_futopt\n",
      "Downloaded single year data from: 2018\n",
      "Stored the file c_year.txt in the working directory.\n",
      "Selected: disaggregated_futopt\n",
      "Downloaded single year data from: 2019\n",
      "Stored the file c_year.txt in the working directory.\n",
      "Selected: disaggregated_futopt\n",
      "Downloaded single year data from: 2020\n",
      "Stored the file c_year.txt in the working directory.\n",
      "Selected: disaggregated_futopt\n",
      "Downloaded single year data from: 2021\n",
      "Stored the file c_year.txt in the working directory.\n",
      "Selected: disaggregated_futopt\n",
      "Downloaded single year data from: 2022\n",
      "Stored the file c_year.txt in the working directory.\n",
      "Selected: disaggregated_futopt\n",
      "Downloaded single year data from: 2023\n",
      "Stored the file c_year.txt in the working directory.\n",
      "Selected: disaggregated_futopt\n",
      "Downloaded single year data from: 2024\n",
      "Stored the file c_year.txt in the working directory.\n",
      "Selected: disaggregated_futopt\n",
      "Downloaded single year data from: 2025\n",
      "Stored the file c_year.txt in the working directory.\n",
      "traders_in_financial_futures_fut\n",
      "Selected: COT Traders in Financial Futures report. Futures only.\n",
      "Stored the extracted file F_TFF_2006_2016.txt in the working directory.\n",
      "Selected: traders_in_financial_futures_fut\n",
      "Downloaded single year data from: 2017\n",
      "Stored the file FinFutYY.txt in the working directory.\n",
      "Selected: traders_in_financial_futures_fut\n",
      "Downloaded single year data from: 2018\n",
      "Stored the file FinFutYY.txt in the working directory.\n",
      "Selected: traders_in_financial_futures_fut\n",
      "Downloaded single year data from: 2019\n",
      "Stored the file FinFutYY.txt in the working directory.\n",
      "Selected: traders_in_financial_futures_fut\n",
      "Downloaded single year data from: 2020\n",
      "Stored the file FinFutYY.txt in the working directory.\n",
      "Selected: traders_in_financial_futures_fut\n",
      "Downloaded single year data from: 2021\n",
      "Stored the file FinFutYY.txt in the working directory.\n",
      "Selected: traders_in_financial_futures_fut\n",
      "Downloaded single year data from: 2022\n",
      "Stored the file FinFutYY.txt in the working directory.\n",
      "Selected: traders_in_financial_futures_fut\n",
      "Downloaded single year data from: 2023\n",
      "Stored the file FinFutYY.txt in the working directory.\n",
      "Selected: traders_in_financial_futures_fut\n",
      "Downloaded single year data from: 2024\n",
      "Stored the file FinFutYY.txt in the working directory.\n",
      "Selected: traders_in_financial_futures_fut\n",
      "Downloaded single year data from: 2025\n",
      "Stored the file FinFutYY.txt in the working directory.\n",
      "traders_in_financial_futures_futopt\n",
      "Selected: COT Traders in Financial Futures report. Futures and Options.\n",
      "Stored the extracted file C_TFF_2006_2016.txt in the working directory.\n",
      "Selected: traders_in_financial_futures_futopt\n",
      "Downloaded single year data from: 2017\n",
      "Stored the file FinComYY.txt in the working directory.\n",
      "Selected: traders_in_financial_futures_futopt\n",
      "Downloaded single year data from: 2018\n",
      "Stored the file FinComYY.txt in the working directory.\n",
      "Selected: traders_in_financial_futures_futopt\n",
      "Downloaded single year data from: 2019\n",
      "Stored the file FinComYY.txt in the working directory.\n",
      "Selected: traders_in_financial_futures_futopt\n",
      "Downloaded single year data from: 2020\n",
      "Stored the file FinComYY.txt in the working directory.\n",
      "Selected: traders_in_financial_futures_futopt\n",
      "Downloaded single year data from: 2021\n",
      "Stored the file FinComYY.txt in the working directory.\n",
      "Selected: traders_in_financial_futures_futopt\n",
      "Downloaded single year data from: 2022\n",
      "Stored the file FinComYY.txt in the working directory.\n",
      "Selected: traders_in_financial_futures_futopt\n",
      "Downloaded single year data from: 2023\n",
      "Stored the file FinComYY.txt in the working directory.\n",
      "Selected: traders_in_financial_futures_futopt\n",
      "Downloaded single year data from: 2024\n",
      "Stored the file FinComYY.txt in the working directory.\n",
      "Selected: traders_in_financial_futures_futopt\n",
      "Downloaded single year data from: 2025\n",
      "Stored the file FinComYY.txt in the working directory.\n"
     ]
    }
   ],
   "source": [
    "import cot_reports as cot\n",
    "legacy_fut, legacy_futopt, supplemental_futopt, disaggregated_fut, disaggregated_futopt, traders_fin_fut_fut, traders_fin_fut_futopt = cot.cot_all_reports()\n",
    "\n",
    "eur_fx_futures_cme = legacy_fut[\n",
    "    legacy_fut['Market and Exchange Names'].str.contains(\"EURO FX - CHICAGO MERCANTILE EXCHANGE\", case=False)\n",
    "]"
   ]
  },
  {
   "cell_type": "code",
   "execution_count": 40,
   "id": "3f9bb522",
   "metadata": {},
   "outputs": [],
   "source": [
    "import pandas as pd\n",
    "import numpy as np\n",
    "import plotly.graph_objects as go\n",
    "\n",
    "def plot_cot_index_with_extremes_plotly(df, start_date='2025-01-01', end_date=None, weeks=26, \n",
    "                                        upperExtreme=80, lowerExtreme=20):\n",
    "    df = df.copy()\n",
    "    df.rename(columns={\n",
    "        'As of Date in Form YYYY-MM-DD': 'date',\n",
    "        'Commercial Positions-Long (All)': 'commercial_long',\n",
    "        'Commercial Positions-Short (All)': 'commercial_short',\n",
    "        'Noncommercial Positions-Long (All)': 'noncommercial_long',\n",
    "        'Noncommercial Positions-Short (All)': 'noncommercial_short',\n",
    "        'Nonreportable Positions-Long (All)': 'retail_long',\n",
    "        'Nonreportable Positions-Short (All)': 'retail_short',\n",
    "        'Open Interest (All)': 'open_interest',\n",
    "    }, inplace=True)\n",
    "\n",
    "    df['date'] = pd.to_datetime(df['date'])\n",
    "\n",
    "    # 1. Resample dữ liệu theo tuần (thứ Sáu)\n",
    "    df_weekly = df.set_index('date').resample('W-FRI').last().dropna().reset_index()\n",
    "\n",
    "    # 2. Tính net positions\n",
    "    df_weekly['net_commercial'] = df_weekly['commercial_long'] - df_weekly['commercial_short']\n",
    "    df_weekly['net_large'] = df_weekly['noncommercial_long'] - df_weekly['noncommercial_short']\n",
    "    df_weekly['net_retail'] = df_weekly['retail_long'] - df_weekly['retail_short']\n",
    "\n",
    "    # 3. Normalize theo open interest\n",
    "    df_weekly['adj_commercial'] = df_weekly['net_commercial'] / df_weekly['open_interest'].replace(0, np.nan)\n",
    "    df_weekly['adj_large'] = df_weekly['net_large'] / df_weekly['open_interest'].replace(0, np.nan)\n",
    "    df_weekly['adj_retail'] = df_weekly['net_retail'] / df_weekly['open_interest'].replace(0, np.nan)\n",
    "\n",
    "    # 4. Tính chỉ số COT Index\n",
    "    def calc_index(adj_net_pos):\n",
    "        min_val = adj_net_pos.rolling(window=weeks, min_periods=1).min()\n",
    "        max_val = adj_net_pos.rolling(window=weeks, min_periods=1).max()\n",
    "        idx = 100 * (adj_net_pos - min_val) / (max_val - min_val)\n",
    "        idx[max_val == min_val] = np.nan\n",
    "        return idx\n",
    "\n",
    "    df_weekly['cot_index_commercial'] = calc_index(df_weekly['adj_commercial'])\n",
    "    df_weekly['cot_index_large'] = calc_index(df_weekly['adj_large'])\n",
    "    df_weekly['cot_index_retail'] = calc_index(df_weekly['adj_retail'])\n",
    "\n",
    "    # 5. Lọc theo thời gian\n",
    "    if end_date:\n",
    "        mask = (df_weekly['date'] >= pd.to_datetime(start_date)) & (df_weekly['date'] <= pd.to_datetime(end_date))\n",
    "    else:\n",
    "        mask = df_weekly['date'] >= pd.to_datetime(start_date)\n",
    "    df_ = df_weekly.loc[mask].copy()\n",
    "\n",
    "    # 6. Vùng cực trị\n",
    "    def find_regions(mask, dates):\n",
    "        regions = []\n",
    "        start = None\n",
    "        for i, val in enumerate(mask):\n",
    "            if val and start is None:\n",
    "                start = dates.iat[i]\n",
    "            elif not val and start is not None:\n",
    "                end = dates.iat[i-1]\n",
    "                regions.append((start, end))\n",
    "                start = None\n",
    "        if start is not None:\n",
    "            regions.append((start, dates.iat[-1]))\n",
    "        return regions\n",
    "\n",
    "    bullish_mask = (df_['cot_index_commercial'] >= upperExtreme) & (df_['cot_index_retail'] <= lowerExtreme)\n",
    "    bearish_mask = (df_['cot_index_commercial'] <= lowerExtreme) & (df_['cot_index_retail'] >= upperExtreme)\n",
    "\n",
    "    bullish_regions = find_regions(bullish_mask.values, df_['date'])\n",
    "    bearish_regions = find_regions(bearish_mask.values, df_['date'])\n",
    "\n",
    "    # 7. Plot bằng Plotly\n",
    "    fig = go.Figure()\n",
    "\n",
    "    fig.add_trace(go.Scatter(x=df_['date'], y=df_['cot_index_commercial'],\n",
    "                             mode='lines', name='Commercial', line=dict(color='green')))\n",
    "    fig.add_trace(go.Scatter(x=df_['date'], y=df_['cot_index_large'],\n",
    "                             mode='lines', name='Large Speculators', line=dict(color='red')))\n",
    "    fig.add_trace(go.Scatter(x=df_['date'], y=df_['cot_index_retail'],\n",
    "                             mode='lines', name='Retail', line=dict(color='blue')))\n",
    "\n",
    "    # Vùng cực trị\n",
    "    for start, end in bullish_regions:\n",
    "        fig.add_vrect(x0=start, x1=end, fillcolor='blue', opacity=0.2, line_width=0)\n",
    "    for start, end in bearish_regions:\n",
    "        fig.add_vrect(x0=start, x1=end, fillcolor='red', opacity=0.2, line_width=0)\n",
    "\n",
    "    # Đường ngưỡng\n",
    "    fig.add_hline(y=upperExtreme, line_dash=\"dash\", line_color=\"gray\")\n",
    "    fig.add_hline(y=lowerExtreme, line_dash=\"dash\", line_color=\"gray\")\n",
    "\n",
    "    fig.update_layout(\n",
    "        title=f\"CoT Index with Extreme Zones ({start_date} to {end_date or 'latest'})\",\n",
    "        xaxis_title=\"Date\",\n",
    "        yaxis_title=\"CoT Index (%)\",\n",
    "        template=\"plotly_white\",\n",
    "        height=500,\n",
    "        width=1000,\n",
    "        legend=dict(x=0.01, y=0.99)\n",
    "    )\n",
    "\n",
    "    fig.show()\n"
   ]
  },
  {
   "cell_type": "code",
   "execution_count": null,
   "id": "2923b5ff",
   "metadata": {},
   "outputs": [],
   "source": [
    "df = eur_fx_futures_cme[eur_fx_futures_cme['Market and Exchange Names'] == \"EURO FX - CHICAGO MERCANTILE EXCHANGE\"].copy()"
   ]
  },
  {
   "cell_type": "code",
   "execution_count": null,
   "id": "0986f21e",
   "metadata": {},
   "outputs": [
    {
     "data": {
      "application/vnd.plotly.v1+json": {
       "config": {
        "plotlyServerURL": "https://plot.ly"
       },
       "data": [
        {
         "close": {
          "bdata": "Ns07TtGR8D9FZFjFG5nwP5KumXyzTfE/q3gj88gf8j+693DJcSfyP0AwR4/f2/I/0VeQZiya8j8=",
          "dtype": "f8"
         },
         "decreasing": {
          "line": {
           "color": "black"
          }
         },
         "high": {
          "bdata": "7kJznUba8D/xun7BbtjwPxCv6xfshvE/Mc7fhEKE8j9pAG+BBEXyP3juPVxy3PI/IbByaJHt8j8=",
          "dtype": "f8"
         },
         "increasing": {
          "line": {
           "color": "green"
          }
         },
         "low": {
          "bdata": "Yygn2lVI8D/Z690f71XwPzvkZrgBn/A/H0sfuqA+8T/cnbXbLrTxP5+wxAPKJvI/6DBfXoB98j8=",
          "dtype": "f8"
         },
         "name": "M Candlestick",
         "open": {
          "bdata": "U1xV9l2R8D+sHFpkO1/wP2lSCrq9pPA/kq6ZfLNN8T+reCPzyB/yP+4ljdE6KvI/lX1XBP/b8j8=",
          "dtype": "f8"
         },
         "type": "candlestick",
         "x": [
          "2025-01-01T05:00:00.000000000",
          "2025-02-03T05:00:00.000000000",
          "2025-03-03T05:00:00.000000000",
          "2025-04-01T04:00:00.000000000",
          "2025-05-01T04:00:00.000000000",
          "2025-06-02T04:00:00.000000000",
          "2025-07-01T04:00:00.000000000"
         ]
        },
        {
         "line": {
          "color": "blue",
          "width": 1.5
         },
         "mode": "lines",
         "name": "MA30",
         "type": "scatter",
         "x": [
          "2025-01-01T05:00:00.000000000",
          "2025-02-03T05:00:00.000000000",
          "2025-03-03T05:00:00.000000000",
          "2025-04-01T04:00:00.000000000",
          "2025-05-01T04:00:00.000000000",
          "2025-06-02T04:00:00.000000000",
          "2025-07-01T04:00:00.000000000"
         ],
         "y": {
          "bdata": "DgGt5iYX8T/CBFsSjRvxP+peJ/VlKfE/l+0wEzI98T/dek0PCkrxP9snWsziWPE/PMWXdldj8T8=",
          "dtype": "f8"
         }
        },
        {
         "line": {
          "color": "orange",
          "width": 1.5
         },
         "mode": "lines",
         "name": "MA60",
         "type": "scatter",
         "x": [
          "2025-01-01T05:00:00.000000000",
          "2025-02-03T05:00:00.000000000",
          "2025-03-03T05:00:00.000000000",
          "2025-04-01T04:00:00.000000000",
          "2025-05-01T04:00:00.000000000",
          "2025-06-02T04:00:00.000000000",
          "2025-07-01T04:00:00.000000000"
         ],
         "y": {
          "bdata": "RB6uwlO18T8QXru04bDxPy9vDtdqr/E//d6mP/ux8T8knAPxp7PxPyJkM5pvt/E/G6u6NGu28T8=",
          "dtype": "f8"
         }
        },
        {
         "line": {
          "color": "green",
          "width": 1.5
         },
         "mode": "lines",
         "name": "MA90",
         "type": "scatter",
         "x": [
          "2025-01-01T05:00:00.000000000",
          "2025-02-03T05:00:00.000000000",
          "2025-03-03T05:00:00.000000000",
          "2025-04-01T04:00:00.000000000",
          "2025-05-01T04:00:00.000000000",
          "2025-06-02T04:00:00.000000000",
          "2025-07-01T04:00:00.000000000"
         ],
         "y": {
          "bdata": "2fJobjb08T9pIlmtOe3xP4losPiv6PE/faMwAj3n8T9Si/20s+TxP+Ut9be14/E/ZoS3ByHg8T8=",
          "dtype": "f8"
         }
        },
        {
         "marker": {
          "color": "purple",
          "size": 10,
          "symbol": "star-triangle-up"
         },
         "mode": "markers",
         "name": "Swing High",
         "type": "scatter",
         "x": [],
         "y": []
        },
        {
         "marker": {
          "color": "brown",
          "size": 10,
          "symbol": "star-triangle-down"
         },
         "mode": "markers",
         "name": "Swing Low",
         "type": "scatter",
         "x": [
          "2025-01-01T05:00:00.000000000"
         ],
         "y": {
          "bdata": "Yygn2lVI8D8=",
          "dtype": "f8"
         }
        },
        {
         "marker": {
          "color": [
           "green",
           "green",
           "green",
           "green",
           "green",
           "green",
           "black"
          ]
         },
         "name": "Volume",
         "opacity": 0.6,
         "type": "bar",
         "x": [
          "2025-01-01T05:00:00.000000000",
          "2025-02-03T05:00:00.000000000",
          "2025-03-03T05:00:00.000000000",
          "2025-04-01T04:00:00.000000000",
          "2025-05-01T04:00:00.000000000",
          "2025-06-02T04:00:00.000000000",
          "2025-07-01T04:00:00.000000000"
         ],
         "y": {
          "bdata": "AAAAwMCcV0EAAAAAvW9UQQAAAAASkVZBAAAAwEEDZUEAAACALetaQQAAAEAwqFhBAAAAgE66SkE=",
          "dtype": "f8"
         },
         "yaxis": "y2"
        }
       ],
       "layout": {
        "height": 500,
        "legend": {
         "orientation": "h",
         "x": 1,
         "xanchor": "right",
         "y": 1.02,
         "yanchor": "bottom"
        },
        "template": {
         "data": {
          "bar": [
           {
            "error_x": {
             "color": "#2a3f5f"
            },
            "error_y": {
             "color": "#2a3f5f"
            },
            "marker": {
             "line": {
              "color": "white",
              "width": 0.5
             },
             "pattern": {
              "fillmode": "overlay",
              "size": 10,
              "solidity": 0.2
             }
            },
            "type": "bar"
           }
          ],
          "barpolar": [
           {
            "marker": {
             "line": {
              "color": "white",
              "width": 0.5
             },
             "pattern": {
              "fillmode": "overlay",
              "size": 10,
              "solidity": 0.2
             }
            },
            "type": "barpolar"
           }
          ],
          "carpet": [
           {
            "aaxis": {
             "endlinecolor": "#2a3f5f",
             "gridcolor": "#C8D4E3",
             "linecolor": "#C8D4E3",
             "minorgridcolor": "#C8D4E3",
             "startlinecolor": "#2a3f5f"
            },
            "baxis": {
             "endlinecolor": "#2a3f5f",
             "gridcolor": "#C8D4E3",
             "linecolor": "#C8D4E3",
             "minorgridcolor": "#C8D4E3",
             "startlinecolor": "#2a3f5f"
            },
            "type": "carpet"
           }
          ],
          "choropleth": [
           {
            "colorbar": {
             "outlinewidth": 0,
             "ticks": ""
            },
            "type": "choropleth"
           }
          ],
          "contour": [
           {
            "colorbar": {
             "outlinewidth": 0,
             "ticks": ""
            },
            "colorscale": [
             [
              0,
              "#0d0887"
             ],
             [
              0.1111111111111111,
              "#46039f"
             ],
             [
              0.2222222222222222,
              "#7201a8"
             ],
             [
              0.3333333333333333,
              "#9c179e"
             ],
             [
              0.4444444444444444,
              "#bd3786"
             ],
             [
              0.5555555555555556,
              "#d8576b"
             ],
             [
              0.6666666666666666,
              "#ed7953"
             ],
             [
              0.7777777777777778,
              "#fb9f3a"
             ],
             [
              0.8888888888888888,
              "#fdca26"
             ],
             [
              1,
              "#f0f921"
             ]
            ],
            "type": "contour"
           }
          ],
          "contourcarpet": [
           {
            "colorbar": {
             "outlinewidth": 0,
             "ticks": ""
            },
            "type": "contourcarpet"
           }
          ],
          "heatmap": [
           {
            "colorbar": {
             "outlinewidth": 0,
             "ticks": ""
            },
            "colorscale": [
             [
              0,
              "#0d0887"
             ],
             [
              0.1111111111111111,
              "#46039f"
             ],
             [
              0.2222222222222222,
              "#7201a8"
             ],
             [
              0.3333333333333333,
              "#9c179e"
             ],
             [
              0.4444444444444444,
              "#bd3786"
             ],
             [
              0.5555555555555556,
              "#d8576b"
             ],
             [
              0.6666666666666666,
              "#ed7953"
             ],
             [
              0.7777777777777778,
              "#fb9f3a"
             ],
             [
              0.8888888888888888,
              "#fdca26"
             ],
             [
              1,
              "#f0f921"
             ]
            ],
            "type": "heatmap"
           }
          ],
          "histogram": [
           {
            "marker": {
             "pattern": {
              "fillmode": "overlay",
              "size": 10,
              "solidity": 0.2
             }
            },
            "type": "histogram"
           }
          ],
          "histogram2d": [
           {
            "colorbar": {
             "outlinewidth": 0,
             "ticks": ""
            },
            "colorscale": [
             [
              0,
              "#0d0887"
             ],
             [
              0.1111111111111111,
              "#46039f"
             ],
             [
              0.2222222222222222,
              "#7201a8"
             ],
             [
              0.3333333333333333,
              "#9c179e"
             ],
             [
              0.4444444444444444,
              "#bd3786"
             ],
             [
              0.5555555555555556,
              "#d8576b"
             ],
             [
              0.6666666666666666,
              "#ed7953"
             ],
             [
              0.7777777777777778,
              "#fb9f3a"
             ],
             [
              0.8888888888888888,
              "#fdca26"
             ],
             [
              1,
              "#f0f921"
             ]
            ],
            "type": "histogram2d"
           }
          ],
          "histogram2dcontour": [
           {
            "colorbar": {
             "outlinewidth": 0,
             "ticks": ""
            },
            "colorscale": [
             [
              0,
              "#0d0887"
             ],
             [
              0.1111111111111111,
              "#46039f"
             ],
             [
              0.2222222222222222,
              "#7201a8"
             ],
             [
              0.3333333333333333,
              "#9c179e"
             ],
             [
              0.4444444444444444,
              "#bd3786"
             ],
             [
              0.5555555555555556,
              "#d8576b"
             ],
             [
              0.6666666666666666,
              "#ed7953"
             ],
             [
              0.7777777777777778,
              "#fb9f3a"
             ],
             [
              0.8888888888888888,
              "#fdca26"
             ],
             [
              1,
              "#f0f921"
             ]
            ],
            "type": "histogram2dcontour"
           }
          ],
          "mesh3d": [
           {
            "colorbar": {
             "outlinewidth": 0,
             "ticks": ""
            },
            "type": "mesh3d"
           }
          ],
          "parcoords": [
           {
            "line": {
             "colorbar": {
              "outlinewidth": 0,
              "ticks": ""
             }
            },
            "type": "parcoords"
           }
          ],
          "pie": [
           {
            "automargin": true,
            "type": "pie"
           }
          ],
          "scatter": [
           {
            "fillpattern": {
             "fillmode": "overlay",
             "size": 10,
             "solidity": 0.2
            },
            "type": "scatter"
           }
          ],
          "scatter3d": [
           {
            "line": {
             "colorbar": {
              "outlinewidth": 0,
              "ticks": ""
             }
            },
            "marker": {
             "colorbar": {
              "outlinewidth": 0,
              "ticks": ""
             }
            },
            "type": "scatter3d"
           }
          ],
          "scattercarpet": [
           {
            "marker": {
             "colorbar": {
              "outlinewidth": 0,
              "ticks": ""
             }
            },
            "type": "scattercarpet"
           }
          ],
          "scattergeo": [
           {
            "marker": {
             "colorbar": {
              "outlinewidth": 0,
              "ticks": ""
             }
            },
            "type": "scattergeo"
           }
          ],
          "scattergl": [
           {
            "marker": {
             "colorbar": {
              "outlinewidth": 0,
              "ticks": ""
             }
            },
            "type": "scattergl"
           }
          ],
          "scattermap": [
           {
            "marker": {
             "colorbar": {
              "outlinewidth": 0,
              "ticks": ""
             }
            },
            "type": "scattermap"
           }
          ],
          "scattermapbox": [
           {
            "marker": {
             "colorbar": {
              "outlinewidth": 0,
              "ticks": ""
             }
            },
            "type": "scattermapbox"
           }
          ],
          "scatterpolar": [
           {
            "marker": {
             "colorbar": {
              "outlinewidth": 0,
              "ticks": ""
             }
            },
            "type": "scatterpolar"
           }
          ],
          "scatterpolargl": [
           {
            "marker": {
             "colorbar": {
              "outlinewidth": 0,
              "ticks": ""
             }
            },
            "type": "scatterpolargl"
           }
          ],
          "scatterternary": [
           {
            "marker": {
             "colorbar": {
              "outlinewidth": 0,
              "ticks": ""
             }
            },
            "type": "scatterternary"
           }
          ],
          "surface": [
           {
            "colorbar": {
             "outlinewidth": 0,
             "ticks": ""
            },
            "colorscale": [
             [
              0,
              "#0d0887"
             ],
             [
              0.1111111111111111,
              "#46039f"
             ],
             [
              0.2222222222222222,
              "#7201a8"
             ],
             [
              0.3333333333333333,
              "#9c179e"
             ],
             [
              0.4444444444444444,
              "#bd3786"
             ],
             [
              0.5555555555555556,
              "#d8576b"
             ],
             [
              0.6666666666666666,
              "#ed7953"
             ],
             [
              0.7777777777777778,
              "#fb9f3a"
             ],
             [
              0.8888888888888888,
              "#fdca26"
             ],
             [
              1,
              "#f0f921"
             ]
            ],
            "type": "surface"
           }
          ],
          "table": [
           {
            "cells": {
             "fill": {
              "color": "#EBF0F8"
             },
             "line": {
              "color": "white"
             }
            },
            "header": {
             "fill": {
              "color": "#C8D4E3"
             },
             "line": {
              "color": "white"
             }
            },
            "type": "table"
           }
          ]
         },
         "layout": {
          "annotationdefaults": {
           "arrowcolor": "#2a3f5f",
           "arrowhead": 0,
           "arrowwidth": 1
          },
          "autotypenumbers": "strict",
          "coloraxis": {
           "colorbar": {
            "outlinewidth": 0,
            "ticks": ""
           }
          },
          "colorscale": {
           "diverging": [
            [
             0,
             "#8e0152"
            ],
            [
             0.1,
             "#c51b7d"
            ],
            [
             0.2,
             "#de77ae"
            ],
            [
             0.3,
             "#f1b6da"
            ],
            [
             0.4,
             "#fde0ef"
            ],
            [
             0.5,
             "#f7f7f7"
            ],
            [
             0.6,
             "#e6f5d0"
            ],
            [
             0.7,
             "#b8e186"
            ],
            [
             0.8,
             "#7fbc41"
            ],
            [
             0.9,
             "#4d9221"
            ],
            [
             1,
             "#276419"
            ]
           ],
           "sequential": [
            [
             0,
             "#0d0887"
            ],
            [
             0.1111111111111111,
             "#46039f"
            ],
            [
             0.2222222222222222,
             "#7201a8"
            ],
            [
             0.3333333333333333,
             "#9c179e"
            ],
            [
             0.4444444444444444,
             "#bd3786"
            ],
            [
             0.5555555555555556,
             "#d8576b"
            ],
            [
             0.6666666666666666,
             "#ed7953"
            ],
            [
             0.7777777777777778,
             "#fb9f3a"
            ],
            [
             0.8888888888888888,
             "#fdca26"
            ],
            [
             1,
             "#f0f921"
            ]
           ],
           "sequentialminus": [
            [
             0,
             "#0d0887"
            ],
            [
             0.1111111111111111,
             "#46039f"
            ],
            [
             0.2222222222222222,
             "#7201a8"
            ],
            [
             0.3333333333333333,
             "#9c179e"
            ],
            [
             0.4444444444444444,
             "#bd3786"
            ],
            [
             0.5555555555555556,
             "#d8576b"
            ],
            [
             0.6666666666666666,
             "#ed7953"
            ],
            [
             0.7777777777777778,
             "#fb9f3a"
            ],
            [
             0.8888888888888888,
             "#fdca26"
            ],
            [
             1,
             "#f0f921"
            ]
           ]
          },
          "colorway": [
           "#636efa",
           "#EF553B",
           "#00cc96",
           "#ab63fa",
           "#FFA15A",
           "#19d3f3",
           "#FF6692",
           "#B6E880",
           "#FF97FF",
           "#FECB52"
          ],
          "font": {
           "color": "#2a3f5f"
          },
          "geo": {
           "bgcolor": "white",
           "lakecolor": "white",
           "landcolor": "white",
           "showlakes": true,
           "showland": true,
           "subunitcolor": "#C8D4E3"
          },
          "hoverlabel": {
           "align": "left"
          },
          "hovermode": "closest",
          "mapbox": {
           "style": "light"
          },
          "paper_bgcolor": "white",
          "plot_bgcolor": "white",
          "polar": {
           "angularaxis": {
            "gridcolor": "#EBF0F8",
            "linecolor": "#EBF0F8",
            "ticks": ""
           },
           "bgcolor": "white",
           "radialaxis": {
            "gridcolor": "#EBF0F8",
            "linecolor": "#EBF0F8",
            "ticks": ""
           }
          },
          "scene": {
           "xaxis": {
            "backgroundcolor": "white",
            "gridcolor": "#DFE8F3",
            "gridwidth": 2,
            "linecolor": "#EBF0F8",
            "showbackground": true,
            "ticks": "",
            "zerolinecolor": "#EBF0F8"
           },
           "yaxis": {
            "backgroundcolor": "white",
            "gridcolor": "#DFE8F3",
            "gridwidth": 2,
            "linecolor": "#EBF0F8",
            "showbackground": true,
            "ticks": "",
            "zerolinecolor": "#EBF0F8"
           },
           "zaxis": {
            "backgroundcolor": "white",
            "gridcolor": "#DFE8F3",
            "gridwidth": 2,
            "linecolor": "#EBF0F8",
            "showbackground": true,
            "ticks": "",
            "zerolinecolor": "#EBF0F8"
           }
          },
          "shapedefaults": {
           "line": {
            "color": "#2a3f5f"
           }
          },
          "ternary": {
           "aaxis": {
            "gridcolor": "#DFE8F3",
            "linecolor": "#A2B1C6",
            "ticks": ""
           },
           "baxis": {
            "gridcolor": "#DFE8F3",
            "linecolor": "#A2B1C6",
            "ticks": ""
           },
           "bgcolor": "white",
           "caxis": {
            "gridcolor": "#DFE8F3",
            "linecolor": "#A2B1C6",
            "ticks": ""
           }
          },
          "title": {
           "x": 0.05
          },
          "xaxis": {
           "automargin": true,
           "gridcolor": "#EBF0F8",
           "linecolor": "#EBF0F8",
           "ticks": "",
           "title": {
            "standoff": 15
           },
           "zerolinecolor": "#EBF0F8",
           "zerolinewidth": 2
          },
          "yaxis": {
           "automargin": true,
           "gridcolor": "#EBF0F8",
           "linecolor": "#EBF0F8",
           "ticks": "",
           "title": {
            "standoff": 15
           },
           "zerolinecolor": "#EBF0F8",
           "zerolinewidth": 2
          }
         }
        },
        "title": {
         "text": "EURUSD - Monthly Chart"
        },
        "width": 1000,
        "xaxis": {
         "domain": [
          0,
          1
         ],
         "rangeselector": {
          "buttons": [
           {
            "count": 1,
            "label": "1Y",
            "step": "year",
            "stepmode": "backward"
           },
           {
            "count": 2,
            "label": "2Y",
            "step": "year",
            "stepmode": "backward"
           },
           {
            "count": 5,
            "label": "5Y",
            "step": "year",
            "stepmode": "backward"
           },
           {
            "count": 10,
            "label": "10Y",
            "step": "year",
            "stepmode": "backward"
           },
           {
            "count": 20,
            "label": "20Y",
            "step": "year",
            "stepmode": "backward"
           },
           {
            "step": "all"
           }
          ]
         },
         "rangeslider": {
          "visible": false
         },
         "type": "date"
        },
        "yaxis": {
         "autorange": true,
         "domain": [
          0.3,
          1
         ],
         "title": {
          "text": "Price"
         }
        },
        "yaxis2": {
         "autorange": true,
         "domain": [
          0,
          0.25
         ],
         "showgrid": false,
         "title": {
          "text": "Volume"
         }
        }
       }
      }
     },
     "metadata": {},
     "output_type": "display_data"
    },
    {
     "data": {
      "application/vnd.plotly.v1+json": {
       "config": {
        "plotlyServerURL": "https://plot.ly"
       },
       "data": [
        {
         "close": {
          "bdata": "GSE82jhi8D93FVJ+Um3wP2HgufdwyfA/Ns07TtGR8D9M/bypSIXwPw8LtaZ5x/A/0O0ljdG68D9FZFjFG5nwP00QdR+AVPE/2CrB4nBm8T9cIEHxY0zxP6pla32RUPE/CtejcD2K8T8HDf0TXCzyP7fu5qkOOfI/BK3AkNUt8j+kGYumsxPyP8qJdhVS/vE/eR7cnbXb8T956SYxCCzyP7r3cMlxJ/I/0QX1LXM68j/swDkjSnvyPx5QNuUKb/I/HjNQGf++8j9M4NbdPNXyP8FWCRaHs/I/C170FaSZ8j8=",
          "dtype": "f8"
         },
         "decreasing": {
          "line": {
           "color": "black"
          }
         },
         "high": {
          "bdata": "woanV8qy8D/FOH8TCpHwP4W2nEtx1fA/7kJznUba8D+FCDiEKrXwP4p2FVJ+0vA/c9cS8kHP8D/xun7BbtjwP3l1jgHZa/E/wCFUqdmD8T8Qr+sX7IbxPwFqatlaX/E/okW28/3U8T8k0csollvyP7q9pDFaR/I/Mc7fhEKE8j/zk2qfjkfyP9o9eVioNfI/SrVPx2MG8j+IgEOoUjPyP2kAb4EERfI/Tn/2I0Vk8j+yaDo7GZzyP4VCBBxClfI/PDHrxVDO8j8hsHJoke3yP1pHVRNE3fI/U5EKYwvB8j8=",
          "dtype": "f8"
         },
         "increasing": {
          "line": {
           "color": "green"
          }
         },
         "low": {
          "bdata": "n+V5cHdW8D9jKCfaVUjwPwZpxqLpbPA/V+wvuyeP8D/Z690f71XwP/q4NlSMc/A/a4Ko+wCk8D/BqKROQJPwPzvkZrgBn/A/RGlv8IVJ8T+gppat9UXxPwclzLT9K/E/H0sfuqA+8T/W4lMAjGfxP9ogk4ycBfI/D+7O2m0X8j9nLJrOTgbyP33tmSUB6vE/3J212y608T/lCu9yEd/xP8jShy6o7/E/n7DEA8om8j+nP/uRIjLyP6p9Oh4zUPI/wkzbv7JS8j+X58HdWbvyP7eXNEbrqPI/6DBfXoB98j8=",
          "dtype": "f8"
         },
         "name": "W Candlestick",
         "open": {
          "bdata": "CCC1iZN78D//If32dWDwPxh47j1ccvA/NdJSeTvC8D+sHFpkO1/wP6HzGrtEdfA/LuI7MevF8D9VwaikTsDwP2lSCrq9pPA/TihEwCFU8T+8s3bbhWbxP3h/vFetTPE/AiuHFtlO8T9Bn8iTpGvxP3dKB+v/HPI/mUf+YOA58j940VeQZizyPzANw0fEFPI/MfDce7jk8T/7eVORCuPxPx7EzhQ6L/I/7iWN0Toq8j/Q7SWN0TryP8aKGkzDcPI/FlJ+Uu1T8j9sYKsEi8PyP9VbA1sl2PI/71UrE36p8j8=",
          "dtype": "f8"
         },
         "type": "candlestick",
         "x": [
          "2025-01-06T05:00:00.000000000",
          "2025-01-13T05:00:00.000000000",
          "2025-01-20T05:00:00.000000000",
          "2025-01-27T05:00:00.000000000",
          "2025-02-03T05:00:00.000000000",
          "2025-02-10T05:00:00.000000000",
          "2025-02-17T05:00:00.000000000",
          "2025-02-24T05:00:00.000000000",
          "2025-03-03T05:00:00.000000000",
          "2025-03-10T04:00:00.000000000",
          "2025-03-17T04:00:00.000000000",
          "2025-03-24T04:00:00.000000000",
          "2025-03-31T04:00:00.000000000",
          "2025-04-07T04:00:00.000000000",
          "2025-04-14T04:00:00.000000000",
          "2025-04-21T04:00:00.000000000",
          "2025-04-28T04:00:00.000000000",
          "2025-05-05T04:00:00.000000000",
          "2025-05-12T04:00:00.000000000",
          "2025-05-19T04:00:00.000000000",
          "2025-05-26T04:00:00.000000000",
          "2025-06-02T04:00:00.000000000",
          "2025-06-09T04:00:00.000000000",
          "2025-06-16T04:00:00.000000000",
          "2025-06-23T04:00:00.000000000",
          "2025-06-30T04:00:00.000000000",
          "2025-07-07T04:00:00.000000000",
          "2025-07-14T04:00:00.000000000"
         ]
        },
        {
         "line": {
          "color": "blue",
          "width": 1.5
         },
         "mode": "lines",
         "name": "MA30",
         "type": "scatter",
         "x": [
          "2025-01-06T05:00:00.000000000",
          "2025-01-13T05:00:00.000000000",
          "2025-01-20T05:00:00.000000000",
          "2025-01-27T05:00:00.000000000",
          "2025-02-03T05:00:00.000000000",
          "2025-02-10T05:00:00.000000000",
          "2025-02-17T05:00:00.000000000",
          "2025-02-24T05:00:00.000000000",
          "2025-03-03T05:00:00.000000000",
          "2025-03-10T04:00:00.000000000",
          "2025-03-17T04:00:00.000000000",
          "2025-03-24T04:00:00.000000000",
          "2025-03-31T04:00:00.000000000",
          "2025-04-07T04:00:00.000000000",
          "2025-04-14T04:00:00.000000000",
          "2025-04-21T04:00:00.000000000",
          "2025-04-28T04:00:00.000000000",
          "2025-05-05T04:00:00.000000000",
          "2025-05-12T04:00:00.000000000",
          "2025-05-19T04:00:00.000000000",
          "2025-05-26T04:00:00.000000000",
          "2025-06-02T04:00:00.000000000",
          "2025-06-09T04:00:00.000000000",
          "2025-06-16T04:00:00.000000000",
          "2025-06-23T04:00:00.000000000",
          "2025-06-30T04:00:00.000000000",
          "2025-07-07T04:00:00.000000000",
          "2025-07-14T04:00:00.000000000"
         ],
         "y": {
          "bdata": "beuUNGxB8T+jTlPeoTvxPzdKcWikOPE/0q4v/w4y8T8eEzyYJyrxP8mgAHfGJPE/zIW39FUf8T+ifEELCRjxP1HwJz3mFvE/5q26DtUU8T8DdHKZrQ/xP+fKjQ+gDPE//SyWIvkK8T9k9/cs4g7xP1+rF1YEEvE/XvWAecgU8T+xpUdTPRnxP6WTf0B6HfE/gJvFi4Uh8T/9YPOEOCnxPzH3toY/MPE/LBnt3nc58T8iDYE2TEfxP/265mhoVvE/FygpsABm8T9gxhSscXbxP5P8iF+xhvE/or+9WAWX8T8=",
          "dtype": "f8"
         }
        },
        {
         "line": {
          "color": "orange",
          "width": 1.5
         },
         "mode": "lines",
         "name": "MA60",
         "type": "scatter",
         "x": [
          "2025-01-06T05:00:00.000000000",
          "2025-01-13T05:00:00.000000000",
          "2025-01-20T05:00:00.000000000",
          "2025-01-27T05:00:00.000000000",
          "2025-02-03T05:00:00.000000000",
          "2025-02-10T05:00:00.000000000",
          "2025-02-17T05:00:00.000000000",
          "2025-02-24T05:00:00.000000000",
          "2025-03-03T05:00:00.000000000",
          "2025-03-10T04:00:00.000000000",
          "2025-03-17T04:00:00.000000000",
          "2025-03-24T04:00:00.000000000",
          "2025-03-31T04:00:00.000000000",
          "2025-04-07T04:00:00.000000000",
          "2025-04-14T04:00:00.000000000",
          "2025-04-21T04:00:00.000000000",
          "2025-04-28T04:00:00.000000000",
          "2025-05-05T04:00:00.000000000",
          "2025-05-12T04:00:00.000000000",
          "2025-05-19T04:00:00.000000000",
          "2025-05-26T04:00:00.000000000",
          "2025-06-02T04:00:00.000000000",
          "2025-06-09T04:00:00.000000000",
          "2025-06-16T04:00:00.000000000",
          "2025-06-23T04:00:00.000000000",
          "2025-06-30T04:00:00.000000000",
          "2025-07-07T04:00:00.000000000",
          "2025-07-14T04:00:00.000000000"
         ],
         "y": {
          "bdata": "h5glFDVL8T89qodVqUbxP5Ts69MERPE/w4pA4kRB8T+x0yK1Yz3xP67CU7XKOfE/pM1eo9I18T+qCiCP8zHxP/yVu7wmMfE/W3AZSgAx8T9GDZOWtzDxP+Puhkf1MPE/Lbl3+i4y8T9pFKWXKzbxP71oouISOvE/kVL2g6c98T9/t1NNI0DxPwbSxaaVQvE/SxCbtQFF8T9ZST6J4kjxPx9AmVleTPE/9cC0lYRR8T+AJsKGp1fxP/V182dSXfE/4VDlodxj8T8lqrcGtmrxP/IRHlpRcPE/oNtLGqN18T8=",
          "dtype": "f8"
         }
        },
        {
         "line": {
          "color": "green",
          "width": 1.5
         },
         "mode": "lines",
         "name": "MA90",
         "type": "scatter",
         "x": [
          "2025-01-06T05:00:00.000000000",
          "2025-01-13T05:00:00.000000000",
          "2025-01-20T05:00:00.000000000",
          "2025-01-27T05:00:00.000000000",
          "2025-02-03T05:00:00.000000000",
          "2025-02-10T05:00:00.000000000",
          "2025-02-17T05:00:00.000000000",
          "2025-02-24T05:00:00.000000000",
          "2025-03-03T05:00:00.000000000",
          "2025-03-10T04:00:00.000000000",
          "2025-03-17T04:00:00.000000000",
          "2025-03-24T04:00:00.000000000",
          "2025-03-31T04:00:00.000000000",
          "2025-04-07T04:00:00.000000000",
          "2025-04-14T04:00:00.000000000",
          "2025-04-21T04:00:00.000000000",
          "2025-04-28T04:00:00.000000000",
          "2025-05-05T04:00:00.000000000",
          "2025-05-12T04:00:00.000000000",
          "2025-05-19T04:00:00.000000000",
          "2025-05-26T04:00:00.000000000",
          "2025-06-02T04:00:00.000000000",
          "2025-06-09T04:00:00.000000000",
          "2025-06-16T04:00:00.000000000",
          "2025-06-23T04:00:00.000000000",
          "2025-06-30T04:00:00.000000000",
          "2025-07-07T04:00:00.000000000",
          "2025-07-14T04:00:00.000000000"
         ],
         "y": {
          "bdata": "fXSbDihM8T9+Vd+XvkjxP+Ds6f1ZRvE/jSrDuBtE8T/cki977EHxP5OoZjjaQPE/N6LdXbY/8T8Tz4pGAj7xP1kijO6CPfE/344O02898T+yGMRp/TzxPyFicLpSPPE/1ivwxiA78T+1IIEsMTzxP5zmWZjnPfE/v0Aj64M/8T/cHHLkH0HxP4DZ2/HXQvE/RV44TINE8T8cQ08sLEfxP24CqkMfSvE/Ro9BY3VN8T9QJaG4lFHxP2SpCErkVfE/QOdbDAtb8T+guzeZy2DxP67rKrfHZfE/UNouR6Jq8T8=",
          "dtype": "f8"
         }
        },
        {
         "marker": {
          "color": "purple",
          "size": 10,
          "symbol": "star-triangle-up"
         },
         "mode": "markers",
         "name": "Swing High",
         "type": "scatter",
         "x": [
          "2025-04-21T04:00:00.000000000"
         ],
         "y": {
          "bdata": "Mc7fhEKE8j8=",
          "dtype": "f8"
         }
        },
        {
         "marker": {
          "color": "brown",
          "size": 10,
          "symbol": "star-triangle-down"
         },
         "mode": "markers",
         "name": "Swing Low",
         "type": "scatter",
         "x": [
          "2025-01-13T05:00:00.000000000",
          "2025-05-12T04:00:00.000000000"
         ],
         "y": {
          "bdata": "Yygn2lVI8D/cnbXbLrTxPw==",
          "dtype": "f8"
         }
        },
        {
         "marker": {
          "color": [
           "black",
           "green",
           "green",
           "black",
           "green",
           "green",
           "black",
           "black",
           "green",
           "green",
           "black",
           "green",
           "green",
           "green",
           "green",
           "black",
           "black",
           "black",
           "black",
           "green",
           "black",
           "green",
           "green",
           "black",
           "green",
           "green",
           "black",
           "black"
          ]
         },
         "name": "Volume",
         "opacity": 0.6,
         "type": "bar",
         "x": [
          "2025-01-06T05:00:00.000000000",
          "2025-01-13T05:00:00.000000000",
          "2025-01-20T05:00:00.000000000",
          "2025-01-27T05:00:00.000000000",
          "2025-02-03T05:00:00.000000000",
          "2025-02-10T05:00:00.000000000",
          "2025-02-17T05:00:00.000000000",
          "2025-02-24T05:00:00.000000000",
          "2025-03-03T05:00:00.000000000",
          "2025-03-10T04:00:00.000000000",
          "2025-03-17T04:00:00.000000000",
          "2025-03-24T04:00:00.000000000",
          "2025-03-31T04:00:00.000000000",
          "2025-04-07T04:00:00.000000000",
          "2025-04-14T04:00:00.000000000",
          "2025-04-21T04:00:00.000000000",
          "2025-04-28T04:00:00.000000000",
          "2025-05-05T04:00:00.000000000",
          "2025-05-12T04:00:00.000000000",
          "2025-05-19T04:00:00.000000000",
          "2025-05-26T04:00:00.000000000",
          "2025-06-02T04:00:00.000000000",
          "2025-06-09T04:00:00.000000000",
          "2025-06-16T04:00:00.000000000",
          "2025-06-23T04:00:00.000000000",
          "2025-06-30T04:00:00.000000000",
          "2025-07-07T04:00:00.000000000",
          "2025-07-14T04:00:00.000000000"
         ],
         "y": {
          "bdata": "AAAAAKjoNEEAAAAAak40QQAAAAB12TZBAAAAACmHN0EAAAAA9s45QQAAAACe3jNBAAAAAODWLkEAAAAA8KU0QQAAAAAwaT5BAAAAAI4pOEEAAAAAY0cwQQAAAABecC9BAAAAgNxVQEEAAAAAYLtPQQAAAABgEz9BAAAAAIhnPkEAAAAAm/43QQAAAAAMVDhBAAAAAIW3OEEAAAAAaBU6QQAAAADHuzZBAAAAAHBeN0EAAAAAQk03QQAAAAD+yjZBAAAAAPP9OEEAAAAALowzQQAAAACU0TNBAAAAAIjwPUE=",
          "dtype": "f8"
         },
         "yaxis": "y2"
        }
       ],
       "layout": {
        "height": 500,
        "legend": {
         "orientation": "h",
         "x": 1,
         "xanchor": "right",
         "y": 1.02,
         "yanchor": "bottom"
        },
        "template": {
         "data": {
          "bar": [
           {
            "error_x": {
             "color": "#2a3f5f"
            },
            "error_y": {
             "color": "#2a3f5f"
            },
            "marker": {
             "line": {
              "color": "white",
              "width": 0.5
             },
             "pattern": {
              "fillmode": "overlay",
              "size": 10,
              "solidity": 0.2
             }
            },
            "type": "bar"
           }
          ],
          "barpolar": [
           {
            "marker": {
             "line": {
              "color": "white",
              "width": 0.5
             },
             "pattern": {
              "fillmode": "overlay",
              "size": 10,
              "solidity": 0.2
             }
            },
            "type": "barpolar"
           }
          ],
          "carpet": [
           {
            "aaxis": {
             "endlinecolor": "#2a3f5f",
             "gridcolor": "#C8D4E3",
             "linecolor": "#C8D4E3",
             "minorgridcolor": "#C8D4E3",
             "startlinecolor": "#2a3f5f"
            },
            "baxis": {
             "endlinecolor": "#2a3f5f",
             "gridcolor": "#C8D4E3",
             "linecolor": "#C8D4E3",
             "minorgridcolor": "#C8D4E3",
             "startlinecolor": "#2a3f5f"
            },
            "type": "carpet"
           }
          ],
          "choropleth": [
           {
            "colorbar": {
             "outlinewidth": 0,
             "ticks": ""
            },
            "type": "choropleth"
           }
          ],
          "contour": [
           {
            "colorbar": {
             "outlinewidth": 0,
             "ticks": ""
            },
            "colorscale": [
             [
              0,
              "#0d0887"
             ],
             [
              0.1111111111111111,
              "#46039f"
             ],
             [
              0.2222222222222222,
              "#7201a8"
             ],
             [
              0.3333333333333333,
              "#9c179e"
             ],
             [
              0.4444444444444444,
              "#bd3786"
             ],
             [
              0.5555555555555556,
              "#d8576b"
             ],
             [
              0.6666666666666666,
              "#ed7953"
             ],
             [
              0.7777777777777778,
              "#fb9f3a"
             ],
             [
              0.8888888888888888,
              "#fdca26"
             ],
             [
              1,
              "#f0f921"
             ]
            ],
            "type": "contour"
           }
          ],
          "contourcarpet": [
           {
            "colorbar": {
             "outlinewidth": 0,
             "ticks": ""
            },
            "type": "contourcarpet"
           }
          ],
          "heatmap": [
           {
            "colorbar": {
             "outlinewidth": 0,
             "ticks": ""
            },
            "colorscale": [
             [
              0,
              "#0d0887"
             ],
             [
              0.1111111111111111,
              "#46039f"
             ],
             [
              0.2222222222222222,
              "#7201a8"
             ],
             [
              0.3333333333333333,
              "#9c179e"
             ],
             [
              0.4444444444444444,
              "#bd3786"
             ],
             [
              0.5555555555555556,
              "#d8576b"
             ],
             [
              0.6666666666666666,
              "#ed7953"
             ],
             [
              0.7777777777777778,
              "#fb9f3a"
             ],
             [
              0.8888888888888888,
              "#fdca26"
             ],
             [
              1,
              "#f0f921"
             ]
            ],
            "type": "heatmap"
           }
          ],
          "histogram": [
           {
            "marker": {
             "pattern": {
              "fillmode": "overlay",
              "size": 10,
              "solidity": 0.2
             }
            },
            "type": "histogram"
           }
          ],
          "histogram2d": [
           {
            "colorbar": {
             "outlinewidth": 0,
             "ticks": ""
            },
            "colorscale": [
             [
              0,
              "#0d0887"
             ],
             [
              0.1111111111111111,
              "#46039f"
             ],
             [
              0.2222222222222222,
              "#7201a8"
             ],
             [
              0.3333333333333333,
              "#9c179e"
             ],
             [
              0.4444444444444444,
              "#bd3786"
             ],
             [
              0.5555555555555556,
              "#d8576b"
             ],
             [
              0.6666666666666666,
              "#ed7953"
             ],
             [
              0.7777777777777778,
              "#fb9f3a"
             ],
             [
              0.8888888888888888,
              "#fdca26"
             ],
             [
              1,
              "#f0f921"
             ]
            ],
            "type": "histogram2d"
           }
          ],
          "histogram2dcontour": [
           {
            "colorbar": {
             "outlinewidth": 0,
             "ticks": ""
            },
            "colorscale": [
             [
              0,
              "#0d0887"
             ],
             [
              0.1111111111111111,
              "#46039f"
             ],
             [
              0.2222222222222222,
              "#7201a8"
             ],
             [
              0.3333333333333333,
              "#9c179e"
             ],
             [
              0.4444444444444444,
              "#bd3786"
             ],
             [
              0.5555555555555556,
              "#d8576b"
             ],
             [
              0.6666666666666666,
              "#ed7953"
             ],
             [
              0.7777777777777778,
              "#fb9f3a"
             ],
             [
              0.8888888888888888,
              "#fdca26"
             ],
             [
              1,
              "#f0f921"
             ]
            ],
            "type": "histogram2dcontour"
           }
          ],
          "mesh3d": [
           {
            "colorbar": {
             "outlinewidth": 0,
             "ticks": ""
            },
            "type": "mesh3d"
           }
          ],
          "parcoords": [
           {
            "line": {
             "colorbar": {
              "outlinewidth": 0,
              "ticks": ""
             }
            },
            "type": "parcoords"
           }
          ],
          "pie": [
           {
            "automargin": true,
            "type": "pie"
           }
          ],
          "scatter": [
           {
            "fillpattern": {
             "fillmode": "overlay",
             "size": 10,
             "solidity": 0.2
            },
            "type": "scatter"
           }
          ],
          "scatter3d": [
           {
            "line": {
             "colorbar": {
              "outlinewidth": 0,
              "ticks": ""
             }
            },
            "marker": {
             "colorbar": {
              "outlinewidth": 0,
              "ticks": ""
             }
            },
            "type": "scatter3d"
           }
          ],
          "scattercarpet": [
           {
            "marker": {
             "colorbar": {
              "outlinewidth": 0,
              "ticks": ""
             }
            },
            "type": "scattercarpet"
           }
          ],
          "scattergeo": [
           {
            "marker": {
             "colorbar": {
              "outlinewidth": 0,
              "ticks": ""
             }
            },
            "type": "scattergeo"
           }
          ],
          "scattergl": [
           {
            "marker": {
             "colorbar": {
              "outlinewidth": 0,
              "ticks": ""
             }
            },
            "type": "scattergl"
           }
          ],
          "scattermap": [
           {
            "marker": {
             "colorbar": {
              "outlinewidth": 0,
              "ticks": ""
             }
            },
            "type": "scattermap"
           }
          ],
          "scattermapbox": [
           {
            "marker": {
             "colorbar": {
              "outlinewidth": 0,
              "ticks": ""
             }
            },
            "type": "scattermapbox"
           }
          ],
          "scatterpolar": [
           {
            "marker": {
             "colorbar": {
              "outlinewidth": 0,
              "ticks": ""
             }
            },
            "type": "scatterpolar"
           }
          ],
          "scatterpolargl": [
           {
            "marker": {
             "colorbar": {
              "outlinewidth": 0,
              "ticks": ""
             }
            },
            "type": "scatterpolargl"
           }
          ],
          "scatterternary": [
           {
            "marker": {
             "colorbar": {
              "outlinewidth": 0,
              "ticks": ""
             }
            },
            "type": "scatterternary"
           }
          ],
          "surface": [
           {
            "colorbar": {
             "outlinewidth": 0,
             "ticks": ""
            },
            "colorscale": [
             [
              0,
              "#0d0887"
             ],
             [
              0.1111111111111111,
              "#46039f"
             ],
             [
              0.2222222222222222,
              "#7201a8"
             ],
             [
              0.3333333333333333,
              "#9c179e"
             ],
             [
              0.4444444444444444,
              "#bd3786"
             ],
             [
              0.5555555555555556,
              "#d8576b"
             ],
             [
              0.6666666666666666,
              "#ed7953"
             ],
             [
              0.7777777777777778,
              "#fb9f3a"
             ],
             [
              0.8888888888888888,
              "#fdca26"
             ],
             [
              1,
              "#f0f921"
             ]
            ],
            "type": "surface"
           }
          ],
          "table": [
           {
            "cells": {
             "fill": {
              "color": "#EBF0F8"
             },
             "line": {
              "color": "white"
             }
            },
            "header": {
             "fill": {
              "color": "#C8D4E3"
             },
             "line": {
              "color": "white"
             }
            },
            "type": "table"
           }
          ]
         },
         "layout": {
          "annotationdefaults": {
           "arrowcolor": "#2a3f5f",
           "arrowhead": 0,
           "arrowwidth": 1
          },
          "autotypenumbers": "strict",
          "coloraxis": {
           "colorbar": {
            "outlinewidth": 0,
            "ticks": ""
           }
          },
          "colorscale": {
           "diverging": [
            [
             0,
             "#8e0152"
            ],
            [
             0.1,
             "#c51b7d"
            ],
            [
             0.2,
             "#de77ae"
            ],
            [
             0.3,
             "#f1b6da"
            ],
            [
             0.4,
             "#fde0ef"
            ],
            [
             0.5,
             "#f7f7f7"
            ],
            [
             0.6,
             "#e6f5d0"
            ],
            [
             0.7,
             "#b8e186"
            ],
            [
             0.8,
             "#7fbc41"
            ],
            [
             0.9,
             "#4d9221"
            ],
            [
             1,
             "#276419"
            ]
           ],
           "sequential": [
            [
             0,
             "#0d0887"
            ],
            [
             0.1111111111111111,
             "#46039f"
            ],
            [
             0.2222222222222222,
             "#7201a8"
            ],
            [
             0.3333333333333333,
             "#9c179e"
            ],
            [
             0.4444444444444444,
             "#bd3786"
            ],
            [
             0.5555555555555556,
             "#d8576b"
            ],
            [
             0.6666666666666666,
             "#ed7953"
            ],
            [
             0.7777777777777778,
             "#fb9f3a"
            ],
            [
             0.8888888888888888,
             "#fdca26"
            ],
            [
             1,
             "#f0f921"
            ]
           ],
           "sequentialminus": [
            [
             0,
             "#0d0887"
            ],
            [
             0.1111111111111111,
             "#46039f"
            ],
            [
             0.2222222222222222,
             "#7201a8"
            ],
            [
             0.3333333333333333,
             "#9c179e"
            ],
            [
             0.4444444444444444,
             "#bd3786"
            ],
            [
             0.5555555555555556,
             "#d8576b"
            ],
            [
             0.6666666666666666,
             "#ed7953"
            ],
            [
             0.7777777777777778,
             "#fb9f3a"
            ],
            [
             0.8888888888888888,
             "#fdca26"
            ],
            [
             1,
             "#f0f921"
            ]
           ]
          },
          "colorway": [
           "#636efa",
           "#EF553B",
           "#00cc96",
           "#ab63fa",
           "#FFA15A",
           "#19d3f3",
           "#FF6692",
           "#B6E880",
           "#FF97FF",
           "#FECB52"
          ],
          "font": {
           "color": "#2a3f5f"
          },
          "geo": {
           "bgcolor": "white",
           "lakecolor": "white",
           "landcolor": "white",
           "showlakes": true,
           "showland": true,
           "subunitcolor": "#C8D4E3"
          },
          "hoverlabel": {
           "align": "left"
          },
          "hovermode": "closest",
          "mapbox": {
           "style": "light"
          },
          "paper_bgcolor": "white",
          "plot_bgcolor": "white",
          "polar": {
           "angularaxis": {
            "gridcolor": "#EBF0F8",
            "linecolor": "#EBF0F8",
            "ticks": ""
           },
           "bgcolor": "white",
           "radialaxis": {
            "gridcolor": "#EBF0F8",
            "linecolor": "#EBF0F8",
            "ticks": ""
           }
          },
          "scene": {
           "xaxis": {
            "backgroundcolor": "white",
            "gridcolor": "#DFE8F3",
            "gridwidth": 2,
            "linecolor": "#EBF0F8",
            "showbackground": true,
            "ticks": "",
            "zerolinecolor": "#EBF0F8"
           },
           "yaxis": {
            "backgroundcolor": "white",
            "gridcolor": "#DFE8F3",
            "gridwidth": 2,
            "linecolor": "#EBF0F8",
            "showbackground": true,
            "ticks": "",
            "zerolinecolor": "#EBF0F8"
           },
           "zaxis": {
            "backgroundcolor": "white",
            "gridcolor": "#DFE8F3",
            "gridwidth": 2,
            "linecolor": "#EBF0F8",
            "showbackground": true,
            "ticks": "",
            "zerolinecolor": "#EBF0F8"
           }
          },
          "shapedefaults": {
           "line": {
            "color": "#2a3f5f"
           }
          },
          "ternary": {
           "aaxis": {
            "gridcolor": "#DFE8F3",
            "linecolor": "#A2B1C6",
            "ticks": ""
           },
           "baxis": {
            "gridcolor": "#DFE8F3",
            "linecolor": "#A2B1C6",
            "ticks": ""
           },
           "bgcolor": "white",
           "caxis": {
            "gridcolor": "#DFE8F3",
            "linecolor": "#A2B1C6",
            "ticks": ""
           }
          },
          "title": {
           "x": 0.05
          },
          "xaxis": {
           "automargin": true,
           "gridcolor": "#EBF0F8",
           "linecolor": "#EBF0F8",
           "ticks": "",
           "title": {
            "standoff": 15
           },
           "zerolinecolor": "#EBF0F8",
           "zerolinewidth": 2
          },
          "yaxis": {
           "automargin": true,
           "gridcolor": "#EBF0F8",
           "linecolor": "#EBF0F8",
           "ticks": "",
           "title": {
            "standoff": 15
           },
           "zerolinecolor": "#EBF0F8",
           "zerolinewidth": 2
          }
         }
        },
        "title": {
         "text": "EURUSD - Weekly Chart"
        },
        "width": 1000,
        "xaxis": {
         "domain": [
          0,
          1
         ],
         "rangeselector": {
          "buttons": [
           {
            "count": 1,
            "label": "1Y",
            "step": "year",
            "stepmode": "backward"
           },
           {
            "count": 2,
            "label": "2Y",
            "step": "year",
            "stepmode": "backward"
           },
           {
            "count": 5,
            "label": "5Y",
            "step": "year",
            "stepmode": "backward"
           },
           {
            "count": 10,
            "label": "10Y",
            "step": "year",
            "stepmode": "backward"
           },
           {
            "count": 20,
            "label": "20Y",
            "step": "year",
            "stepmode": "backward"
           },
           {
            "step": "all"
           }
          ]
         },
         "rangeslider": {
          "visible": false
         },
         "type": "date"
        },
        "yaxis": {
         "autorange": true,
         "domain": [
          0.3,
          1
         ],
         "title": {
          "text": "Price"
         }
        },
        "yaxis2": {
         "autorange": true,
         "domain": [
          0,
          0.25
         ],
         "showgrid": false,
         "title": {
          "text": "Volume"
         }
        }
       }
      }
     },
     "metadata": {},
     "output_type": "display_data"
    },
    {
     "data": {
      "application/vnd.plotly.v1+json": {
       "config": {
        "plotlyServerURL": "https://plot.ly"
       },
       "data": [
        {
         "close": {
          "bdata": "Qs9m1edq8D+Ss7CnHX7wPx1VTRB1n/A/e2tgqwSL8D9uNIC3QILwP0NWt3pOevA/GSE82jhi8D8yIHu9+2PwP3ZUNUHUffA/Z9Xnait28D+a6zTSUnnwP3cVUn5SbfA/Q3OdRlqq8D8hJAuYwK3wP56Y9WIop/A/YAK37uap8D9h4Ln3cMnwP5rOTgZHyfA/cuFASBaw8D+VSKKXUazwPzrMlxdgn/A/Ns07TtGR8D9blNkgk4zwPwkWhzO/mvA/2xZlNsik8D9b64uEtpzwP0z9vKlIhfA/dmwE4nV98D8W3uUivpPwP87HtaFinPA/r7Zif9m98D8PC7WmecfwP/XzpiIVxvA/vJaQD3q28D/NBplk5KzwP+krSDMWzfA/0O0ljdG68D8eG4F4Xb/wP1K4HoXr0fA/2XxcGyrG8D+JQWDl0KLwP0VkWMUbmfA/86s5QDDH8D8dd0oH6//wP1Exzt+EQvE/qd4a2CpB8T9NEHUfgFTxP72MYrmlVfE/1SE3ww148T8IyQImcGvxP3juPVxyXPE/2CrB4nBm8T/Twfo/h3nxP20csRafgvE/cCU7NgJx8T9e1y/YDVvxP1wgQfFjTPE/nS6Lic1H8T/Brbt5qkPxP6OvIM1YNPE/8nub/uxH8T+qZWt9kVDxP5KumXyzTfE/+FPjpZtE8T95HtydtVvxP3RBfcucrvE/CtejcD2K8T/ecYqO5HLxPy0+BcB4hvE/3sg88geD8T/tgVZgyOrxPwcN/RNcLPI/t5c0Ruso8j9dxHdi1gvyP811GmmpPPI/donqrYEt8j+37uapDjnyP5bs2AjEa/I/9yNFZFhF8j8nvW987RnyP38w8Nx7OPI/BK3AkNUt8j8Uyy2thkTyP2UBE7h1N/I/q3gj88gf8j87jbRU3g7yP6QZi6azE/I/Qxzr4jYa8j9y+Q/pty/yP9zXgXNGFPI/odtLGqP18T/KiXYVUv7xP14R/G8lu/E/TE9Y4gHl8T//CS5W1ODxP9uK/WX35PE/eR7cnbXb8T+VK7zLRfzxPz4FwHgGDfI/x9eeWRIg8j+zKVd4lwvyP3npJjEILPI/SwLU1LI18j9XQ+IeSx/yP+PHmLuWEPI/VpqUgm4v8j+693DJcSfyP3ZPHhZqTfI/N8MN+Pww8j/c9Gc/UkTyPwH76NSVT/I/0QX1LXM68j/4U+Olm0TyP/YLdsO2RfI//vFetTJh8j+BW3fzVIfyP+zAOSNKe/I/ynGndLB+8j92jgHZ613yP5IFTODWXfI/iIVa07xj8j8eUDblCm/yP/aX3ZOHhfI/idLe4AuT8j9lqmBUUqfyP0daKm9HuPI/HjNQGf++8j9AMEeP39vyP2sOEMzR4/I/qbwd4bTg8j8dcjPcgM/yP0zg1t081fI/QYLix5i78j/8471qZcLyP6oOuRluwPI/1ZXP8jy48j/BVgkWh7PyP0SjO4idqfI/j6omiLqP8j/I7236s5/yP1pkO99PjfI/C170FaSZ8j8=",
          "dtype": "f8"
         },
         "decreasing": {
          "line": {
           "color": "black"
          }
         },
         "high": {
          "bdata": "uFhRg2mY8D8fv7fpz37wP8KGp1fKsvA/GRwlr86x8D/8xteeWZLwPzP+fcaFg/A/ctwpHax/8D8RGVbxRmbwP+cAwRw9fvA/xTh/EwqR8D83pics8YDwP4Fbd/NUh/A/i+B/K9mx8D8ZBFYOLbLwP0GasWg6u/A/pfeNrz2z8D+FtpxLcdXwP+5Cc51G2vA/C3va4a/J8D/2tMNfk7XwPx4bgXhdv/A/4UVfQZqx8D/JsIo3Mo/wPzv8NVmjnvA/hQg4hCq18D9Lk1LQ7aXwPw4V4/xNqPA/0hito6qJ8D8jLZW3I5zwP6vP1Vbsr/A/rFYm/FK/8D+KdhVSftLwP3PXEvJBz/A/nl4pyxDH8D+Uh4Va07zwP5KWytsRzvA/V3iXi/jO8D+55LhTOtjwPzGZKhiV1PA/8bp+wW7Y8D8o8iTpmsnwP7LXuz/eq/A/rvVFQlvO8D83pics8QDxP0pBt5c0RvE/dqbQeY1d8T95dY4B2WvxP0sH6/8cZvE/wCFUqdmD8T9aDYl7LH3xPzqvsUtUb/E/LxfxnZh18T8G2EenrnzxPxCv6xfshvE/bOwS1VuD8T+B7PXuj3fxP6m8HeG0YPE/AWpq2Vpf8T8WUn5S7VPxP2IQWDm0SPE/HEKVmj1Q8T99lufB3VnxP+viNhrAW/E/MsnIWdhT8T98LH3ognrxP6JFtvP91PE/ob5lTpfF8T9Z+tAF9a3xP0ok0csolvE/qg65GW7A8T/NAYI5evzxPyTRyyiWW/I/ur2kMVpH8j+il1EstzTyP8P1KFyPQvI/NxrAWyBB8j9cyY6NQDzyPzHO34RChPI/KA8LtaZ58j8h6j4AqU3yPwZkr3d/PPI/CwxZ3eo58j/zk2qfjkfyPy7KbJBJRvI/IqtbPSc98j9Mw/ARMSXyPxMsDmd+NfI/AmVTrvAu8j/aPXlYqDXyPxV0e0ljNPI/+u3rwDkj8j/FILByaBHyPz6uDRXj/PE/fh04Z0Tp8T9KtU/HYwbyP0ku/yH99vE/pWsm32zz8T/ImLuWkA/yP61p3nGKDvI/PIOG/gku8j+fsMQDyibyP4iAQ6hSM/I/aQBvgQRF8j9VwaikTkDyPxB1H4DUJvI/gpAsYAI38j+ad5yiIznyP6gd/pqsUfI/3Xu45LhT8j8lehnFckvyP05/9iNFZPI/aW/whclU8j92Tx4Wak3yP8bE5uPaUPI/Swfr/xxm8j+yaDo7GZzyP6K5TiMtlfI/hUIEHEKV8j8Qr+sX7IbyPxhgH526cvI/g92wbVFm8j+cM6K0N3jyP/IHA8+9h/I/AK5kx0ag8j9gArfu5qnyP0MhAg6hyvI/PDHrxVDO8j947j1cctzyPyGwcmiR7fI/TDeJQWDl8j+9++O9auXyP1yPwvUo3PI/WkdVE0Td8j9QcLGiBtPyP2owDcNHxPI/eH+8V63M8j91yM1wA77yP4F4Xb9gt/I/2lVI+Um18j9TkQpjC8HyP+IeSx+6oPI/eLmI78Ss8j8=",
          "dtype": "f8"
         },
         "increasing": {
          "line": {
           "color": "green"
          }
         },
         "low": {
          "bdata": "QmDl0CJb8D+alIJuL2nwP0bOwp52ePA/Jh5QNuWK8D85l+Kqsm/wP90pHaz/c/A/n+V5cHdW8D9jKCfaVUjwPxpR2ht8YfA/0lJ5O8Jp8D9fXoB9dGrwPyP430p2bPA/BmnGouls8D/r/xzmy4vwP1X7dDxmoPA/KzV7oBWY8D9jYvNxbajwP9I1k2+2ufA/t39lpUmp8D8/jBAebZzwPyC1iZP7nfA/V+wvuyeP8D/Z690f71XwPwLZ690fb/A/uqC+ZU6X8D/j32dcOJDwPwbYR6eufPA/+rg2VIxz8D+dY0D2enfwP8SxLm6jgfA/f2q8dJOY8D8QzNHj97bwP3OAYI4ev/A/xLZFmQ2y8D9rgqj7AKTwP3oZxXJLq/A/uTZUjPO38D9hiQeUTbnwP+1kcJS8uvA//OO9amXC8D81DB8RU6LwP8GopE5Ak/A/O+RmuAGf8D+p9ul4zMDwPxFwCFVq9vA/ttYXCW058T8eM1AZ/z7xP0Rpb/CFSfE/bM8sCVBT8T9K7xtfe2bxP3F31m67UPE/a5+OxwxU8T8zOEpenWPxP1qeB3dnbfE/OBCSBUxg8T89YYkHlE3xP6Cmlq31RfE/x53Swfo/8T/njCjtDT7xP8YWghyUMPE/ByXMtP0r8T+4BrZKsDjxP3AIVWr2QPE/H0sfuqA+8T8BpDZxcj/xP0Rpb/CFSfE/Q1a3ek568T/W4lMAjGfxP8/abReaa/E/aO22C8118T+nIhXGFoLxP4PdsG1R5vE/iuqtga0S8j/aIJOMnAXyP8+goX+CC/I/priq7Lsi8j9diqvKvivyP5lH/mDgOfI/MUJ4tHFE8j8P7s7abRfyPye9b3ztGfI/mFEst7Qa8j9V+3Q8ZiDyP6mHaHQHMfI/s5jYfFwb8j9nLJrOTgbyP7ahYpy/CfI/bqMBvAUS8j8k1uJTAAzyP/8mFCLgEPI/cVXZd0Xw8T997ZklAerxP9ydtdsutPE/XhH8byW78T/pmsk329zxPx8RUyKJ3vE/HooCfSLP8T/lCu9yEd/xPxhgH5268vE/JQaBlUML8j+Kq8q+KwLyP9DQP8HFCvI/zR5oBYYs8j/LZ3ke3B3yP+iHEcKjDfI/yNKHLqjv8T9FTIkkehnyP5+wxAPKJvI/kbjH0ocu8j/PTgZHySvyP1cJFoczP/I/xM4UOq8x8j+BYI4evzfyP6c/+5EiMvI/c2iR7Xw/8j9Wt3pOel/yP+FiRQ2mYfI/cm2oGOdv8j9AMEeP31vyP6D9SBEZVvI/qn06HjNQ8j81mIbhI2LyP8JM27+yUvI/3GgAb4GE8j/QuHAgJIvyPzBkdavnpPI/jkC8rl+w8j+X58HdWbvyP4y+gjRj0fI/JHoZxXLL8j9XCRaHM7/yP+krSDMWzfI/3/3xXrWy8j+MEB5tHLHyPxWMSuoEtPI/t5c0Ruuo8j8LtaZ5x6nyP9rmxvSEpfI/lYJuL2mM8j8dd0oH63/yP+gwX16AffI/z6Chf4KL8j8=",
          "dtype": "f8"
         },
         "name": "D Candlestick",
         "open": {
          "bdata": "U1xV9l2R8D9Cz2bV52rwPwggtYmTe/A/HVVNEHWf8D97a2CrBIvwP240gLdAgvA/Q1a3ek568D//If32dWDwPzIge737Y/A/dlQ1QdR98D9n1edqK3bwP5rrNNJSefA/GHjuPVxy8D9Dc51GWqrwPyEkC5jArfA/npj1Yiin8D9gArfu5qnwPzXSUnk7wvA/ms5OBkfJ8D9y4UBIFrDwP5VIopdRrPA/OsyXF2Cf8D+sHFpkO1/wP1uU2SCTjPA/CRaHM7+a8D/bFmU2yKTwP1vri4S2nPA/ofMau0R18D92bATidX3wPxbe5SK+k/A/zse1oWKc8D+vtmJ/2b3wPy7iOzHrxfA/9fOmIhXG8D+8lpAPerbwP80GmWTkrPA/6StIMxbN8D9VwaikTsDwPx4bgXhdv/A/UrgehevR8D/ZfFwbKsbwP4lBYOXQovA/aVIKur2k8D/zqzlAMMfwPx13Sgfr//A/UTHO34RC8T+p3hrYKkHxP04oRMAhVPE/vYxiuaVV8T/VITfDDXjxPwjJAiZwa/E/eO49XHJc8T+8s3bbhWbxP9PB+j+HefE/bRyxFp+C8T9wJTs2AnHxP17XL9gNW/E/eH+8V61M8T+dLouJzUfxP8Gtu3mqQ/E/o68gzVg08T/ye5v+7EfxPwIrhxbZTvE/kq6ZfLNN8T/4U+Olm0TxP3ke3J21W/E/dEF9y5yu8T9Bn8iTpGvxP95xio7kcvE/LT4FwHiG8T/eyDzyB4PxP+2BVmDI6vE/d0oH6/8c8j+3lzRG6yjyP13Ed2LWC/I/zXUaaak88j92ieqtgS3yP5lH/mDgOfI/luzYCMRr8j/3I0VkWEXyPye9b3ztGfI/fzDw3Hs48j940VeQZizyPxTLLa2GRPI/ZQETuHU38j+reCPzyB/yPzuNtFTeDvI/MA3DR8QU8j9DHOviNhryP3L5D+m3L/I/3NeBc0YU8j+h20sao/XxPzHw3Hu45PE/XhH8byW78T9MT1jiAeXxP/8JLlbU4PE/24r9Zffk8T/7eVORCuPxP5UrvMtF/PE/PgXAeAYN8j/H155ZEiDyP7MpV3iXC/I/HsTOFDov8j9LAtTUsjXyP1dD4h5LH/I/48eYu5YQ8j9WmpSCbi/yP+4ljdE6KvI/dk8eFmpN8j83ww34/DDyP9z0Zz9SRPI/Afvo1JVP8j/Q7SWN0TryP/hT46WbRPI/9gt2w7ZF8j/+8V61MmHyP4Fbd/NUh/I/xooaTMNw8j/Kcad0sH7yP3aOAdnrXfI/kgVM4NZd8j+IhVrTvGPyPxZSflLtU/I/9pfdk4eF8j+J0t7gC5PyP2WqYFRSp/I/R1oqb0e48j9sYKsEi8PyP5V9VwT/2/I/aw4QzNHj8j+pvB3htODyPx1yM9yAz/I/1VsDWyXY8j9BguLHmLvyP/zjvWplwvI/qg65GW7A8j/Vlc/yPLjyP+9VKxN+qfI/RKM7iJ2p8j+PqiaIuo/yP8jvbfqzn/I/WmQ730+N8j8=",
          "dtype": "f8"
         },
         "type": "candlestick",
         "x": [
          "2025-01-02T05:00:00.000000000",
          "2025-01-03T05:00:00.000000000",
          "2025-01-06T05:00:00.000000000",
          "2025-01-07T05:00:00.000000000",
          "2025-01-08T05:00:00.000000000",
          "2025-01-09T05:00:00.000000000",
          "2025-01-10T05:00:00.000000000",
          "2025-01-13T05:00:00.000000000",
          "2025-01-14T05:00:00.000000000",
          "2025-01-15T05:00:00.000000000",
          "2025-01-16T05:00:00.000000000",
          "2025-01-17T05:00:00.000000000",
          "2025-01-20T05:00:00.000000000",
          "2025-01-21T05:00:00.000000000",
          "2025-01-22T05:00:00.000000000",
          "2025-01-23T05:00:00.000000000",
          "2025-01-24T05:00:00.000000000",
          "2025-01-27T05:00:00.000000000",
          "2025-01-28T05:00:00.000000000",
          "2025-01-29T05:00:00.000000000",
          "2025-01-30T05:00:00.000000000",
          "2025-01-31T05:00:00.000000000",
          "2025-02-03T05:00:00.000000000",
          "2025-02-04T05:00:00.000000000",
          "2025-02-05T05:00:00.000000000",
          "2025-02-06T05:00:00.000000000",
          "2025-02-07T05:00:00.000000000",
          "2025-02-10T05:00:00.000000000",
          "2025-02-11T05:00:00.000000000",
          "2025-02-12T05:00:00.000000000",
          "2025-02-13T05:00:00.000000000",
          "2025-02-14T05:00:00.000000000",
          "2025-02-17T05:00:00.000000000",
          "2025-02-18T05:00:00.000000000",
          "2025-02-19T05:00:00.000000000",
          "2025-02-20T05:00:00.000000000",
          "2025-02-21T05:00:00.000000000",
          "2025-02-24T05:00:00.000000000",
          "2025-02-25T05:00:00.000000000",
          "2025-02-26T05:00:00.000000000",
          "2025-02-27T05:00:00.000000000",
          "2025-02-28T05:00:00.000000000",
          "2025-03-03T05:00:00.000000000",
          "2025-03-04T05:00:00.000000000",
          "2025-03-05T05:00:00.000000000",
          "2025-03-06T05:00:00.000000000",
          "2025-03-07T05:00:00.000000000",
          "2025-03-10T04:00:00.000000000",
          "2025-03-11T04:00:00.000000000",
          "2025-03-12T04:00:00.000000000",
          "2025-03-13T04:00:00.000000000",
          "2025-03-14T04:00:00.000000000",
          "2025-03-17T04:00:00.000000000",
          "2025-03-18T04:00:00.000000000",
          "2025-03-19T04:00:00.000000000",
          "2025-03-20T04:00:00.000000000",
          "2025-03-21T04:00:00.000000000",
          "2025-03-24T04:00:00.000000000",
          "2025-03-25T04:00:00.000000000",
          "2025-03-26T04:00:00.000000000",
          "2025-03-27T04:00:00.000000000",
          "2025-03-28T04:00:00.000000000",
          "2025-03-31T04:00:00.000000000",
          "2025-04-01T04:00:00.000000000",
          "2025-04-02T04:00:00.000000000",
          "2025-04-03T04:00:00.000000000",
          "2025-04-04T04:00:00.000000000",
          "2025-04-07T04:00:00.000000000",
          "2025-04-08T04:00:00.000000000",
          "2025-04-09T04:00:00.000000000",
          "2025-04-10T04:00:00.000000000",
          "2025-04-11T04:00:00.000000000",
          "2025-04-14T04:00:00.000000000",
          "2025-04-15T04:00:00.000000000",
          "2025-04-16T04:00:00.000000000",
          "2025-04-17T04:00:00.000000000",
          "2025-04-18T04:00:00.000000000",
          "2025-04-21T04:00:00.000000000",
          "2025-04-22T04:00:00.000000000",
          "2025-04-23T04:00:00.000000000",
          "2025-04-24T04:00:00.000000000",
          "2025-04-25T04:00:00.000000000",
          "2025-04-28T04:00:00.000000000",
          "2025-04-29T04:00:00.000000000",
          "2025-04-30T04:00:00.000000000",
          "2025-05-01T04:00:00.000000000",
          "2025-05-02T04:00:00.000000000",
          "2025-05-05T04:00:00.000000000",
          "2025-05-06T04:00:00.000000000",
          "2025-05-07T04:00:00.000000000",
          "2025-05-08T04:00:00.000000000",
          "2025-05-09T04:00:00.000000000",
          "2025-05-12T04:00:00.000000000",
          "2025-05-13T04:00:00.000000000",
          "2025-05-14T04:00:00.000000000",
          "2025-05-15T04:00:00.000000000",
          "2025-05-16T04:00:00.000000000",
          "2025-05-19T04:00:00.000000000",
          "2025-05-20T04:00:00.000000000",
          "2025-05-21T04:00:00.000000000",
          "2025-05-22T04:00:00.000000000",
          "2025-05-23T04:00:00.000000000",
          "2025-05-26T04:00:00.000000000",
          "2025-05-27T04:00:00.000000000",
          "2025-05-28T04:00:00.000000000",
          "2025-05-29T04:00:00.000000000",
          "2025-05-30T04:00:00.000000000",
          "2025-06-02T04:00:00.000000000",
          "2025-06-03T04:00:00.000000000",
          "2025-06-04T04:00:00.000000000",
          "2025-06-05T04:00:00.000000000",
          "2025-06-06T04:00:00.000000000",
          "2025-06-09T04:00:00.000000000",
          "2025-06-10T04:00:00.000000000",
          "2025-06-11T04:00:00.000000000",
          "2025-06-12T04:00:00.000000000",
          "2025-06-13T04:00:00.000000000",
          "2025-06-16T04:00:00.000000000",
          "2025-06-17T04:00:00.000000000",
          "2025-06-18T04:00:00.000000000",
          "2025-06-19T04:00:00.000000000",
          "2025-06-20T04:00:00.000000000",
          "2025-06-23T04:00:00.000000000",
          "2025-06-24T04:00:00.000000000",
          "2025-06-25T04:00:00.000000000",
          "2025-06-26T04:00:00.000000000",
          "2025-06-27T04:00:00.000000000",
          "2025-06-30T04:00:00.000000000",
          "2025-07-01T04:00:00.000000000",
          "2025-07-02T04:00:00.000000000",
          "2025-07-03T04:00:00.000000000",
          "2025-07-04T04:00:00.000000000",
          "2025-07-07T04:00:00.000000000",
          "2025-07-08T04:00:00.000000000",
          "2025-07-09T04:00:00.000000000",
          "2025-07-10T04:00:00.000000000",
          "2025-07-11T04:00:00.000000000",
          "2025-07-14T04:00:00.000000000",
          "2025-07-15T04:00:00.000000000",
          "2025-07-16T04:00:00.000000000",
          "2025-07-17T04:00:00.000000000",
          "2025-07-18T04:00:00.000000000"
         ]
        },
        {
         "line": {
          "color": "blue",
          "width": 1.5
         },
         "mode": "lines",
         "name": "MA30",
         "type": "scatter",
         "x": [
          "2025-01-02T05:00:00.000000000",
          "2025-01-03T05:00:00.000000000",
          "2025-01-06T05:00:00.000000000",
          "2025-01-07T05:00:00.000000000",
          "2025-01-08T05:00:00.000000000",
          "2025-01-09T05:00:00.000000000",
          "2025-01-10T05:00:00.000000000",
          "2025-01-13T05:00:00.000000000",
          "2025-01-14T05:00:00.000000000",
          "2025-01-15T05:00:00.000000000",
          "2025-01-16T05:00:00.000000000",
          "2025-01-17T05:00:00.000000000",
          "2025-01-20T05:00:00.000000000",
          "2025-01-21T05:00:00.000000000",
          "2025-01-22T05:00:00.000000000",
          "2025-01-23T05:00:00.000000000",
          "2025-01-24T05:00:00.000000000",
          "2025-01-27T05:00:00.000000000",
          "2025-01-28T05:00:00.000000000",
          "2025-01-29T05:00:00.000000000",
          "2025-01-30T05:00:00.000000000",
          "2025-01-31T05:00:00.000000000",
          "2025-02-03T05:00:00.000000000",
          "2025-02-04T05:00:00.000000000",
          "2025-02-05T05:00:00.000000000",
          "2025-02-06T05:00:00.000000000",
          "2025-02-07T05:00:00.000000000",
          "2025-02-10T05:00:00.000000000",
          "2025-02-11T05:00:00.000000000",
          "2025-02-12T05:00:00.000000000",
          "2025-02-13T05:00:00.000000000",
          "2025-02-14T05:00:00.000000000",
          "2025-02-17T05:00:00.000000000",
          "2025-02-18T05:00:00.000000000",
          "2025-02-19T05:00:00.000000000",
          "2025-02-20T05:00:00.000000000",
          "2025-02-21T05:00:00.000000000",
          "2025-02-24T05:00:00.000000000",
          "2025-02-25T05:00:00.000000000",
          "2025-02-26T05:00:00.000000000",
          "2025-02-27T05:00:00.000000000",
          "2025-02-28T05:00:00.000000000",
          "2025-03-03T05:00:00.000000000",
          "2025-03-04T05:00:00.000000000",
          "2025-03-05T05:00:00.000000000",
          "2025-03-06T05:00:00.000000000",
          "2025-03-07T05:00:00.000000000",
          "2025-03-10T04:00:00.000000000",
          "2025-03-11T04:00:00.000000000",
          "2025-03-12T04:00:00.000000000",
          "2025-03-13T04:00:00.000000000",
          "2025-03-14T04:00:00.000000000",
          "2025-03-17T04:00:00.000000000",
          "2025-03-18T04:00:00.000000000",
          "2025-03-19T04:00:00.000000000",
          "2025-03-20T04:00:00.000000000",
          "2025-03-21T04:00:00.000000000",
          "2025-03-24T04:00:00.000000000",
          "2025-03-25T04:00:00.000000000",
          "2025-03-26T04:00:00.000000000",
          "2025-03-27T04:00:00.000000000",
          "2025-03-28T04:00:00.000000000",
          "2025-03-31T04:00:00.000000000",
          "2025-04-01T04:00:00.000000000",
          "2025-04-02T04:00:00.000000000",
          "2025-04-03T04:00:00.000000000",
          "2025-04-04T04:00:00.000000000",
          "2025-04-07T04:00:00.000000000",
          "2025-04-08T04:00:00.000000000",
          "2025-04-09T04:00:00.000000000",
          "2025-04-10T04:00:00.000000000",
          "2025-04-11T04:00:00.000000000",
          "2025-04-14T04:00:00.000000000",
          "2025-04-15T04:00:00.000000000",
          "2025-04-16T04:00:00.000000000",
          "2025-04-17T04:00:00.000000000",
          "2025-04-18T04:00:00.000000000",
          "2025-04-21T04:00:00.000000000",
          "2025-04-22T04:00:00.000000000",
          "2025-04-23T04:00:00.000000000",
          "2025-04-24T04:00:00.000000000",
          "2025-04-25T04:00:00.000000000",
          "2025-04-28T04:00:00.000000000",
          "2025-04-29T04:00:00.000000000",
          "2025-04-30T04:00:00.000000000",
          "2025-05-01T04:00:00.000000000",
          "2025-05-02T04:00:00.000000000",
          "2025-05-05T04:00:00.000000000",
          "2025-05-06T04:00:00.000000000",
          "2025-05-07T04:00:00.000000000",
          "2025-05-08T04:00:00.000000000",
          "2025-05-09T04:00:00.000000000",
          "2025-05-12T04:00:00.000000000",
          "2025-05-13T04:00:00.000000000",
          "2025-05-14T04:00:00.000000000",
          "2025-05-15T04:00:00.000000000",
          "2025-05-16T04:00:00.000000000",
          "2025-05-19T04:00:00.000000000",
          "2025-05-20T04:00:00.000000000",
          "2025-05-21T04:00:00.000000000",
          "2025-05-22T04:00:00.000000000",
          "2025-05-23T04:00:00.000000000",
          "2025-05-26T04:00:00.000000000",
          "2025-05-27T04:00:00.000000000",
          "2025-05-28T04:00:00.000000000",
          "2025-05-29T04:00:00.000000000",
          "2025-05-30T04:00:00.000000000",
          "2025-06-02T04:00:00.000000000",
          "2025-06-03T04:00:00.000000000",
          "2025-06-04T04:00:00.000000000",
          "2025-06-05T04:00:00.000000000",
          "2025-06-06T04:00:00.000000000",
          "2025-06-09T04:00:00.000000000",
          "2025-06-10T04:00:00.000000000",
          "2025-06-11T04:00:00.000000000",
          "2025-06-12T04:00:00.000000000",
          "2025-06-13T04:00:00.000000000",
          "2025-06-16T04:00:00.000000000",
          "2025-06-17T04:00:00.000000000",
          "2025-06-18T04:00:00.000000000",
          "2025-06-19T04:00:00.000000000",
          "2025-06-20T04:00:00.000000000",
          "2025-06-23T04:00:00.000000000",
          "2025-06-24T04:00:00.000000000",
          "2025-06-25T04:00:00.000000000",
          "2025-06-26T04:00:00.000000000",
          "2025-06-27T04:00:00.000000000",
          "2025-06-30T04:00:00.000000000",
          "2025-07-01T04:00:00.000000000",
          "2025-07-02T04:00:00.000000000",
          "2025-07-03T04:00:00.000000000",
          "2025-07-04T04:00:00.000000000",
          "2025-07-07T04:00:00.000000000",
          "2025-07-08T04:00:00.000000000",
          "2025-07-09T04:00:00.000000000",
          "2025-07-10T04:00:00.000000000",
          "2025-07-11T04:00:00.000000000",
          "2025-07-14T04:00:00.000000000",
          "2025-07-15T04:00:00.000000000",
          "2025-07-16T04:00:00.000000000",
          "2025-07-17T04:00:00.000000000",
          "2025-07-18T04:00:00.000000000"
         ],
         "y": {
          "bdata": "Yig6pZbA8D+L51k2YL3wPw1zgjY5vPA/8kOlETO78D/F+a4bybjwP8KlY84ztvA/jeVwwMGx8D/+QSRDjq3wP3t0EGHpqfA/maHxRBCn8D+6TE2CN6TwP8AklSnmoPA/nE8dq5Se8D+OVrWko5zwPyaN0TqqmvA/kTzqwiKZ8D8XfJqTF5nwP9cFqQFwmfA/utHaR4GY8D92xCEbSJfwP4KZ3BXnlfA/LMBk0PaV8D/85ZMVw5XwP1/iom0PlfA/DA4cvQeV8D/GuPWt6ZTwP7mU4Pqdk/A/0W9y0g6S8D8R+UFwb5HwPwxj+HXNkfA/By/nP5GU8D+Ly94/A5fwP4H7FNpMmPA/N0HBsr+Z8D+hrtuNK5vwP4yC4PHtnfA/kzzX9+Gg8D+bb1fC7aPwP/8DrFW7pvA/6l4n9WWp8D/pA9wGyKrwP705XKs9rPA/KcQ2vDOt8D/cNQ7i8K/wPwRM86EetfA/sij/bSm68D/1VHQRzL7wP7JBOeR5w/A/+mUwRiTK8D8ON80og9DwP2ZrfZHQ1vA/QapO9Obd8D/mTVj1zOXwP7bnDJ+H7fA/iT3HWlb08D9VtEyZrvrwP02CN6RRAfE/cTPvSxAI8T8IZQeC7Q3xP/WfNT/+EvE/3vsuf5gX8T9sh6xbKhzxP3Ba8KKvIPE/0XFIfWwl8T8BWXVDQCvxP4Wm/7/EMvE/f2EMv6458T9j5D+3qj/xP6a1aWyvRfE/63O1FftL8T923PC76VbxPzkEoc9aZPE/FAzUTyVw8T/s0pmOE3nxP1b3tRtqgfE/wziS3kqJ8T9h84Q46ZDxP+lLb38umvE/HW6aUQah8T8vZfNL16bxP7e8X/IsrvE/yvyjb9K08T8rjgOvlrvxP4fRhtadwfE/tDo5Q3HH8T+zL8atb83xP75zFXgU1PE/zB0Q+xfb8T8f7ZJL9uLxPw8IdCZt6vE/26S1fDfw8T+nv3EsAvbxPzcH9Rqo+fE/Mam02AD/8T9PdcjNcAPyP/Squ59ABfI/Z75w1PcH8j8PvEcjjAzyP7LCGlQIEfI/dgeeaEQW8j9SUeJgXBfyPzNhDpVZF/I/0vVXosYX8j/bxp+obBjyP+wexpH0FvI/n0FD/wQX8j9Bl4OzbhbyP0fW9LNrFfI/7DAm/b0U8j8/qmG/JxbyP5lKP+HsFvI/J+eeiFgX8j8v45M7WRfyP1YwF97SF/I//E07DwEa8j+G/3QDBR7yP/fii/Z4IfI/Sl1FWdIk8j/8nQCdXCbyP5SwXFzQKPI/X9iH4nss8j8egVLHPTDyP0WwhMj8NvI/Lj2a6sk88j/tqFe3Z0PyP04n2epySvI/dZ/2bgZS8j9JygN+elnyP+0fMWejYPI/jSeCOA9n8j9ekBoAl23yP4YHuuM6c/I/7S3lfLF38j/hTDlMIX3yP3CCXM/9gvI/45uAOY2H8j+FFuyZOIzyP9oh/mFLj/I/GbK61XOS8j8g5Tqgf5XyP3C1TlyOl/I/2a9OqLqa8j8=",
          "dtype": "f8"
         }
        },
        {
         "line": {
          "color": "orange",
          "width": 1.5
         },
         "mode": "lines",
         "name": "MA60",
         "type": "scatter",
         "x": [
          "2025-01-02T05:00:00.000000000",
          "2025-01-03T05:00:00.000000000",
          "2025-01-06T05:00:00.000000000",
          "2025-01-07T05:00:00.000000000",
          "2025-01-08T05:00:00.000000000",
          "2025-01-09T05:00:00.000000000",
          "2025-01-10T05:00:00.000000000",
          "2025-01-13T05:00:00.000000000",
          "2025-01-14T05:00:00.000000000",
          "2025-01-15T05:00:00.000000000",
          "2025-01-16T05:00:00.000000000",
          "2025-01-17T05:00:00.000000000",
          "2025-01-20T05:00:00.000000000",
          "2025-01-21T05:00:00.000000000",
          "2025-01-22T05:00:00.000000000",
          "2025-01-23T05:00:00.000000000",
          "2025-01-24T05:00:00.000000000",
          "2025-01-27T05:00:00.000000000",
          "2025-01-28T05:00:00.000000000",
          "2025-01-29T05:00:00.000000000",
          "2025-01-30T05:00:00.000000000",
          "2025-01-31T05:00:00.000000000",
          "2025-02-03T05:00:00.000000000",
          "2025-02-04T05:00:00.000000000",
          "2025-02-05T05:00:00.000000000",
          "2025-02-06T05:00:00.000000000",
          "2025-02-07T05:00:00.000000000",
          "2025-02-10T05:00:00.000000000",
          "2025-02-11T05:00:00.000000000",
          "2025-02-12T05:00:00.000000000",
          "2025-02-13T05:00:00.000000000",
          "2025-02-14T05:00:00.000000000",
          "2025-02-17T05:00:00.000000000",
          "2025-02-18T05:00:00.000000000",
          "2025-02-19T05:00:00.000000000",
          "2025-02-20T05:00:00.000000000",
          "2025-02-21T05:00:00.000000000",
          "2025-02-24T05:00:00.000000000",
          "2025-02-25T05:00:00.000000000",
          "2025-02-26T05:00:00.000000000",
          "2025-02-27T05:00:00.000000000",
          "2025-02-28T05:00:00.000000000",
          "2025-03-03T05:00:00.000000000",
          "2025-03-04T05:00:00.000000000",
          "2025-03-05T05:00:00.000000000",
          "2025-03-06T05:00:00.000000000",
          "2025-03-07T05:00:00.000000000",
          "2025-03-10T04:00:00.000000000",
          "2025-03-11T04:00:00.000000000",
          "2025-03-12T04:00:00.000000000",
          "2025-03-13T04:00:00.000000000",
          "2025-03-14T04:00:00.000000000",
          "2025-03-17T04:00:00.000000000",
          "2025-03-18T04:00:00.000000000",
          "2025-03-19T04:00:00.000000000",
          "2025-03-20T04:00:00.000000000",
          "2025-03-21T04:00:00.000000000",
          "2025-03-24T04:00:00.000000000",
          "2025-03-25T04:00:00.000000000",
          "2025-03-26T04:00:00.000000000",
          "2025-03-27T04:00:00.000000000",
          "2025-03-28T04:00:00.000000000",
          "2025-03-31T04:00:00.000000000",
          "2025-04-01T04:00:00.000000000",
          "2025-04-02T04:00:00.000000000",
          "2025-04-03T04:00:00.000000000",
          "2025-04-04T04:00:00.000000000",
          "2025-04-07T04:00:00.000000000",
          "2025-04-08T04:00:00.000000000",
          "2025-04-09T04:00:00.000000000",
          "2025-04-10T04:00:00.000000000",
          "2025-04-11T04:00:00.000000000",
          "2025-04-14T04:00:00.000000000",
          "2025-04-15T04:00:00.000000000",
          "2025-04-16T04:00:00.000000000",
          "2025-04-17T04:00:00.000000000",
          "2025-04-18T04:00:00.000000000",
          "2025-04-21T04:00:00.000000000",
          "2025-04-22T04:00:00.000000000",
          "2025-04-23T04:00:00.000000000",
          "2025-04-24T04:00:00.000000000",
          "2025-04-25T04:00:00.000000000",
          "2025-04-28T04:00:00.000000000",
          "2025-04-29T04:00:00.000000000",
          "2025-04-30T04:00:00.000000000",
          "2025-05-01T04:00:00.000000000",
          "2025-05-02T04:00:00.000000000",
          "2025-05-05T04:00:00.000000000",
          "2025-05-06T04:00:00.000000000",
          "2025-05-07T04:00:00.000000000",
          "2025-05-08T04:00:00.000000000",
          "2025-05-09T04:00:00.000000000",
          "2025-05-12T04:00:00.000000000",
          "2025-05-13T04:00:00.000000000",
          "2025-05-14T04:00:00.000000000",
          "2025-05-15T04:00:00.000000000",
          "2025-05-16T04:00:00.000000000",
          "2025-05-19T04:00:00.000000000",
          "2025-05-20T04:00:00.000000000",
          "2025-05-21T04:00:00.000000000",
          "2025-05-22T04:00:00.000000000",
          "2025-05-23T04:00:00.000000000",
          "2025-05-26T04:00:00.000000000",
          "2025-05-27T04:00:00.000000000",
          "2025-05-28T04:00:00.000000000",
          "2025-05-29T04:00:00.000000000",
          "2025-05-30T04:00:00.000000000",
          "2025-06-02T04:00:00.000000000",
          "2025-06-03T04:00:00.000000000",
          "2025-06-04T04:00:00.000000000",
          "2025-06-05T04:00:00.000000000",
          "2025-06-06T04:00:00.000000000",
          "2025-06-09T04:00:00.000000000",
          "2025-06-10T04:00:00.000000000",
          "2025-06-11T04:00:00.000000000",
          "2025-06-12T04:00:00.000000000",
          "2025-06-13T04:00:00.000000000",
          "2025-06-16T04:00:00.000000000",
          "2025-06-17T04:00:00.000000000",
          "2025-06-18T04:00:00.000000000",
          "2025-06-19T04:00:00.000000000",
          "2025-06-20T04:00:00.000000000",
          "2025-06-23T04:00:00.000000000",
          "2025-06-24T04:00:00.000000000",
          "2025-06-25T04:00:00.000000000",
          "2025-06-26T04:00:00.000000000",
          "2025-06-27T04:00:00.000000000",
          "2025-06-30T04:00:00.000000000",
          "2025-07-01T04:00:00.000000000",
          "2025-07-02T04:00:00.000000000",
          "2025-07-03T04:00:00.000000000",
          "2025-07-04T04:00:00.000000000",
          "2025-07-07T04:00:00.000000000",
          "2025-07-08T04:00:00.000000000",
          "2025-07-09T04:00:00.000000000",
          "2025-07-10T04:00:00.000000000",
          "2025-07-11T04:00:00.000000000",
          "2025-07-14T04:00:00.000000000",
          "2025-07-15T04:00:00.000000000",
          "2025-07-16T04:00:00.000000000",
          "2025-07-17T04:00:00.000000000",
          "2025-07-18T04:00:00.000000000"
         ],
         "y": {
          "bdata": "yV9HCecA8T8VlmV1mPzwP5mKeq7c+PA/eWfa68r08D/Hydd4w/DwP/k7ATq57PA/8ddkjXro8D+D10E4eeTwPzR6SAuq4PA/QqAgnhLd8D8+A+rNqNnwPyZ3xXkl1vA/tClErVbT8D9b/IAa0dDwP3ui68IPzvA/pIMIS0/L8D+72+IH1MjwP7zLRXwnxvA/AB+8dmnD8D88jgxfTMDwPz8AqU2cvPA/tWytLxK68D+3OhOt77bwP5Nlmy6etPA/UTblCu+y8D+IBjxDS7HwPwE1tWytr/A/gZnv4Ceu8D9e+oTZ8azwP2cX+eJ4q/A/tKuQ8pOq8D+MWRy7MarwP0e3SwhDqvA/lEIzYnmq8D8zVMVU+qnwPycUIuAQqvA/DxEk3FGp8D/M2L0CvqjwPz08XltSqPA/QoAMHTuo8D9SqJTEf6fwPz6veOqRpvA/4wmqM+Sl8D82xmFDSqbwP5VsYm7kp/A/obJ0GKap8D+GaIfS8avwP8Qj8fJ0rvA/2psFx1Kx8D/Dffeh5bPwP3QCrdNbtvA/NrVZ4u658D/xGXYFyL3wPwvlV4ZLwfA/y6XxC6/E8D+ONqEjzMfwP4MLjM93yvA/odEwjw/N8D8MryR5rs/wP4EBl9pl0vA/cxWL3xTW8D97qcXNltnwP/mqgj5+3PA/hNkEGJbf8D/Rg6joNePwP4kU8FhZ6PA/Cc9xW0jt8D/+qcs8zPHwP9PcCmE19vA/amluhbD68D8wcGbh2ADxP/uefj1MCPE/H2gFhqwO8T9kBFQ4ghTxP66h1F5EG/E/u7BIJroh8T8rpPyk2ifxP81G1DHULvE/C2rlS5U18T8fTmA6rTvxPw+U7sF+QvE/hVP5sVxJ8T8J7i3SsVDxP5/cybqSV/E/HjwAz+Nd8T8EcokjD2TxPwZ7Jg6zavE/n6h/I5Rx8T8TKc3mcXjxPwLU1LK1fvE/XFDy/eeD8T+KIw9EFonxP9Ow8t4rjfE/gI3+qjaS8T8n556IWJfxP76o3a8CnPE/84++SdOg8T860ENtG6bxPy08QuBbq/E/sL0pvx+x8T/klmkOI7fxP7ayVzLavfE/8wAW+fXD8T/jzJwbwMjxPyELvlYvzPE/Mb3q7ifQ8T9RRQT2q9PxPxkRshnN1/E/hE9gJ+La8T+2h6qFf97xP6eDz+mM4vE/+XEhfBXm8T+tuEv1d+nxP+8AT1q47PE/V0Q6Kbnw8T+dl51YuvXxP1urULfG+vE/i70qKvX/8T+OxUl0qQTyP1FcaMGeCfI/nb6er1kO8j9jIOL5HxPyP7/bvHFSGPI/MHOnYeUd8j8eD5BCbCPyPyFpSsXZJ/I/766zIf8s8j8sw6VQAzPyP1Dxpd3VOPI/gReQ0Kk+8j/ZcH6weULyP100ZDxKRfI/4JGeD7xH8j/eiWz6xkryP65QkTD5TPI/we5hHElP8j/j1remU1HyPxF8+YpbUvI/gnFw6ZhT8j+vR86v01XyPwQAx549V/I/gMt2mAlZ8j8=",
          "dtype": "f8"
         }
        },
        {
         "line": {
          "color": "green",
          "width": 1.5
         },
         "mode": "lines",
         "name": "MA90",
         "type": "scatter",
         "x": [
          "2025-01-02T05:00:00.000000000",
          "2025-01-03T05:00:00.000000000",
          "2025-01-06T05:00:00.000000000",
          "2025-01-07T05:00:00.000000000",
          "2025-01-08T05:00:00.000000000",
          "2025-01-09T05:00:00.000000000",
          "2025-01-10T05:00:00.000000000",
          "2025-01-13T05:00:00.000000000",
          "2025-01-14T05:00:00.000000000",
          "2025-01-15T05:00:00.000000000",
          "2025-01-16T05:00:00.000000000",
          "2025-01-17T05:00:00.000000000",
          "2025-01-20T05:00:00.000000000",
          "2025-01-21T05:00:00.000000000",
          "2025-01-22T05:00:00.000000000",
          "2025-01-23T05:00:00.000000000",
          "2025-01-24T05:00:00.000000000",
          "2025-01-27T05:00:00.000000000",
          "2025-01-28T05:00:00.000000000",
          "2025-01-29T05:00:00.000000000",
          "2025-01-30T05:00:00.000000000",
          "2025-01-31T05:00:00.000000000",
          "2025-02-03T05:00:00.000000000",
          "2025-02-04T05:00:00.000000000",
          "2025-02-05T05:00:00.000000000",
          "2025-02-06T05:00:00.000000000",
          "2025-02-07T05:00:00.000000000",
          "2025-02-10T05:00:00.000000000",
          "2025-02-11T05:00:00.000000000",
          "2025-02-12T05:00:00.000000000",
          "2025-02-13T05:00:00.000000000",
          "2025-02-14T05:00:00.000000000",
          "2025-02-17T05:00:00.000000000",
          "2025-02-18T05:00:00.000000000",
          "2025-02-19T05:00:00.000000000",
          "2025-02-20T05:00:00.000000000",
          "2025-02-21T05:00:00.000000000",
          "2025-02-24T05:00:00.000000000",
          "2025-02-25T05:00:00.000000000",
          "2025-02-26T05:00:00.000000000",
          "2025-02-27T05:00:00.000000000",
          "2025-02-28T05:00:00.000000000",
          "2025-03-03T05:00:00.000000000",
          "2025-03-04T05:00:00.000000000",
          "2025-03-05T05:00:00.000000000",
          "2025-03-06T05:00:00.000000000",
          "2025-03-07T05:00:00.000000000",
          "2025-03-10T04:00:00.000000000",
          "2025-03-11T04:00:00.000000000",
          "2025-03-12T04:00:00.000000000",
          "2025-03-13T04:00:00.000000000",
          "2025-03-14T04:00:00.000000000",
          "2025-03-17T04:00:00.000000000",
          "2025-03-18T04:00:00.000000000",
          "2025-03-19T04:00:00.000000000",
          "2025-03-20T04:00:00.000000000",
          "2025-03-21T04:00:00.000000000",
          "2025-03-24T04:00:00.000000000",
          "2025-03-25T04:00:00.000000000",
          "2025-03-26T04:00:00.000000000",
          "2025-03-27T04:00:00.000000000",
          "2025-03-28T04:00:00.000000000",
          "2025-03-31T04:00:00.000000000",
          "2025-04-01T04:00:00.000000000",
          "2025-04-02T04:00:00.000000000",
          "2025-04-03T04:00:00.000000000",
          "2025-04-04T04:00:00.000000000",
          "2025-04-07T04:00:00.000000000",
          "2025-04-08T04:00:00.000000000",
          "2025-04-09T04:00:00.000000000",
          "2025-04-10T04:00:00.000000000",
          "2025-04-11T04:00:00.000000000",
          "2025-04-14T04:00:00.000000000",
          "2025-04-15T04:00:00.000000000",
          "2025-04-16T04:00:00.000000000",
          "2025-04-17T04:00:00.000000000",
          "2025-04-18T04:00:00.000000000",
          "2025-04-21T04:00:00.000000000",
          "2025-04-22T04:00:00.000000000",
          "2025-04-23T04:00:00.000000000",
          "2025-04-24T04:00:00.000000000",
          "2025-04-25T04:00:00.000000000",
          "2025-04-28T04:00:00.000000000",
          "2025-04-29T04:00:00.000000000",
          "2025-04-30T04:00:00.000000000",
          "2025-05-01T04:00:00.000000000",
          "2025-05-02T04:00:00.000000000",
          "2025-05-05T04:00:00.000000000",
          "2025-05-06T04:00:00.000000000",
          "2025-05-07T04:00:00.000000000",
          "2025-05-08T04:00:00.000000000",
          "2025-05-09T04:00:00.000000000",
          "2025-05-12T04:00:00.000000000",
          "2025-05-13T04:00:00.000000000",
          "2025-05-14T04:00:00.000000000",
          "2025-05-15T04:00:00.000000000",
          "2025-05-16T04:00:00.000000000",
          "2025-05-19T04:00:00.000000000",
          "2025-05-20T04:00:00.000000000",
          "2025-05-21T04:00:00.000000000",
          "2025-05-22T04:00:00.000000000",
          "2025-05-23T04:00:00.000000000",
          "2025-05-26T04:00:00.000000000",
          "2025-05-27T04:00:00.000000000",
          "2025-05-28T04:00:00.000000000",
          "2025-05-29T04:00:00.000000000",
          "2025-05-30T04:00:00.000000000",
          "2025-06-02T04:00:00.000000000",
          "2025-06-03T04:00:00.000000000",
          "2025-06-04T04:00:00.000000000",
          "2025-06-05T04:00:00.000000000",
          "2025-06-06T04:00:00.000000000",
          "2025-06-09T04:00:00.000000000",
          "2025-06-10T04:00:00.000000000",
          "2025-06-11T04:00:00.000000000",
          "2025-06-12T04:00:00.000000000",
          "2025-06-13T04:00:00.000000000",
          "2025-06-16T04:00:00.000000000",
          "2025-06-17T04:00:00.000000000",
          "2025-06-18T04:00:00.000000000",
          "2025-06-19T04:00:00.000000000",
          "2025-06-20T04:00:00.000000000",
          "2025-06-23T04:00:00.000000000",
          "2025-06-24T04:00:00.000000000",
          "2025-06-25T04:00:00.000000000",
          "2025-06-26T04:00:00.000000000",
          "2025-06-27T04:00:00.000000000",
          "2025-06-30T04:00:00.000000000",
          "2025-07-01T04:00:00.000000000",
          "2025-07-02T04:00:00.000000000",
          "2025-07-03T04:00:00.000000000",
          "2025-07-04T04:00:00.000000000",
          "2025-07-07T04:00:00.000000000",
          "2025-07-08T04:00:00.000000000",
          "2025-07-09T04:00:00.000000000",
          "2025-07-10T04:00:00.000000000",
          "2025-07-11T04:00:00.000000000",
          "2025-07-14T04:00:00.000000000",
          "2025-07-15T04:00:00.000000000",
          "2025-07-16T04:00:00.000000000",
          "2025-07-17T04:00:00.000000000",
          "2025-07-18T04:00:00.000000000"
         ],
         "y": {
          "bdata": "zn2uBR8/8T9reI1wbTvxP8vBu75LOPE/9IDbTxU18T+H7myiqTHxPx+tpjpGLvE/OnK3/nAq8T97VVTqfybxP4Hm1XX3IvE/AbEw9ZEf8T+mYmNeRxzxP4yke2HjGPE/ZKkISuQV8T9t5/up8RLxP6shcY+lD/E/NC+H3XcM8T+cYczSnQnxPzox/pCRBvE/NY/WKz8D8T/S5X4lGwDxP39R0bqC/PA/22EmZPr48D9o65GkL/XwP9aeHSGh8fA/CYz1DUzu8D88wJMWLuvwP2zVTILo5/A/DQkFkp3k8D861Cu01eHwP1eid9sj3/A/M/rRcMrc8D/npzgOvNrwP+ZaA72s2PA/YwXS2HHW8D8QFtl/O9TwP9WoS3d10vA/JqQ1Bp3Q8D81Cklm9c7wPyOoaXlazfA/JDV4ENnL8D93A5CLCMrwP1kNTYotyPA/MF3qXKDG8D8xulqy28XwP/7amGK/xfA/qbpaAZjF8D96WRMLfMXwP7mdQfRCxfA/UuHiu6fF8D/XG6L3s8XwP/cjRWRYxfA/j9aNxgPG8D8cQSrFjsbwP0rma6mWx/A/Y+OFJbzI8D/NlUG1wcnwPxqk4CnkyvA/JiKaBCDM8D/tHVu8Rc3wP0GaYqz6zfA/bcYazOrO8D+BE/dFL9DwP/9CLZG80fA//vzkFXXT8D/NVVWkEdXwP/JEwSqi1/A/NYFx0nDZ8D+p3JPpDNvwP2APYrbG3PA/JHzvb9De8D8JD15s+OHwP+cghuHU5fA/818NPU/p8D8cdXRcjezwP9aa01Jm8PA/AYp+WjL08D8k7NtJRPjwP9DbxSEI/fA/m4yMSjkB8T/myqDa4ATxP9+V6N32CPE/vXdyEZAN8T8Elvo9YhLxP4revEu8FvE/GIIJye8a8T/w3gKnAh/xP0EuD10BI/E/r5XQXRIn8T+9w54UcSvxPwZZi569L/E/6u9DaSA08T/fsKlCZTjxP7nJqDKMO/E/E3Q/WGQ/8T9Q1F2KSUPxP1fxMxtRR/E/0h4c2YJL8T+vWko0DFDxP3IpELJ7VPE/xEh+JjdZ8T/mZTphr13xPw41WQWmYvE/BUJ2jwpn8T/h7xezJWvxP8IgJcUpb/E/sYvxw31z8T8y9X5UYXfxP6F2NF2xe/E/VqylMfh/8T/UbAu8gITxPz0mtCFOifE/EdqF+QWO8T8Vlfqf6ZLxPzKj4xuol/E/aZe+OZic8T8woYLDC6LxPwHz8rCfp/E/go/BilOt8T9hpTPOarLxPzPIrEBpt/E/XSgkShm88T9m7XoazsDxP6SweNfGxfE/ZR3dahLL8T+/J4ftstDxP0Mo3Bgo1vE/H5UmVuTb8T/peC7I5eHxPxeIPA3J5/E/pYuc58Tt8T8N6vle9PPxP/vOzcJP+vE/nLoFJd//8T/iTCaB4ATyP+YySNQeCfI/bAdyskkN8j9i4KYsMBHyPwNsyzH3FPI/tsXTthIY8j+FUYWOfxvyP0CUpLriHvI/QzHbikwi8j8=",
          "dtype": "f8"
         }
        },
        {
         "marker": {
          "color": "purple",
          "size": 10,
          "symbol": "star-triangle-up"
         },
         "mode": "markers",
         "name": "Swing High",
         "type": "scatter",
         "x": [
          "2025-01-27T05:00:00.000000000",
          "2025-02-14T05:00:00.000000000",
          "2025-03-18T04:00:00.000000000",
          "2025-04-21T04:00:00.000000000",
          "2025-06-12T04:00:00.000000000",
          "2025-07-01T04:00:00.000000000"
         ],
         "y": {
          "bdata": "7kJznUba8D+KdhVSftLwPxCv6xfshvE/Mc7fhEKE8j+yaDo7GZzyPyGwcmiR7fI/",
          "dtype": "f8"
         }
        },
        {
         "marker": {
          "color": "brown",
          "size": 10,
          "symbol": "star-triangle-down"
         },
         "mode": "markers",
         "name": "Swing Low",
         "type": "scatter",
         "x": [
          "2025-01-13T05:00:00.000000000",
          "2025-02-03T05:00:00.000000000",
          "2025-02-28T05:00:00.000000000",
          "2025-03-27T04:00:00.000000000",
          "2025-05-12T04:00:00.000000000",
          "2025-06-19T04:00:00.000000000"
         ],
         "y": {
          "bdata": "Yygn2lVI8D/Z690f71XwP8GopE5Ak/A/ByXMtP0r8T/cnbXbLrTxP6p9Oh4zUPI/",
          "dtype": "f8"
         }
        },
        {
         "marker": {
          "color": [
           "black",
           "green",
           "green",
           "black",
           "black",
           "black",
           "black",
           "green",
           "green",
           "black",
           "green",
           "black",
           "green",
           "green",
           "black",
           "green",
           "green",
           "green",
           "black",
           "black",
           "black",
           "black",
           "green",
           "green",
           "green",
           "black",
           "black",
           "green",
           "green",
           "green",
           "green",
           "green",
           "green",
           "black",
           "black",
           "green",
           "black",
           "black",
           "green",
           "black",
           "black",
           "black",
           "green",
           "green",
           "green",
           "black",
           "green",
           "green",
           "green",
           "black",
           "black",
           "green",
           "green",
           "green",
           "black",
           "black",
           "black",
           "black",
           "black",
           "black",
           "green",
           "green",
           "black",
           "black",
           "green",
           "green",
           "black",
           "green",
           "green",
           "black",
           "green",
           "green",
           "green",
           "black",
           "green",
           "black",
           "green",
           "green",
           "black",
           "black",
           "green",
           "black",
           "green",
           "black",
           "black",
           "black",
           "green",
           "green",
           "green",
           "black",
           "black",
           "green",
           "black",
           "green",
           "black",
           "green",
           "black",
           "green",
           "green",
           "green",
           "black",
           "green",
           "green",
           "black",
           "black",
           "green",
           "black",
           "green",
           "black",
           "green",
           "green",
           "black",
           "green",
           "green",
           "green",
           "green",
           "black",
           "green",
           "black",
           "black",
           "green",
           "green",
           "green",
           "green",
           "green",
           "green",
           "green",
           "green",
           "green",
           "black",
           "black",
           "green",
           "black",
           "green",
           "black",
           "black",
           "black",
           "green",
           "black",
           "green",
           "black",
           "green"
          ]
         },
         "name": "Volume",
         "opacity": 0.6,
         "type": "bar",
         "x": [
          "2025-01-02T05:00:00.000000000",
          "2025-01-03T05:00:00.000000000",
          "2025-01-06T05:00:00.000000000",
          "2025-01-07T05:00:00.000000000",
          "2025-01-08T05:00:00.000000000",
          "2025-01-09T05:00:00.000000000",
          "2025-01-10T05:00:00.000000000",
          "2025-01-13T05:00:00.000000000",
          "2025-01-14T05:00:00.000000000",
          "2025-01-15T05:00:00.000000000",
          "2025-01-16T05:00:00.000000000",
          "2025-01-17T05:00:00.000000000",
          "2025-01-20T05:00:00.000000000",
          "2025-01-21T05:00:00.000000000",
          "2025-01-22T05:00:00.000000000",
          "2025-01-23T05:00:00.000000000",
          "2025-01-24T05:00:00.000000000",
          "2025-01-27T05:00:00.000000000",
          "2025-01-28T05:00:00.000000000",
          "2025-01-29T05:00:00.000000000",
          "2025-01-30T05:00:00.000000000",
          "2025-01-31T05:00:00.000000000",
          "2025-02-03T05:00:00.000000000",
          "2025-02-04T05:00:00.000000000",
          "2025-02-05T05:00:00.000000000",
          "2025-02-06T05:00:00.000000000",
          "2025-02-07T05:00:00.000000000",
          "2025-02-10T05:00:00.000000000",
          "2025-02-11T05:00:00.000000000",
          "2025-02-12T05:00:00.000000000",
          "2025-02-13T05:00:00.000000000",
          "2025-02-14T05:00:00.000000000",
          "2025-02-17T05:00:00.000000000",
          "2025-02-18T05:00:00.000000000",
          "2025-02-19T05:00:00.000000000",
          "2025-02-20T05:00:00.000000000",
          "2025-02-21T05:00:00.000000000",
          "2025-02-24T05:00:00.000000000",
          "2025-02-25T05:00:00.000000000",
          "2025-02-26T05:00:00.000000000",
          "2025-02-27T05:00:00.000000000",
          "2025-02-28T05:00:00.000000000",
          "2025-03-03T05:00:00.000000000",
          "2025-03-04T05:00:00.000000000",
          "2025-03-05T05:00:00.000000000",
          "2025-03-06T05:00:00.000000000",
          "2025-03-07T05:00:00.000000000",
          "2025-03-10T04:00:00.000000000",
          "2025-03-11T04:00:00.000000000",
          "2025-03-12T04:00:00.000000000",
          "2025-03-13T04:00:00.000000000",
          "2025-03-14T04:00:00.000000000",
          "2025-03-17T04:00:00.000000000",
          "2025-03-18T04:00:00.000000000",
          "2025-03-19T04:00:00.000000000",
          "2025-03-20T04:00:00.000000000",
          "2025-03-21T04:00:00.000000000",
          "2025-03-24T04:00:00.000000000",
          "2025-03-25T04:00:00.000000000",
          "2025-03-26T04:00:00.000000000",
          "2025-03-27T04:00:00.000000000",
          "2025-03-28T04:00:00.000000000",
          "2025-03-31T04:00:00.000000000",
          "2025-04-01T04:00:00.000000000",
          "2025-04-02T04:00:00.000000000",
          "2025-04-03T04:00:00.000000000",
          "2025-04-04T04:00:00.000000000",
          "2025-04-07T04:00:00.000000000",
          "2025-04-08T04:00:00.000000000",
          "2025-04-09T04:00:00.000000000",
          "2025-04-10T04:00:00.000000000",
          "2025-04-11T04:00:00.000000000",
          "2025-04-14T04:00:00.000000000",
          "2025-04-15T04:00:00.000000000",
          "2025-04-16T04:00:00.000000000",
          "2025-04-17T04:00:00.000000000",
          "2025-04-18T04:00:00.000000000",
          "2025-04-21T04:00:00.000000000",
          "2025-04-22T04:00:00.000000000",
          "2025-04-23T04:00:00.000000000",
          "2025-04-24T04:00:00.000000000",
          "2025-04-25T04:00:00.000000000",
          "2025-04-28T04:00:00.000000000",
          "2025-04-29T04:00:00.000000000",
          "2025-04-30T04:00:00.000000000",
          "2025-05-01T04:00:00.000000000",
          "2025-05-02T04:00:00.000000000",
          "2025-05-05T04:00:00.000000000",
          "2025-05-06T04:00:00.000000000",
          "2025-05-07T04:00:00.000000000",
          "2025-05-08T04:00:00.000000000",
          "2025-05-09T04:00:00.000000000",
          "2025-05-12T04:00:00.000000000",
          "2025-05-13T04:00:00.000000000",
          "2025-05-14T04:00:00.000000000",
          "2025-05-15T04:00:00.000000000",
          "2025-05-16T04:00:00.000000000",
          "2025-05-19T04:00:00.000000000",
          "2025-05-20T04:00:00.000000000",
          "2025-05-21T04:00:00.000000000",
          "2025-05-22T04:00:00.000000000",
          "2025-05-23T04:00:00.000000000",
          "2025-05-26T04:00:00.000000000",
          "2025-05-27T04:00:00.000000000",
          "2025-05-28T04:00:00.000000000",
          "2025-05-29T04:00:00.000000000",
          "2025-05-30T04:00:00.000000000",
          "2025-06-02T04:00:00.000000000",
          "2025-06-03T04:00:00.000000000",
          "2025-06-04T04:00:00.000000000",
          "2025-06-05T04:00:00.000000000",
          "2025-06-06T04:00:00.000000000",
          "2025-06-09T04:00:00.000000000",
          "2025-06-10T04:00:00.000000000",
          "2025-06-11T04:00:00.000000000",
          "2025-06-12T04:00:00.000000000",
          "2025-06-13T04:00:00.000000000",
          "2025-06-16T04:00:00.000000000",
          "2025-06-17T04:00:00.000000000",
          "2025-06-18T04:00:00.000000000",
          "2025-06-19T04:00:00.000000000",
          "2025-06-20T04:00:00.000000000",
          "2025-06-23T04:00:00.000000000",
          "2025-06-24T04:00:00.000000000",
          "2025-06-25T04:00:00.000000000",
          "2025-06-26T04:00:00.000000000",
          "2025-06-27T04:00:00.000000000",
          "2025-06-30T04:00:00.000000000",
          "2025-07-01T04:00:00.000000000",
          "2025-07-02T04:00:00.000000000",
          "2025-07-03T04:00:00.000000000",
          "2025-07-04T04:00:00.000000000",
          "2025-07-07T04:00:00.000000000",
          "2025-07-08T04:00:00.000000000",
          "2025-07-09T04:00:00.000000000",
          "2025-07-10T04:00:00.000000000",
          "2025-07-11T04:00:00.000000000",
          "2025-07-14T04:00:00.000000000",
          "2025-07-15T04:00:00.000000000",
          "2025-07-16T04:00:00.000000000",
          "2025-07-17T04:00:00.000000000",
          "2025-07-18T04:00:00.000000000"
         ],
         "y": {
          "bdata": "AAAAAEitDkEAAAAAUC0IQQAAAABwyhRBAAAAAFQ7EEEAAAAALNgQQQAAAADYSQVBAAAAAMQfE0EAAAAAAEcQQQAAAACsLRFBAAAAAOh0EEEAAAAAwJYQQQAAAACocg1BAAAAADyKE0EAAAAAIPEVQQAAAADQIw5BAAAAABCOEEEAAAAAgEoSQQAAAADQVhJBAAAAACAREUEAAAAAbEQSQQAAAABIyhFBAAAAAACmFkEAAAAAqFkhQQAAAAAcaRJBAAAAADwnEEEAAAAAwCsMQQAAAABQ4hNBAAAAANCsB0EAAAAA+FMJQQAAAADc7RJBAAAAACBuFUEAAAAAMDwNQQAAAADQoAJBAAAAAAjbB0EAAAAAIH8JQQAAAABI/ApBAAAAAEBkDEEAAAAAqLoQQQAAAAAYfQ5BAAAAANyPEEEAAAAAULgQQQAAAABgVhFBAAAAAIzJE0EAAAAATKAXQQAAAACwEB1BAAAAABicGkEAAAAAII4WQQAAAAAMsxRBAAAAAGCkFEEAAAAAGHcTQQAAAADcvhJBAAAAANgYEUEAAAAAAKMJQQAAAAAIXAlBAAAAACAADUEAAAAAYMwKQQAAAACQbwdBAAAAAIBQDEEAAAAA4EkHQQAAAACgPQhBAAAAAOB8CkEAAAAAmGwHQQAAAADAjw1BAAAAAGj0CUEAAAAACN0PQQAAAACO6CJBAAAAAJiWKEEAAAAAKMorQQAAAABiICFBAAAAACanLkEAAAAAaqwkQQAAAABmry5BAAAAAL4+IEEAAAAAEEwXQQAAAABkwhtBAAAAANCOF0EAAAAAwDIRQQAAAAA84xVBAAAAANQtGkEAAAAAbvQgQQAAAABwxBRBAAAAAMTfEkEAAAAAwMURQQAAAADMLRNBAAAAAAjHE0EAAAAAoPEQQQAAAAA4ThZBAAAAALjEEUEAAAAAJOESQQAAAABgZxZBAAAAAOiGFkEAAAAAGHgPQQAAAABoeRtBAAAAAJBIEkEAAAAAeE0VQQAAAAD8nRBBAAAAAFBhDkEAAAAAVGMVQQAAAACcuBFBAAAAAPysFEEAAAAAFBEXQQAAAACgexVBAAAAADCMB0EAAAAAGHkRQQAAAADoDRJBAAAAANy6FkEAAAAAKOcUQQAAAABEaRJBAAAAACDNEEEAAAAAwDUSQQAAAACgXhVBAAAAAPyuEkEAAAAA2PkGQQAAAABQwA9BAAAAACjaEUEAAAAANM8WQQAAAACYLhlBAAAAAPDjEkEAAAAAODYUQQAAAAAYKRVBAAAAAHgoDUEAAAAAfFQQQQAAAAAo+BhBAAAAABz2FUEAAAAACLINQQAAAABQRBRBAAAAADTsEUEAAAAAeLAQQQAAAAAsqxFBAAAAAIxLEEEAAAAA2IMOQQAAAAA4jwhBAAAAACAfDUEAAAAAKHkNQQAAAAAwqQdBAAAAAJBKF0EAAAAACLYNQQAAAACQ+AZBAAAAAPgXCkEAAAAASMIVQQAAAACAdAhBAAAAADirCEE=",
          "dtype": "f8"
         },
         "yaxis": "y2"
        }
       ],
       "layout": {
        "height": 500,
        "legend": {
         "orientation": "h",
         "x": 1,
         "xanchor": "right",
         "y": 1.02,
         "yanchor": "bottom"
        },
        "template": {
         "data": {
          "bar": [
           {
            "error_x": {
             "color": "#2a3f5f"
            },
            "error_y": {
             "color": "#2a3f5f"
            },
            "marker": {
             "line": {
              "color": "white",
              "width": 0.5
             },
             "pattern": {
              "fillmode": "overlay",
              "size": 10,
              "solidity": 0.2
             }
            },
            "type": "bar"
           }
          ],
          "barpolar": [
           {
            "marker": {
             "line": {
              "color": "white",
              "width": 0.5
             },
             "pattern": {
              "fillmode": "overlay",
              "size": 10,
              "solidity": 0.2
             }
            },
            "type": "barpolar"
           }
          ],
          "carpet": [
           {
            "aaxis": {
             "endlinecolor": "#2a3f5f",
             "gridcolor": "#C8D4E3",
             "linecolor": "#C8D4E3",
             "minorgridcolor": "#C8D4E3",
             "startlinecolor": "#2a3f5f"
            },
            "baxis": {
             "endlinecolor": "#2a3f5f",
             "gridcolor": "#C8D4E3",
             "linecolor": "#C8D4E3",
             "minorgridcolor": "#C8D4E3",
             "startlinecolor": "#2a3f5f"
            },
            "type": "carpet"
           }
          ],
          "choropleth": [
           {
            "colorbar": {
             "outlinewidth": 0,
             "ticks": ""
            },
            "type": "choropleth"
           }
          ],
          "contour": [
           {
            "colorbar": {
             "outlinewidth": 0,
             "ticks": ""
            },
            "colorscale": [
             [
              0,
              "#0d0887"
             ],
             [
              0.1111111111111111,
              "#46039f"
             ],
             [
              0.2222222222222222,
              "#7201a8"
             ],
             [
              0.3333333333333333,
              "#9c179e"
             ],
             [
              0.4444444444444444,
              "#bd3786"
             ],
             [
              0.5555555555555556,
              "#d8576b"
             ],
             [
              0.6666666666666666,
              "#ed7953"
             ],
             [
              0.7777777777777778,
              "#fb9f3a"
             ],
             [
              0.8888888888888888,
              "#fdca26"
             ],
             [
              1,
              "#f0f921"
             ]
            ],
            "type": "contour"
           }
          ],
          "contourcarpet": [
           {
            "colorbar": {
             "outlinewidth": 0,
             "ticks": ""
            },
            "type": "contourcarpet"
           }
          ],
          "heatmap": [
           {
            "colorbar": {
             "outlinewidth": 0,
             "ticks": ""
            },
            "colorscale": [
             [
              0,
              "#0d0887"
             ],
             [
              0.1111111111111111,
              "#46039f"
             ],
             [
              0.2222222222222222,
              "#7201a8"
             ],
             [
              0.3333333333333333,
              "#9c179e"
             ],
             [
              0.4444444444444444,
              "#bd3786"
             ],
             [
              0.5555555555555556,
              "#d8576b"
             ],
             [
              0.6666666666666666,
              "#ed7953"
             ],
             [
              0.7777777777777778,
              "#fb9f3a"
             ],
             [
              0.8888888888888888,
              "#fdca26"
             ],
             [
              1,
              "#f0f921"
             ]
            ],
            "type": "heatmap"
           }
          ],
          "histogram": [
           {
            "marker": {
             "pattern": {
              "fillmode": "overlay",
              "size": 10,
              "solidity": 0.2
             }
            },
            "type": "histogram"
           }
          ],
          "histogram2d": [
           {
            "colorbar": {
             "outlinewidth": 0,
             "ticks": ""
            },
            "colorscale": [
             [
              0,
              "#0d0887"
             ],
             [
              0.1111111111111111,
              "#46039f"
             ],
             [
              0.2222222222222222,
              "#7201a8"
             ],
             [
              0.3333333333333333,
              "#9c179e"
             ],
             [
              0.4444444444444444,
              "#bd3786"
             ],
             [
              0.5555555555555556,
              "#d8576b"
             ],
             [
              0.6666666666666666,
              "#ed7953"
             ],
             [
              0.7777777777777778,
              "#fb9f3a"
             ],
             [
              0.8888888888888888,
              "#fdca26"
             ],
             [
              1,
              "#f0f921"
             ]
            ],
            "type": "histogram2d"
           }
          ],
          "histogram2dcontour": [
           {
            "colorbar": {
             "outlinewidth": 0,
             "ticks": ""
            },
            "colorscale": [
             [
              0,
              "#0d0887"
             ],
             [
              0.1111111111111111,
              "#46039f"
             ],
             [
              0.2222222222222222,
              "#7201a8"
             ],
             [
              0.3333333333333333,
              "#9c179e"
             ],
             [
              0.4444444444444444,
              "#bd3786"
             ],
             [
              0.5555555555555556,
              "#d8576b"
             ],
             [
              0.6666666666666666,
              "#ed7953"
             ],
             [
              0.7777777777777778,
              "#fb9f3a"
             ],
             [
              0.8888888888888888,
              "#fdca26"
             ],
             [
              1,
              "#f0f921"
             ]
            ],
            "type": "histogram2dcontour"
           }
          ],
          "mesh3d": [
           {
            "colorbar": {
             "outlinewidth": 0,
             "ticks": ""
            },
            "type": "mesh3d"
           }
          ],
          "parcoords": [
           {
            "line": {
             "colorbar": {
              "outlinewidth": 0,
              "ticks": ""
             }
            },
            "type": "parcoords"
           }
          ],
          "pie": [
           {
            "automargin": true,
            "type": "pie"
           }
          ],
          "scatter": [
           {
            "fillpattern": {
             "fillmode": "overlay",
             "size": 10,
             "solidity": 0.2
            },
            "type": "scatter"
           }
          ],
          "scatter3d": [
           {
            "line": {
             "colorbar": {
              "outlinewidth": 0,
              "ticks": ""
             }
            },
            "marker": {
             "colorbar": {
              "outlinewidth": 0,
              "ticks": ""
             }
            },
            "type": "scatter3d"
           }
          ],
          "scattercarpet": [
           {
            "marker": {
             "colorbar": {
              "outlinewidth": 0,
              "ticks": ""
             }
            },
            "type": "scattercarpet"
           }
          ],
          "scattergeo": [
           {
            "marker": {
             "colorbar": {
              "outlinewidth": 0,
              "ticks": ""
             }
            },
            "type": "scattergeo"
           }
          ],
          "scattergl": [
           {
            "marker": {
             "colorbar": {
              "outlinewidth": 0,
              "ticks": ""
             }
            },
            "type": "scattergl"
           }
          ],
          "scattermap": [
           {
            "marker": {
             "colorbar": {
              "outlinewidth": 0,
              "ticks": ""
             }
            },
            "type": "scattermap"
           }
          ],
          "scattermapbox": [
           {
            "marker": {
             "colorbar": {
              "outlinewidth": 0,
              "ticks": ""
             }
            },
            "type": "scattermapbox"
           }
          ],
          "scatterpolar": [
           {
            "marker": {
             "colorbar": {
              "outlinewidth": 0,
              "ticks": ""
             }
            },
            "type": "scatterpolar"
           }
          ],
          "scatterpolargl": [
           {
            "marker": {
             "colorbar": {
              "outlinewidth": 0,
              "ticks": ""
             }
            },
            "type": "scatterpolargl"
           }
          ],
          "scatterternary": [
           {
            "marker": {
             "colorbar": {
              "outlinewidth": 0,
              "ticks": ""
             }
            },
            "type": "scatterternary"
           }
          ],
          "surface": [
           {
            "colorbar": {
             "outlinewidth": 0,
             "ticks": ""
            },
            "colorscale": [
             [
              0,
              "#0d0887"
             ],
             [
              0.1111111111111111,
              "#46039f"
             ],
             [
              0.2222222222222222,
              "#7201a8"
             ],
             [
              0.3333333333333333,
              "#9c179e"
             ],
             [
              0.4444444444444444,
              "#bd3786"
             ],
             [
              0.5555555555555556,
              "#d8576b"
             ],
             [
              0.6666666666666666,
              "#ed7953"
             ],
             [
              0.7777777777777778,
              "#fb9f3a"
             ],
             [
              0.8888888888888888,
              "#fdca26"
             ],
             [
              1,
              "#f0f921"
             ]
            ],
            "type": "surface"
           }
          ],
          "table": [
           {
            "cells": {
             "fill": {
              "color": "#EBF0F8"
             },
             "line": {
              "color": "white"
             }
            },
            "header": {
             "fill": {
              "color": "#C8D4E3"
             },
             "line": {
              "color": "white"
             }
            },
            "type": "table"
           }
          ]
         },
         "layout": {
          "annotationdefaults": {
           "arrowcolor": "#2a3f5f",
           "arrowhead": 0,
           "arrowwidth": 1
          },
          "autotypenumbers": "strict",
          "coloraxis": {
           "colorbar": {
            "outlinewidth": 0,
            "ticks": ""
           }
          },
          "colorscale": {
           "diverging": [
            [
             0,
             "#8e0152"
            ],
            [
             0.1,
             "#c51b7d"
            ],
            [
             0.2,
             "#de77ae"
            ],
            [
             0.3,
             "#f1b6da"
            ],
            [
             0.4,
             "#fde0ef"
            ],
            [
             0.5,
             "#f7f7f7"
            ],
            [
             0.6,
             "#e6f5d0"
            ],
            [
             0.7,
             "#b8e186"
            ],
            [
             0.8,
             "#7fbc41"
            ],
            [
             0.9,
             "#4d9221"
            ],
            [
             1,
             "#276419"
            ]
           ],
           "sequential": [
            [
             0,
             "#0d0887"
            ],
            [
             0.1111111111111111,
             "#46039f"
            ],
            [
             0.2222222222222222,
             "#7201a8"
            ],
            [
             0.3333333333333333,
             "#9c179e"
            ],
            [
             0.4444444444444444,
             "#bd3786"
            ],
            [
             0.5555555555555556,
             "#d8576b"
            ],
            [
             0.6666666666666666,
             "#ed7953"
            ],
            [
             0.7777777777777778,
             "#fb9f3a"
            ],
            [
             0.8888888888888888,
             "#fdca26"
            ],
            [
             1,
             "#f0f921"
            ]
           ],
           "sequentialminus": [
            [
             0,
             "#0d0887"
            ],
            [
             0.1111111111111111,
             "#46039f"
            ],
            [
             0.2222222222222222,
             "#7201a8"
            ],
            [
             0.3333333333333333,
             "#9c179e"
            ],
            [
             0.4444444444444444,
             "#bd3786"
            ],
            [
             0.5555555555555556,
             "#d8576b"
            ],
            [
             0.6666666666666666,
             "#ed7953"
            ],
            [
             0.7777777777777778,
             "#fb9f3a"
            ],
            [
             0.8888888888888888,
             "#fdca26"
            ],
            [
             1,
             "#f0f921"
            ]
           ]
          },
          "colorway": [
           "#636efa",
           "#EF553B",
           "#00cc96",
           "#ab63fa",
           "#FFA15A",
           "#19d3f3",
           "#FF6692",
           "#B6E880",
           "#FF97FF",
           "#FECB52"
          ],
          "font": {
           "color": "#2a3f5f"
          },
          "geo": {
           "bgcolor": "white",
           "lakecolor": "white",
           "landcolor": "white",
           "showlakes": true,
           "showland": true,
           "subunitcolor": "#C8D4E3"
          },
          "hoverlabel": {
           "align": "left"
          },
          "hovermode": "closest",
          "mapbox": {
           "style": "light"
          },
          "paper_bgcolor": "white",
          "plot_bgcolor": "white",
          "polar": {
           "angularaxis": {
            "gridcolor": "#EBF0F8",
            "linecolor": "#EBF0F8",
            "ticks": ""
           },
           "bgcolor": "white",
           "radialaxis": {
            "gridcolor": "#EBF0F8",
            "linecolor": "#EBF0F8",
            "ticks": ""
           }
          },
          "scene": {
           "xaxis": {
            "backgroundcolor": "white",
            "gridcolor": "#DFE8F3",
            "gridwidth": 2,
            "linecolor": "#EBF0F8",
            "showbackground": true,
            "ticks": "",
            "zerolinecolor": "#EBF0F8"
           },
           "yaxis": {
            "backgroundcolor": "white",
            "gridcolor": "#DFE8F3",
            "gridwidth": 2,
            "linecolor": "#EBF0F8",
            "showbackground": true,
            "ticks": "",
            "zerolinecolor": "#EBF0F8"
           },
           "zaxis": {
            "backgroundcolor": "white",
            "gridcolor": "#DFE8F3",
            "gridwidth": 2,
            "linecolor": "#EBF0F8",
            "showbackground": true,
            "ticks": "",
            "zerolinecolor": "#EBF0F8"
           }
          },
          "shapedefaults": {
           "line": {
            "color": "#2a3f5f"
           }
          },
          "ternary": {
           "aaxis": {
            "gridcolor": "#DFE8F3",
            "linecolor": "#A2B1C6",
            "ticks": ""
           },
           "baxis": {
            "gridcolor": "#DFE8F3",
            "linecolor": "#A2B1C6",
            "ticks": ""
           },
           "bgcolor": "white",
           "caxis": {
            "gridcolor": "#DFE8F3",
            "linecolor": "#A2B1C6",
            "ticks": ""
           }
          },
          "title": {
           "x": 0.05
          },
          "xaxis": {
           "automargin": true,
           "gridcolor": "#EBF0F8",
           "linecolor": "#EBF0F8",
           "ticks": "",
           "title": {
            "standoff": 15
           },
           "zerolinecolor": "#EBF0F8",
           "zerolinewidth": 2
          },
          "yaxis": {
           "automargin": true,
           "gridcolor": "#EBF0F8",
           "linecolor": "#EBF0F8",
           "ticks": "",
           "title": {
            "standoff": 15
           },
           "zerolinecolor": "#EBF0F8",
           "zerolinewidth": 2
          }
         }
        },
        "title": {
         "text": "EURUSD - Daily Chart"
        },
        "width": 1000,
        "xaxis": {
         "domain": [
          0,
          1
         ],
         "rangeselector": {
          "buttons": [
           {
            "count": 1,
            "label": "1Y",
            "step": "year",
            "stepmode": "backward"
           },
           {
            "count": 2,
            "label": "2Y",
            "step": "year",
            "stepmode": "backward"
           },
           {
            "count": 5,
            "label": "5Y",
            "step": "year",
            "stepmode": "backward"
           },
           {
            "count": 10,
            "label": "10Y",
            "step": "year",
            "stepmode": "backward"
           },
           {
            "count": 20,
            "label": "20Y",
            "step": "year",
            "stepmode": "backward"
           },
           {
            "step": "all"
           }
          ]
         },
         "rangeslider": {
          "visible": false
         },
         "type": "date"
        },
        "yaxis": {
         "autorange": true,
         "domain": [
          0.3,
          1
         ],
         "title": {
          "text": "Price"
         }
        },
        "yaxis2": {
         "autorange": true,
         "domain": [
          0,
          0.25
         ],
         "showgrid": false,
         "title": {
          "text": "Volume"
         }
        }
       }
      }
     },
     "metadata": {},
     "output_type": "display_data"
    },
    {
     "data": {
      "application/vnd.plotly.v1+json": {
       "config": {
        "plotlyServerURL": "https://plot.ly"
       },
       "data": [
        {
         "line": {
          "color": "green"
         },
         "mode": "lines",
         "name": "Commercial",
         "type": "scatter",
         "x": [
          "2025-01-03T00:00:00.000000000",
          "2025-01-10T00:00:00.000000000",
          "2025-01-17T00:00:00.000000000",
          "2025-01-24T00:00:00.000000000",
          "2025-01-31T00:00:00.000000000",
          "2025-02-07T00:00:00.000000000",
          "2025-02-14T00:00:00.000000000",
          "2025-02-21T00:00:00.000000000",
          "2025-02-28T00:00:00.000000000",
          "2025-03-07T00:00:00.000000000",
          "2025-03-14T00:00:00.000000000",
          "2025-03-21T00:00:00.000000000",
          "2025-03-28T00:00:00.000000000",
          "2025-04-04T00:00:00.000000000",
          "2025-04-11T00:00:00.000000000",
          "2025-04-18T00:00:00.000000000",
          "2025-04-25T00:00:00.000000000",
          "2025-05-02T00:00:00.000000000",
          "2025-05-09T00:00:00.000000000",
          "2025-05-16T00:00:00.000000000",
          "2025-05-23T00:00:00.000000000",
          "2025-05-30T00:00:00.000000000",
          "2025-06-06T00:00:00.000000000",
          "2025-06-13T00:00:00.000000000",
          "2025-06-20T00:00:00.000000000",
          "2025-06-27T00:00:00.000000000",
          "2025-07-04T00:00:00.000000000",
          "2025-07-11T00:00:00.000000000",
          "2025-07-18T00:00:00.000000000"
         ],
         "y": {
          "bdata": "QlBNjC9CWEC5cH2xLXJXQJqRV63X61dAxYYGrHtGV0AMZyMCAstWQALDsNf9FFZATgDIFpWGVkALYNGrgnxUQMiFlod9x1BAk1RtYd3uSkCcSkjNWcRDQO/D6t70/CJAAAAAAAAAAABCaG4RsCwlQLkHPWEZKyBAAAAAAAAAAAA+Ntd7QV3vPwAAAAAAAAAAHVHKblBF5j8AkZgMXuvdP7lxjTQxLBNAHP8K9IGLA0DsJnFMmzryPwAAAAAAAAAAAAAAAAAAAAAAAAAAAAAAAAfDQBnZ8AhAAAAAAAAAAAAAAAAAAAAAAA==",
          "dtype": "f8"
         }
        },
        {
         "line": {
          "color": "red"
         },
         "mode": "lines",
         "name": "Large Speculators",
         "type": "scatter",
         "x": [
          "2025-01-03T00:00:00.000000000",
          "2025-01-10T00:00:00.000000000",
          "2025-01-17T00:00:00.000000000",
          "2025-01-24T00:00:00.000000000",
          "2025-01-31T00:00:00.000000000",
          "2025-02-07T00:00:00.000000000",
          "2025-02-14T00:00:00.000000000",
          "2025-02-21T00:00:00.000000000",
          "2025-02-28T00:00:00.000000000",
          "2025-03-07T00:00:00.000000000",
          "2025-03-14T00:00:00.000000000",
          "2025-03-21T00:00:00.000000000",
          "2025-03-28T00:00:00.000000000",
          "2025-04-04T00:00:00.000000000",
          "2025-04-11T00:00:00.000000000",
          "2025-04-18T00:00:00.000000000",
          "2025-04-25T00:00:00.000000000",
          "2025-05-02T00:00:00.000000000",
          "2025-05-09T00:00:00.000000000",
          "2025-05-16T00:00:00.000000000",
          "2025-05-23T00:00:00.000000000",
          "2025-05-30T00:00:00.000000000",
          "2025-06-06T00:00:00.000000000",
          "2025-06-13T00:00:00.000000000",
          "2025-06-20T00:00:00.000000000",
          "2025-06-27T00:00:00.000000000",
          "2025-07-04T00:00:00.000000000",
          "2025-07-11T00:00:00.000000000",
          "2025-07-18T00:00:00.000000000"
         ],
         "y": {
          "bdata": "k/l3vyO5xj8nNkRFLrAKQD3v3NUUhBdA9LrxJu5oE0B8StAVo4AGQDX69XO8XR9AKoZpJZXzEUCRmFwPH0QrQFiKkHSPcj5ArBr+2RJARkDfMRbfNhxOQDqoTI61W1dAAAAAAAAAWUAHczNl9KBWQGWFaFc5p1dAAAAAAAAAWUDgnSRZaCBYQAAAAAAAAFlA78Zf5dXgWEAAAAAAAABZQC0gRR/AXldAE9kjhwcUWEC8W7r9KjxYQAAAAAAAAFlAAAAAAAAAWUAAAAAAAABZQMHszVS2PVhAAAAAAAAAWUAAAAAAAABZQA==",
          "dtype": "f8"
         }
        },
        {
         "line": {
          "color": "blue"
         },
         "mode": "lines",
         "name": "Retail",
         "type": "scatter",
         "x": [
          "2025-01-03T00:00:00.000000000",
          "2025-01-10T00:00:00.000000000",
          "2025-01-17T00:00:00.000000000",
          "2025-01-24T00:00:00.000000000",
          "2025-01-31T00:00:00.000000000",
          "2025-02-07T00:00:00.000000000",
          "2025-02-14T00:00:00.000000000",
          "2025-02-21T00:00:00.000000000",
          "2025-02-28T00:00:00.000000000",
          "2025-03-07T00:00:00.000000000",
          "2025-03-14T00:00:00.000000000",
          "2025-03-21T00:00:00.000000000",
          "2025-03-28T00:00:00.000000000",
          "2025-04-04T00:00:00.000000000",
          "2025-04-11T00:00:00.000000000",
          "2025-04-18T00:00:00.000000000",
          "2025-04-25T00:00:00.000000000",
          "2025-05-02T00:00:00.000000000",
          "2025-05-09T00:00:00.000000000",
          "2025-05-16T00:00:00.000000000",
          "2025-05-23T00:00:00.000000000",
          "2025-05-30T00:00:00.000000000",
          "2025-06-06T00:00:00.000000000",
          "2025-06-13T00:00:00.000000000",
          "2025-06-20T00:00:00.000000000",
          "2025-06-27T00:00:00.000000000",
          "2025-07-04T00:00:00.000000000",
          "2025-07-11T00:00:00.000000000",
          "2025-07-18T00:00:00.000000000"
         ],
         "y": {
          "bdata": "AbhkxGFDMkDs2cKKkEw1QAAAAAAAAAAAvsQO1+13NUCOZ3Q1pjNGQNY30YNoUUFAo0GdaSjzREAsx+oxPkFFQC7onpUGS0VAJJZFkRH0SEB20mzfVQpOQNfhFxiMzFJA/9dZBst/VUAdBY46I5xTQB6DjvjAoVJAAAAAAAAAWUAAAAAAAABZQAAAAAAAAFlAWAbW64ehWEB3SZg3SWZUQPaIg04+wVVAynRfpB68VUAvsKrVW61WQPC/QRMFBldAAAAAAAAAWUChPRpGZy9VQOLoFbG9iVRAaSRJadiGVUBbaM7LV6lTQA==",
          "dtype": "f8"
         }
        }
       ],
       "layout": {
        "height": 500,
        "legend": {
         "x": 0.01,
         "y": 0.99
        },
        "shapes": [
         {
          "fillcolor": "blue",
          "line": {
           "width": 0
          },
          "opacity": 0.2,
          "type": "rect",
          "x0": "2025-01-03T00:00:00",
          "x1": "2025-01-03T00:00:00",
          "xref": "x",
          "y0": 0,
          "y1": 1,
          "yref": "y domain"
         },
         {
          "fillcolor": "blue",
          "line": {
           "width": 0
          },
          "opacity": 0.2,
          "type": "rect",
          "x0": "2025-01-17T00:00:00",
          "x1": "2025-01-17T00:00:00",
          "xref": "x",
          "y0": 0,
          "y1": 1,
          "yref": "y domain"
         },
         {
          "fillcolor": "red",
          "line": {
           "width": 0
          },
          "opacity": 0.2,
          "type": "rect",
          "x0": "2025-03-28T00:00:00",
          "x1": "2025-03-28T00:00:00",
          "xref": "x",
          "y0": 0,
          "y1": 1,
          "yref": "y domain"
         },
         {
          "fillcolor": "red",
          "line": {
           "width": 0
          },
          "opacity": 0.2,
          "type": "rect",
          "x0": "2025-04-18T00:00:00",
          "x1": "2025-07-11T00:00:00",
          "xref": "x",
          "y0": 0,
          "y1": 1,
          "yref": "y domain"
         },
         {
          "line": {
           "color": "gray",
           "dash": "dash"
          },
          "type": "line",
          "x0": 0,
          "x1": 1,
          "xref": "x domain",
          "y0": 80,
          "y1": 80,
          "yref": "y"
         },
         {
          "line": {
           "color": "gray",
           "dash": "dash"
          },
          "type": "line",
          "x0": 0,
          "x1": 1,
          "xref": "x domain",
          "y0": 20,
          "y1": 20,
          "yref": "y"
         }
        ],
        "template": {
         "data": {
          "bar": [
           {
            "error_x": {
             "color": "#2a3f5f"
            },
            "error_y": {
             "color": "#2a3f5f"
            },
            "marker": {
             "line": {
              "color": "white",
              "width": 0.5
             },
             "pattern": {
              "fillmode": "overlay",
              "size": 10,
              "solidity": 0.2
             }
            },
            "type": "bar"
           }
          ],
          "barpolar": [
           {
            "marker": {
             "line": {
              "color": "white",
              "width": 0.5
             },
             "pattern": {
              "fillmode": "overlay",
              "size": 10,
              "solidity": 0.2
             }
            },
            "type": "barpolar"
           }
          ],
          "carpet": [
           {
            "aaxis": {
             "endlinecolor": "#2a3f5f",
             "gridcolor": "#C8D4E3",
             "linecolor": "#C8D4E3",
             "minorgridcolor": "#C8D4E3",
             "startlinecolor": "#2a3f5f"
            },
            "baxis": {
             "endlinecolor": "#2a3f5f",
             "gridcolor": "#C8D4E3",
             "linecolor": "#C8D4E3",
             "minorgridcolor": "#C8D4E3",
             "startlinecolor": "#2a3f5f"
            },
            "type": "carpet"
           }
          ],
          "choropleth": [
           {
            "colorbar": {
             "outlinewidth": 0,
             "ticks": ""
            },
            "type": "choropleth"
           }
          ],
          "contour": [
           {
            "colorbar": {
             "outlinewidth": 0,
             "ticks": ""
            },
            "colorscale": [
             [
              0,
              "#0d0887"
             ],
             [
              0.1111111111111111,
              "#46039f"
             ],
             [
              0.2222222222222222,
              "#7201a8"
             ],
             [
              0.3333333333333333,
              "#9c179e"
             ],
             [
              0.4444444444444444,
              "#bd3786"
             ],
             [
              0.5555555555555556,
              "#d8576b"
             ],
             [
              0.6666666666666666,
              "#ed7953"
             ],
             [
              0.7777777777777778,
              "#fb9f3a"
             ],
             [
              0.8888888888888888,
              "#fdca26"
             ],
             [
              1,
              "#f0f921"
             ]
            ],
            "type": "contour"
           }
          ],
          "contourcarpet": [
           {
            "colorbar": {
             "outlinewidth": 0,
             "ticks": ""
            },
            "type": "contourcarpet"
           }
          ],
          "heatmap": [
           {
            "colorbar": {
             "outlinewidth": 0,
             "ticks": ""
            },
            "colorscale": [
             [
              0,
              "#0d0887"
             ],
             [
              0.1111111111111111,
              "#46039f"
             ],
             [
              0.2222222222222222,
              "#7201a8"
             ],
             [
              0.3333333333333333,
              "#9c179e"
             ],
             [
              0.4444444444444444,
              "#bd3786"
             ],
             [
              0.5555555555555556,
              "#d8576b"
             ],
             [
              0.6666666666666666,
              "#ed7953"
             ],
             [
              0.7777777777777778,
              "#fb9f3a"
             ],
             [
              0.8888888888888888,
              "#fdca26"
             ],
             [
              1,
              "#f0f921"
             ]
            ],
            "type": "heatmap"
           }
          ],
          "histogram": [
           {
            "marker": {
             "pattern": {
              "fillmode": "overlay",
              "size": 10,
              "solidity": 0.2
             }
            },
            "type": "histogram"
           }
          ],
          "histogram2d": [
           {
            "colorbar": {
             "outlinewidth": 0,
             "ticks": ""
            },
            "colorscale": [
             [
              0,
              "#0d0887"
             ],
             [
              0.1111111111111111,
              "#46039f"
             ],
             [
              0.2222222222222222,
              "#7201a8"
             ],
             [
              0.3333333333333333,
              "#9c179e"
             ],
             [
              0.4444444444444444,
              "#bd3786"
             ],
             [
              0.5555555555555556,
              "#d8576b"
             ],
             [
              0.6666666666666666,
              "#ed7953"
             ],
             [
              0.7777777777777778,
              "#fb9f3a"
             ],
             [
              0.8888888888888888,
              "#fdca26"
             ],
             [
              1,
              "#f0f921"
             ]
            ],
            "type": "histogram2d"
           }
          ],
          "histogram2dcontour": [
           {
            "colorbar": {
             "outlinewidth": 0,
             "ticks": ""
            },
            "colorscale": [
             [
              0,
              "#0d0887"
             ],
             [
              0.1111111111111111,
              "#46039f"
             ],
             [
              0.2222222222222222,
              "#7201a8"
             ],
             [
              0.3333333333333333,
              "#9c179e"
             ],
             [
              0.4444444444444444,
              "#bd3786"
             ],
             [
              0.5555555555555556,
              "#d8576b"
             ],
             [
              0.6666666666666666,
              "#ed7953"
             ],
             [
              0.7777777777777778,
              "#fb9f3a"
             ],
             [
              0.8888888888888888,
              "#fdca26"
             ],
             [
              1,
              "#f0f921"
             ]
            ],
            "type": "histogram2dcontour"
           }
          ],
          "mesh3d": [
           {
            "colorbar": {
             "outlinewidth": 0,
             "ticks": ""
            },
            "type": "mesh3d"
           }
          ],
          "parcoords": [
           {
            "line": {
             "colorbar": {
              "outlinewidth": 0,
              "ticks": ""
             }
            },
            "type": "parcoords"
           }
          ],
          "pie": [
           {
            "automargin": true,
            "type": "pie"
           }
          ],
          "scatter": [
           {
            "fillpattern": {
             "fillmode": "overlay",
             "size": 10,
             "solidity": 0.2
            },
            "type": "scatter"
           }
          ],
          "scatter3d": [
           {
            "line": {
             "colorbar": {
              "outlinewidth": 0,
              "ticks": ""
             }
            },
            "marker": {
             "colorbar": {
              "outlinewidth": 0,
              "ticks": ""
             }
            },
            "type": "scatter3d"
           }
          ],
          "scattercarpet": [
           {
            "marker": {
             "colorbar": {
              "outlinewidth": 0,
              "ticks": ""
             }
            },
            "type": "scattercarpet"
           }
          ],
          "scattergeo": [
           {
            "marker": {
             "colorbar": {
              "outlinewidth": 0,
              "ticks": ""
             }
            },
            "type": "scattergeo"
           }
          ],
          "scattergl": [
           {
            "marker": {
             "colorbar": {
              "outlinewidth": 0,
              "ticks": ""
             }
            },
            "type": "scattergl"
           }
          ],
          "scattermap": [
           {
            "marker": {
             "colorbar": {
              "outlinewidth": 0,
              "ticks": ""
             }
            },
            "type": "scattermap"
           }
          ],
          "scattermapbox": [
           {
            "marker": {
             "colorbar": {
              "outlinewidth": 0,
              "ticks": ""
             }
            },
            "type": "scattermapbox"
           }
          ],
          "scatterpolar": [
           {
            "marker": {
             "colorbar": {
              "outlinewidth": 0,
              "ticks": ""
             }
            },
            "type": "scatterpolar"
           }
          ],
          "scatterpolargl": [
           {
            "marker": {
             "colorbar": {
              "outlinewidth": 0,
              "ticks": ""
             }
            },
            "type": "scatterpolargl"
           }
          ],
          "scatterternary": [
           {
            "marker": {
             "colorbar": {
              "outlinewidth": 0,
              "ticks": ""
             }
            },
            "type": "scatterternary"
           }
          ],
          "surface": [
           {
            "colorbar": {
             "outlinewidth": 0,
             "ticks": ""
            },
            "colorscale": [
             [
              0,
              "#0d0887"
             ],
             [
              0.1111111111111111,
              "#46039f"
             ],
             [
              0.2222222222222222,
              "#7201a8"
             ],
             [
              0.3333333333333333,
              "#9c179e"
             ],
             [
              0.4444444444444444,
              "#bd3786"
             ],
             [
              0.5555555555555556,
              "#d8576b"
             ],
             [
              0.6666666666666666,
              "#ed7953"
             ],
             [
              0.7777777777777778,
              "#fb9f3a"
             ],
             [
              0.8888888888888888,
              "#fdca26"
             ],
             [
              1,
              "#f0f921"
             ]
            ],
            "type": "surface"
           }
          ],
          "table": [
           {
            "cells": {
             "fill": {
              "color": "#EBF0F8"
             },
             "line": {
              "color": "white"
             }
            },
            "header": {
             "fill": {
              "color": "#C8D4E3"
             },
             "line": {
              "color": "white"
             }
            },
            "type": "table"
           }
          ]
         },
         "layout": {
          "annotationdefaults": {
           "arrowcolor": "#2a3f5f",
           "arrowhead": 0,
           "arrowwidth": 1
          },
          "autotypenumbers": "strict",
          "coloraxis": {
           "colorbar": {
            "outlinewidth": 0,
            "ticks": ""
           }
          },
          "colorscale": {
           "diverging": [
            [
             0,
             "#8e0152"
            ],
            [
             0.1,
             "#c51b7d"
            ],
            [
             0.2,
             "#de77ae"
            ],
            [
             0.3,
             "#f1b6da"
            ],
            [
             0.4,
             "#fde0ef"
            ],
            [
             0.5,
             "#f7f7f7"
            ],
            [
             0.6,
             "#e6f5d0"
            ],
            [
             0.7,
             "#b8e186"
            ],
            [
             0.8,
             "#7fbc41"
            ],
            [
             0.9,
             "#4d9221"
            ],
            [
             1,
             "#276419"
            ]
           ],
           "sequential": [
            [
             0,
             "#0d0887"
            ],
            [
             0.1111111111111111,
             "#46039f"
            ],
            [
             0.2222222222222222,
             "#7201a8"
            ],
            [
             0.3333333333333333,
             "#9c179e"
            ],
            [
             0.4444444444444444,
             "#bd3786"
            ],
            [
             0.5555555555555556,
             "#d8576b"
            ],
            [
             0.6666666666666666,
             "#ed7953"
            ],
            [
             0.7777777777777778,
             "#fb9f3a"
            ],
            [
             0.8888888888888888,
             "#fdca26"
            ],
            [
             1,
             "#f0f921"
            ]
           ],
           "sequentialminus": [
            [
             0,
             "#0d0887"
            ],
            [
             0.1111111111111111,
             "#46039f"
            ],
            [
             0.2222222222222222,
             "#7201a8"
            ],
            [
             0.3333333333333333,
             "#9c179e"
            ],
            [
             0.4444444444444444,
             "#bd3786"
            ],
            [
             0.5555555555555556,
             "#d8576b"
            ],
            [
             0.6666666666666666,
             "#ed7953"
            ],
            [
             0.7777777777777778,
             "#fb9f3a"
            ],
            [
             0.8888888888888888,
             "#fdca26"
            ],
            [
             1,
             "#f0f921"
            ]
           ]
          },
          "colorway": [
           "#636efa",
           "#EF553B",
           "#00cc96",
           "#ab63fa",
           "#FFA15A",
           "#19d3f3",
           "#FF6692",
           "#B6E880",
           "#FF97FF",
           "#FECB52"
          ],
          "font": {
           "color": "#2a3f5f"
          },
          "geo": {
           "bgcolor": "white",
           "lakecolor": "white",
           "landcolor": "white",
           "showlakes": true,
           "showland": true,
           "subunitcolor": "#C8D4E3"
          },
          "hoverlabel": {
           "align": "left"
          },
          "hovermode": "closest",
          "mapbox": {
           "style": "light"
          },
          "paper_bgcolor": "white",
          "plot_bgcolor": "white",
          "polar": {
           "angularaxis": {
            "gridcolor": "#EBF0F8",
            "linecolor": "#EBF0F8",
            "ticks": ""
           },
           "bgcolor": "white",
           "radialaxis": {
            "gridcolor": "#EBF0F8",
            "linecolor": "#EBF0F8",
            "ticks": ""
           }
          },
          "scene": {
           "xaxis": {
            "backgroundcolor": "white",
            "gridcolor": "#DFE8F3",
            "gridwidth": 2,
            "linecolor": "#EBF0F8",
            "showbackground": true,
            "ticks": "",
            "zerolinecolor": "#EBF0F8"
           },
           "yaxis": {
            "backgroundcolor": "white",
            "gridcolor": "#DFE8F3",
            "gridwidth": 2,
            "linecolor": "#EBF0F8",
            "showbackground": true,
            "ticks": "",
            "zerolinecolor": "#EBF0F8"
           },
           "zaxis": {
            "backgroundcolor": "white",
            "gridcolor": "#DFE8F3",
            "gridwidth": 2,
            "linecolor": "#EBF0F8",
            "showbackground": true,
            "ticks": "",
            "zerolinecolor": "#EBF0F8"
           }
          },
          "shapedefaults": {
           "line": {
            "color": "#2a3f5f"
           }
          },
          "ternary": {
           "aaxis": {
            "gridcolor": "#DFE8F3",
            "linecolor": "#A2B1C6",
            "ticks": ""
           },
           "baxis": {
            "gridcolor": "#DFE8F3",
            "linecolor": "#A2B1C6",
            "ticks": ""
           },
           "bgcolor": "white",
           "caxis": {
            "gridcolor": "#DFE8F3",
            "linecolor": "#A2B1C6",
            "ticks": ""
           }
          },
          "title": {
           "x": 0.05
          },
          "xaxis": {
           "automargin": true,
           "gridcolor": "#EBF0F8",
           "linecolor": "#EBF0F8",
           "ticks": "",
           "title": {
            "standoff": 15
           },
           "zerolinecolor": "#EBF0F8",
           "zerolinewidth": 2
          },
          "yaxis": {
           "automargin": true,
           "gridcolor": "#EBF0F8",
           "linecolor": "#EBF0F8",
           "ticks": "",
           "title": {
            "standoff": 15
           },
           "zerolinecolor": "#EBF0F8",
           "zerolinewidth": 2
          }
         }
        },
        "title": {
         "text": "CoT Index with Extreme Zones (2025-01-01 to 2025-07-21)"
        },
        "width": 1000,
        "xaxis": {
         "title": {
          "text": "Date"
         }
        },
        "yaxis": {
         "title": {
          "text": "CoT Index (%)"
         }
        }
       }
      }
     },
     "metadata": {},
     "output_type": "display_data"
    },
    {
     "data": {
      "application/vnd.plotly.v1+json": {
       "config": {
        "plotlyServerURL": "https://plot.ly"
       },
       "data": [
        {
         "hovertemplate": "Period=Last 20 Years<br>Month=%{x}<br>% Change=%{y}<extra></extra>",
         "legendgroup": "Last 20 Years",
         "line": {
          "color": "#636efa",
          "dash": "solid"
         },
         "marker": {
          "symbol": "circle"
         },
         "mode": "lines+markers",
         "name": "Last 20 Years",
         "orientation": "v",
         "showlegend": true,
         "type": "scatter",
         "x": [
          "Jan",
          "Feb",
          "Mar",
          "Apr",
          "May",
          "Jun",
          "Jul",
          "Aug",
          "Sep",
          "Oct",
          "Nov",
          "Dec"
         ],
         "xaxis": "x",
         "y": {
          "bdata": "BnbKHJ/i4r+SVWXvEfjVv3HTWXyqBOM/w4UQenJE6z/1HjSkJnjtv36qaQkYstY/NYa9ke8I2D867koO1lPTv53LhAhhMNu/TWB3Tsou3L/ddFXmk7PSv0SBMIDrS+k/",
          "dtype": "f8"
         },
         "yaxis": "y"
        },
        {
         "hovertemplate": "Period=Last 10 Years<br>Month=%{x}<br>% Change=%{y}<extra></extra>",
         "legendgroup": "Last 10 Years",
         "line": {
          "color": "#EF553B",
          "dash": "solid"
         },
         "marker": {
          "symbol": "circle"
         },
         "mode": "lines+markers",
         "name": "Last 10 Years",
         "orientation": "v",
         "showlegend": true,
         "type": "scatter",
         "x": [
          "Jan",
          "Feb",
          "Mar",
          "Apr",
          "May",
          "Jun",
          "Jul",
          "Aug",
          "Sep",
          "Oct",
          "Nov",
          "Dec"
         ],
         "xaxis": "x",
         "y": {
          "bdata": "HWG/b/L/2r9Jsn8s8mnpv8DJzU4RgNQ/jfgh3lpE5j+ADCjQP2vBv51HLVPB/tw/TM9IgLM60z+QCum5rg60P0BNxykpaO2/Qq16GXdq6L/mszNp2y6vvyrUJQKaq/E/",
          "dtype": "f8"
         },
         "yaxis": "y"
        },
        {
         "hovertemplate": "Period=Last 5 Years<br>Month=%{x}<br>% Change=%{y}<extra></extra>",
         "legendgroup": "Last 5 Years",
         "line": {
          "color": "#00cc96",
          "dash": "solid"
         },
         "marker": {
          "symbol": "circle"
         },
         "mode": "lines+markers",
         "name": "Last 5 Years",
         "orientation": "v",
         "showlegend": true,
         "type": "scatter",
         "x": [
          "Jan",
          "Feb",
          "Mar",
          "Apr",
          "May",
          "Jun",
          "Jul",
          "Aug",
          "Sep",
          "Oct",
          "Nov",
          "Dec"
         ],
         "xaxis": "x",
         "y": {
          "bdata": "RZ7bXWw+47+w0+V4gLrkv6CjTdTVBts/gNrYWlxn1z+vXajoojTkP5s4HO0X/7c/u2HC8mm33z/AIaK95AClvz5Y2XQse/m/GFDkHr103L//XFSBJeLyP+w6cmlVBvA/",
          "dtype": "f8"
         },
         "yaxis": "y"
        },
        {
         "hovertemplate": "Period=Last 2 Years<br>Month=%{x}<br>% Change=%{y}<extra></extra>",
         "legendgroup": "Last 2 Years",
         "line": {
          "color": "#ab63fa",
          "dash": "solid"
         },
         "marker": {
          "symbol": "circle"
         },
         "mode": "lines+markers",
         "name": "Last 2 Years",
         "orientation": "v",
         "showlegend": true,
         "type": "scatter",
         "x": [
          "Jan",
          "Feb",
          "Mar",
          "Apr",
          "May",
          "Jun",
          "Jul",
          "Aug",
          "Sep",
          "Oct",
          "Nov",
          "Dec"
         ],
         "xaxis": "x",
         "y": {
          "bdata": "FajWEzkdxL9RLgmfb77rv6Ej6A6rwQFAf+CnDbu7+z9lPpITAY3Xv5s1YgMLA/k/NcePjF+xxT8M41kBs03UPwbFKEuV1Oq/D7VjDGMG8r+AGM8grlWpPwCAw+17iNW/",
          "dtype": "f8"
         },
         "yaxis": "y"
        }
       ],
       "layout": {
        "height": 500,
        "legend": {
         "orientation": "h",
         "title": {
          "text": "Period"
         },
         "tracegroupgap": 0,
         "x": 1,
         "xanchor": "right",
         "y": 1.02,
         "yanchor": "bottom"
        },
        "template": {
         "data": {
          "bar": [
           {
            "error_x": {
             "color": "#2a3f5f"
            },
            "error_y": {
             "color": "#2a3f5f"
            },
            "marker": {
             "line": {
              "color": "white",
              "width": 0.5
             },
             "pattern": {
              "fillmode": "overlay",
              "size": 10,
              "solidity": 0.2
             }
            },
            "type": "bar"
           }
          ],
          "barpolar": [
           {
            "marker": {
             "line": {
              "color": "white",
              "width": 0.5
             },
             "pattern": {
              "fillmode": "overlay",
              "size": 10,
              "solidity": 0.2
             }
            },
            "type": "barpolar"
           }
          ],
          "carpet": [
           {
            "aaxis": {
             "endlinecolor": "#2a3f5f",
             "gridcolor": "#C8D4E3",
             "linecolor": "#C8D4E3",
             "minorgridcolor": "#C8D4E3",
             "startlinecolor": "#2a3f5f"
            },
            "baxis": {
             "endlinecolor": "#2a3f5f",
             "gridcolor": "#C8D4E3",
             "linecolor": "#C8D4E3",
             "minorgridcolor": "#C8D4E3",
             "startlinecolor": "#2a3f5f"
            },
            "type": "carpet"
           }
          ],
          "choropleth": [
           {
            "colorbar": {
             "outlinewidth": 0,
             "ticks": ""
            },
            "type": "choropleth"
           }
          ],
          "contour": [
           {
            "colorbar": {
             "outlinewidth": 0,
             "ticks": ""
            },
            "colorscale": [
             [
              0,
              "#0d0887"
             ],
             [
              0.1111111111111111,
              "#46039f"
             ],
             [
              0.2222222222222222,
              "#7201a8"
             ],
             [
              0.3333333333333333,
              "#9c179e"
             ],
             [
              0.4444444444444444,
              "#bd3786"
             ],
             [
              0.5555555555555556,
              "#d8576b"
             ],
             [
              0.6666666666666666,
              "#ed7953"
             ],
             [
              0.7777777777777778,
              "#fb9f3a"
             ],
             [
              0.8888888888888888,
              "#fdca26"
             ],
             [
              1,
              "#f0f921"
             ]
            ],
            "type": "contour"
           }
          ],
          "contourcarpet": [
           {
            "colorbar": {
             "outlinewidth": 0,
             "ticks": ""
            },
            "type": "contourcarpet"
           }
          ],
          "heatmap": [
           {
            "colorbar": {
             "outlinewidth": 0,
             "ticks": ""
            },
            "colorscale": [
             [
              0,
              "#0d0887"
             ],
             [
              0.1111111111111111,
              "#46039f"
             ],
             [
              0.2222222222222222,
              "#7201a8"
             ],
             [
              0.3333333333333333,
              "#9c179e"
             ],
             [
              0.4444444444444444,
              "#bd3786"
             ],
             [
              0.5555555555555556,
              "#d8576b"
             ],
             [
              0.6666666666666666,
              "#ed7953"
             ],
             [
              0.7777777777777778,
              "#fb9f3a"
             ],
             [
              0.8888888888888888,
              "#fdca26"
             ],
             [
              1,
              "#f0f921"
             ]
            ],
            "type": "heatmap"
           }
          ],
          "histogram": [
           {
            "marker": {
             "pattern": {
              "fillmode": "overlay",
              "size": 10,
              "solidity": 0.2
             }
            },
            "type": "histogram"
           }
          ],
          "histogram2d": [
           {
            "colorbar": {
             "outlinewidth": 0,
             "ticks": ""
            },
            "colorscale": [
             [
              0,
              "#0d0887"
             ],
             [
              0.1111111111111111,
              "#46039f"
             ],
             [
              0.2222222222222222,
              "#7201a8"
             ],
             [
              0.3333333333333333,
              "#9c179e"
             ],
             [
              0.4444444444444444,
              "#bd3786"
             ],
             [
              0.5555555555555556,
              "#d8576b"
             ],
             [
              0.6666666666666666,
              "#ed7953"
             ],
             [
              0.7777777777777778,
              "#fb9f3a"
             ],
             [
              0.8888888888888888,
              "#fdca26"
             ],
             [
              1,
              "#f0f921"
             ]
            ],
            "type": "histogram2d"
           }
          ],
          "histogram2dcontour": [
           {
            "colorbar": {
             "outlinewidth": 0,
             "ticks": ""
            },
            "colorscale": [
             [
              0,
              "#0d0887"
             ],
             [
              0.1111111111111111,
              "#46039f"
             ],
             [
              0.2222222222222222,
              "#7201a8"
             ],
             [
              0.3333333333333333,
              "#9c179e"
             ],
             [
              0.4444444444444444,
              "#bd3786"
             ],
             [
              0.5555555555555556,
              "#d8576b"
             ],
             [
              0.6666666666666666,
              "#ed7953"
             ],
             [
              0.7777777777777778,
              "#fb9f3a"
             ],
             [
              0.8888888888888888,
              "#fdca26"
             ],
             [
              1,
              "#f0f921"
             ]
            ],
            "type": "histogram2dcontour"
           }
          ],
          "mesh3d": [
           {
            "colorbar": {
             "outlinewidth": 0,
             "ticks": ""
            },
            "type": "mesh3d"
           }
          ],
          "parcoords": [
           {
            "line": {
             "colorbar": {
              "outlinewidth": 0,
              "ticks": ""
             }
            },
            "type": "parcoords"
           }
          ],
          "pie": [
           {
            "automargin": true,
            "type": "pie"
           }
          ],
          "scatter": [
           {
            "fillpattern": {
             "fillmode": "overlay",
             "size": 10,
             "solidity": 0.2
            },
            "type": "scatter"
           }
          ],
          "scatter3d": [
           {
            "line": {
             "colorbar": {
              "outlinewidth": 0,
              "ticks": ""
             }
            },
            "marker": {
             "colorbar": {
              "outlinewidth": 0,
              "ticks": ""
             }
            },
            "type": "scatter3d"
           }
          ],
          "scattercarpet": [
           {
            "marker": {
             "colorbar": {
              "outlinewidth": 0,
              "ticks": ""
             }
            },
            "type": "scattercarpet"
           }
          ],
          "scattergeo": [
           {
            "marker": {
             "colorbar": {
              "outlinewidth": 0,
              "ticks": ""
             }
            },
            "type": "scattergeo"
           }
          ],
          "scattergl": [
           {
            "marker": {
             "colorbar": {
              "outlinewidth": 0,
              "ticks": ""
             }
            },
            "type": "scattergl"
           }
          ],
          "scattermap": [
           {
            "marker": {
             "colorbar": {
              "outlinewidth": 0,
              "ticks": ""
             }
            },
            "type": "scattermap"
           }
          ],
          "scattermapbox": [
           {
            "marker": {
             "colorbar": {
              "outlinewidth": 0,
              "ticks": ""
             }
            },
            "type": "scattermapbox"
           }
          ],
          "scatterpolar": [
           {
            "marker": {
             "colorbar": {
              "outlinewidth": 0,
              "ticks": ""
             }
            },
            "type": "scatterpolar"
           }
          ],
          "scatterpolargl": [
           {
            "marker": {
             "colorbar": {
              "outlinewidth": 0,
              "ticks": ""
             }
            },
            "type": "scatterpolargl"
           }
          ],
          "scatterternary": [
           {
            "marker": {
             "colorbar": {
              "outlinewidth": 0,
              "ticks": ""
             }
            },
            "type": "scatterternary"
           }
          ],
          "surface": [
           {
            "colorbar": {
             "outlinewidth": 0,
             "ticks": ""
            },
            "colorscale": [
             [
              0,
              "#0d0887"
             ],
             [
              0.1111111111111111,
              "#46039f"
             ],
             [
              0.2222222222222222,
              "#7201a8"
             ],
             [
              0.3333333333333333,
              "#9c179e"
             ],
             [
              0.4444444444444444,
              "#bd3786"
             ],
             [
              0.5555555555555556,
              "#d8576b"
             ],
             [
              0.6666666666666666,
              "#ed7953"
             ],
             [
              0.7777777777777778,
              "#fb9f3a"
             ],
             [
              0.8888888888888888,
              "#fdca26"
             ],
             [
              1,
              "#f0f921"
             ]
            ],
            "type": "surface"
           }
          ],
          "table": [
           {
            "cells": {
             "fill": {
              "color": "#EBF0F8"
             },
             "line": {
              "color": "white"
             }
            },
            "header": {
             "fill": {
              "color": "#C8D4E3"
             },
             "line": {
              "color": "white"
             }
            },
            "type": "table"
           }
          ]
         },
         "layout": {
          "annotationdefaults": {
           "arrowcolor": "#2a3f5f",
           "arrowhead": 0,
           "arrowwidth": 1
          },
          "autotypenumbers": "strict",
          "coloraxis": {
           "colorbar": {
            "outlinewidth": 0,
            "ticks": ""
           }
          },
          "colorscale": {
           "diverging": [
            [
             0,
             "#8e0152"
            ],
            [
             0.1,
             "#c51b7d"
            ],
            [
             0.2,
             "#de77ae"
            ],
            [
             0.3,
             "#f1b6da"
            ],
            [
             0.4,
             "#fde0ef"
            ],
            [
             0.5,
             "#f7f7f7"
            ],
            [
             0.6,
             "#e6f5d0"
            ],
            [
             0.7,
             "#b8e186"
            ],
            [
             0.8,
             "#7fbc41"
            ],
            [
             0.9,
             "#4d9221"
            ],
            [
             1,
             "#276419"
            ]
           ],
           "sequential": [
            [
             0,
             "#0d0887"
            ],
            [
             0.1111111111111111,
             "#46039f"
            ],
            [
             0.2222222222222222,
             "#7201a8"
            ],
            [
             0.3333333333333333,
             "#9c179e"
            ],
            [
             0.4444444444444444,
             "#bd3786"
            ],
            [
             0.5555555555555556,
             "#d8576b"
            ],
            [
             0.6666666666666666,
             "#ed7953"
            ],
            [
             0.7777777777777778,
             "#fb9f3a"
            ],
            [
             0.8888888888888888,
             "#fdca26"
            ],
            [
             1,
             "#f0f921"
            ]
           ],
           "sequentialminus": [
            [
             0,
             "#0d0887"
            ],
            [
             0.1111111111111111,
             "#46039f"
            ],
            [
             0.2222222222222222,
             "#7201a8"
            ],
            [
             0.3333333333333333,
             "#9c179e"
            ],
            [
             0.4444444444444444,
             "#bd3786"
            ],
            [
             0.5555555555555556,
             "#d8576b"
            ],
            [
             0.6666666666666666,
             "#ed7953"
            ],
            [
             0.7777777777777778,
             "#fb9f3a"
            ],
            [
             0.8888888888888888,
             "#fdca26"
            ],
            [
             1,
             "#f0f921"
            ]
           ]
          },
          "colorway": [
           "#636efa",
           "#EF553B",
           "#00cc96",
           "#ab63fa",
           "#FFA15A",
           "#19d3f3",
           "#FF6692",
           "#B6E880",
           "#FF97FF",
           "#FECB52"
          ],
          "font": {
           "color": "#2a3f5f"
          },
          "geo": {
           "bgcolor": "white",
           "lakecolor": "white",
           "landcolor": "white",
           "showlakes": true,
           "showland": true,
           "subunitcolor": "#C8D4E3"
          },
          "hoverlabel": {
           "align": "left"
          },
          "hovermode": "closest",
          "mapbox": {
           "style": "light"
          },
          "paper_bgcolor": "white",
          "plot_bgcolor": "white",
          "polar": {
           "angularaxis": {
            "gridcolor": "#EBF0F8",
            "linecolor": "#EBF0F8",
            "ticks": ""
           },
           "bgcolor": "white",
           "radialaxis": {
            "gridcolor": "#EBF0F8",
            "linecolor": "#EBF0F8",
            "ticks": ""
           }
          },
          "scene": {
           "xaxis": {
            "backgroundcolor": "white",
            "gridcolor": "#DFE8F3",
            "gridwidth": 2,
            "linecolor": "#EBF0F8",
            "showbackground": true,
            "ticks": "",
            "zerolinecolor": "#EBF0F8"
           },
           "yaxis": {
            "backgroundcolor": "white",
            "gridcolor": "#DFE8F3",
            "gridwidth": 2,
            "linecolor": "#EBF0F8",
            "showbackground": true,
            "ticks": "",
            "zerolinecolor": "#EBF0F8"
           },
           "zaxis": {
            "backgroundcolor": "white",
            "gridcolor": "#DFE8F3",
            "gridwidth": 2,
            "linecolor": "#EBF0F8",
            "showbackground": true,
            "ticks": "",
            "zerolinecolor": "#EBF0F8"
           }
          },
          "shapedefaults": {
           "line": {
            "color": "#2a3f5f"
           }
          },
          "ternary": {
           "aaxis": {
            "gridcolor": "#DFE8F3",
            "linecolor": "#A2B1C6",
            "ticks": ""
           },
           "baxis": {
            "gridcolor": "#DFE8F3",
            "linecolor": "#A2B1C6",
            "ticks": ""
           },
           "bgcolor": "white",
           "caxis": {
            "gridcolor": "#DFE8F3",
            "linecolor": "#A2B1C6",
            "ticks": ""
           }
          },
          "title": {
           "x": 0.05
          },
          "xaxis": {
           "automargin": true,
           "gridcolor": "#EBF0F8",
           "linecolor": "#EBF0F8",
           "ticks": "",
           "title": {
            "standoff": 15
           },
           "zerolinecolor": "#EBF0F8",
           "zerolinewidth": 2
          },
          "yaxis": {
           "automargin": true,
           "gridcolor": "#EBF0F8",
           "linecolor": "#EBF0F8",
           "ticks": "",
           "title": {
            "standoff": 15
           },
           "zerolinecolor": "#EBF0F8",
           "zerolinewidth": 2
          }
         }
        },
        "title": {
         "text": "Seasonal Tendency by Month"
        },
        "width": 1000,
        "xaxis": {
         "anchor": "y",
         "domain": [
          0,
          1
         ],
         "title": {
          "text": "Month"
         }
        },
        "yaxis": {
         "anchor": "x",
         "domain": [
          0,
          1
         ],
         "tickformat": ".2f",
         "title": {
          "text": "% Change"
         }
        }
       }
      }
     },
     "metadata": {},
     "output_type": "display_data"
    }
   ],
   "source": [
    "plot_candlestick(eurusd_M, title=\"EURUSD - Monthly Chart\", show_volume=True, show_swings=True, timeframe='M', start_date='2025-01-01', end_date='2025-07-21')\n",
    "plot_candlestick(eurusd_W, title=\"EURUSD - Weekly Chart\", show_volume=True, show_swings=True, timeframe='W', start_date='2025-01-01', end_date='2025-07-21')\n",
    "plot_candlestick(eurusd_D, title=\"EURUSD - Daily Chart\", show_volume=True, show_swings=True, timeframe='D', start_date='2025-01-01', end_date='2025-07-21')\n",
    "plot_cot_index_with_extremes_plotly(df, weeks=26, upperExtreme=80, lowerExtreme=20, start_date='2025-01-01', end_date='2025-07-21', )\n",
    "plot_seasonal_tendency(eurusd_M)\n"
   ]
  }
 ],
 "metadata": {
  "kernelspec": {
   "display_name": "Python 3",
   "language": "python",
   "name": "python3"
  },
  "language_info": {
   "codemirror_mode": {
    "name": "ipython",
    "version": 3
   },
   "file_extension": ".py",
   "mimetype": "text/x-python",
   "name": "python",
   "nbconvert_exporter": "python",
   "pygments_lexer": "ipython3",
   "version": "3.11.9"
  }
 },
 "nbformat": 4,
 "nbformat_minor": 5
}

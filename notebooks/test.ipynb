{
 "cells": [
  {
   "cell_type": "code",
   "execution_count": 1,
   "id": "2db9de89",
   "metadata": {},
   "outputs": [],
   "source": [
    "import sys\n",
    "import os\n",
    "sys.path.append(os.path.abspath(\"../src\"))"
   ]
  },
  {
   "cell_type": "code",
   "execution_count": null,
   "id": "9726c907",
   "metadata": {},
   "outputs": [
    {
     "name": "stdout",
     "output_type": "stream",
     "text": [
      "legacy_fut\n",
      "Selected: COT Legacy report. Futures only.\n"
     ]
    }
   ],
   "source": [
    "from cot_reports import cot_all_reports\n",
    "cot_data_tuple = cot_all_reports(store_txt=True, verbose=True)\n",
    "legacy_fut = cot_data_tuple[0]"
   ]
  },
  {
   "cell_type": "code",
   "execution_count": null,
   "id": "28374d2d",
   "metadata": {},
   "outputs": [],
   "source": [
    "from utils.data_loader import load_portfolio_data\n",
    "\n",
    "eurusd = load_portfolio_data(category=\"forex\", year = 2, legacy_fut= legacy_fut)"
   ]
  }
 ],
 "metadata": {
  "kernelspec": {
   "display_name": "Python 3",
   "language": "python",
   "name": "python3"
  },
  "language_info": {
   "codemirror_mode": {
    "name": "ipython",
    "version": 3
   },
   "file_extension": ".py",
   "mimetype": "text/x-python",
   "name": "python",
   "nbconvert_exporter": "python",
   "pygments_lexer": "ipython3",
   "version": "3.11.9"
  }
 },
 "nbformat": 4,
 "nbformat_minor": 5
}

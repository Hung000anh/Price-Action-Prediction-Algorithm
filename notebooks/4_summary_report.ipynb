{
 "cells": [
  {
   "cell_type": "code",
   "execution_count": null,
   "id": "15e25da2",
   "metadata": {},
   "outputs": [],
   "source": [
    "from cot_reports import cot_all_reports\n",
    "cot_data_tuple = cot_all_reports(store_txt=True, verbose=True)\n",
    "legacy_fut = cot_data_tuple[0]\n",
    "\n",
    "import pickle\n",
    "\n",
    "# Lưu dữ liệu\n",
    "with open(\"legacy_fut.pkl\", \"wb\") as f:\n",
    "    pickle.dump(legacy_fut, f)"
   ]
  },
  {
   "cell_type": "code",
   "execution_count": 1,
   "id": "4ebf512c",
   "metadata": {},
   "outputs": [
    {
     "name": "stdout",
     "output_type": "stream",
     "text": [
      "⏳ Loading data for EURUSD…\n",
      "Loading GDP_Growth → ECONOMICS:EUGDPYY (3M)\n",
      "Loading Interest_Rate → ECONOMICS:EUINTR (1M)\n",
      "Loading Inflation_Rate → ECONOMICS:EUIRYY (1M)\n",
      "Loading CPI → ECONOMICS:EUCPI (1M)\n",
      "Loading PPI → ECONOMICS:EUPPI (1M)\n",
      "Loading Unemployment → ECONOMICS:EUUR (1M)\n",
      "Loading Trade_Balance → ECONOMICS:EUBOT (1M)\n",
      "Loading Gov_Debt → ECONOMICS:EUGDG (12M)\n",
      "Loading Consumer_Confidence → ECONOMICS:EUCCI (1M)\n",
      "Loading Retail_Sales → ECONOMICS:EURSMM (1M)\n",
      "Loading Money_Supply → ECONOMICS:EUM2 (1M)\n",
      "Latest FX rate (EURUSD) 2025-07-24: 1.17535\n"
     ]
    }
   ],
   "source": [
    "import pickle\n",
    "\n",
    "with open(\"legacy_fut.pkl\", \"rb\") as f:\n",
    "    legacy_fut = pickle.load(f)\n",
    "\n",
    "import sys\n",
    "import os\n",
    "sys.path.append(os.path.abspath(\"../src\"))\n",
    "\n",
    "from utils.data_loader import load_portfolio_data\n",
    "forex_data = load_portfolio_data(\"forex\", 30, legacy_fut=legacy_fut)"
   ]
  },
  {
   "cell_type": "code",
   "execution_count": 1,
   "id": "908bdb82",
   "metadata": {},
   "outputs": [],
   "source": [
    "import sys\n",
    "import os\n",
    "import pickle\n",
    "sys.path.append(os.path.abspath(\"../src\"))\n",
    "\n",
    "with open(\"eurusd.pkl\", \"rb\") as f:\n",
    "    forex_data = pickle.load(f)"
   ]
  },
  {
   "cell_type": "code",
   "execution_count": 2,
   "id": "cfa5ca98",
   "metadata": {},
   "outputs": [],
   "source": [
    "\n",
    "from reporting.summary_generator import generate_summary_report"
   ]
  },
  {
   "cell_type": "code",
   "execution_count": 3,
   "id": "867e303c",
   "metadata": {},
   "outputs": [
    {
     "name": "stdout",
     "output_type": "stream",
     "text": [
      "╒══════════╤═══════════════════╤═══════════════════╤═══════════════════╤══════════════════════╤══════════════════════╤══════════════════════╤════════════════════════════╤═══════════════╤═══════════════╤════════════════╤════════════════╤════════════════╤═════════╕\n",
      "│ Symbol   │ MA D (30 60 90)   │ MA W (30 60 90)   │ MA M (30 60 90)   │ Structure D (5)      │ Structure W (4)      │ Structure M (3)      │ COT                        │ Seasonal 2Y   │ Seasonal 5Y   │ Seasonal 10Y   │ Seasonal 15Y   │ Seasonal 20Y   │   Score │\n",
      "╞══════════╪═══════════════════╪═══════════════════╪═══════════════════╪══════════════════════╪══════════════════════╪══════════════════════╪════════════════════════════╪═══════════════╪═══════════════╪════════════════╪════════════════╪════════════════╪═════════╡\n",
      "│ EURUSD   │ Uptrend           │ Uptrend           │ Downtrend         │ Uptrend              │ Uptrend              │ Divergence           │ Downtrend                  │ Bullish       │ Bullish       │ Bullish        │ Bullish        │ Bullish        │     nan │\n",
      "│          │ Date: 2025-06-30  │ Date: 2025-06-29  │ Date: 2024-12-31  │ Highs:               │ Highs:               │ Highs:               │ Date: 2025-06-27           │ Avgs: 0.520%  │ Avgs: 0.671%  │ Avgs: 0.396%   │ Avgs: 0.454%   │ Avgs: 0.426%   │         │\n",
      "│          │ MA30: 1.14859     │ MA30: 1.09142     │ MA30: 1.06815     │ 2025-06-11:1.16311,  │ 2024-09-22:1.12138,  │ 2023-11-30:1.11393,  │ Commercial COT Index: 0.00 │               │               │                │                │                │         │\n",
      "│          │ MA60: 1.13888     │ MA60: 1.08855     │ MA60: 1.10677     │ 2025-06-30:1.18300   │ 2025-04-20:1.15729   │ 2024-09-01:1.12138   │ Retail COT Index: 84.74    │               │               │                │                │                │         │\n",
      "│          │ MA90: 1.11909     │ MA90: 1.08613     │ MA90: 1.12212     │ Lows:                │ Lows:                │ Lows:                │                            │               │               │                │                │                │         │\n",
      "│          │                   │                   │                   │ 2025-06-18:1.14458,  │ 2025-01-12:1.01766,  │ 2024-03-31:1.06011,  │                            │               │               │                │                │                │         │\n",
      "│          │                   │                   │                   │ 2025-07-16:1.15564   │ 2025-05-11:1.10649   │ 2024-12-31:1.01766   │                            │               │               │                │                │                │         │\n",
      "╘══════════╧═══════════════════╧═══════════════════╧═══════════════════╧══════════════════════╧══════════════════════╧══════════════════════╧════════════════════════════╧═══════════════╧═══════════════╧════════════════╧════════════════╧════════════════╧═════════╛\n"
     ]
    }
   ],
   "source": [
    "generate_summary_report(forex_data)\n"
   ]
  }
 ],
 "metadata": {
  "kernelspec": {
   "display_name": "Python 3",
   "language": "python",
   "name": "python3"
  },
  "language_info": {
   "codemirror_mode": {
    "name": "ipython",
    "version": 3
   },
   "file_extension": ".py",
   "mimetype": "text/x-python",
   "name": "python",
   "nbconvert_exporter": "python",
   "pygments_lexer": "ipython3",
   "version": "3.11.9"
  }
 },
 "nbformat": 4,
 "nbformat_minor": 5
}
